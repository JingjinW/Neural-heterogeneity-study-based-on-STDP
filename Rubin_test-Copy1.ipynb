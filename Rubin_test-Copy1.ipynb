{
 "cells": [
  {
   "cell_type": "code",
   "execution_count": null,
   "metadata": {},
   "outputs": [],
   "source": [
    "# checkpoint 10/27/18 \n",
    "#  SINGLE SOMA works with Ina Ik Ica chi is the old version.\n",
    "#  Icoup = 0."
   ]
  },
  {
   "cell_type": "code",
   "execution_count": 1,
   "metadata": {},
   "outputs": [],
   "source": [
    "from brian2 import *\n",
    "from numpy import matlib\n",
    "import numpy as np\n"
   ]
  },
  {
   "cell_type": "code",
   "execution_count": 5,
   "metadata": {},
   "outputs": [],
   "source": [
    "start_scope()\n",
    "\n",
    "\n",
    "# FUNCTION SECTION\n",
    "zetap = 30.  # This is 40 in Poirazi paper\n",
    "tempc = 23.*kelvin\n",
    "\n",
    "ca = 2. # ca_out, unitless\n",
    "\n",
    "xx = 0.0853*(273.16 + tempc/kelvin)/2  # kelvin\n",
    "# xx = np.asarray(0.0853*(273.16 + tempc/kelvin)/2)  # kelvin\n",
    "tadj = 2.3**((tempc/kelvin-23)/10)   \n",
    "# unitless\n",
    "q = 96480/(8.315*(273.16+tempc/kelvin))  \n",
    "qt = 5**((tempc/kelvin-24)/10)  \n",
    "\n",
    "qma = 0.000480*(1/ms)\n",
    "qmb = 0.280000*(1/ms)\n",
    "qhat = 1.\n",
    "\n",
    "\n",
    "\n",
    "@implementation('cython',\"\"\"\n",
    "def zeta(v):\n",
    "    return -1.5-(1./(1.+exp((v+30.)/5.))) \n",
    "\"\"\")\n",
    "@check_units(v=1, result=1)\n",
    "def zeta(v):\n",
    "    return -1.5-(1./(1.+exp((v+30.)/5.))) \n",
    "# zeta.stateless = True\n",
    "\n",
    "@implementation('cython',\"\"\"\n",
    "def zeta2(v):\n",
    "    return -1.8-(1/(1+exp((v+40)/5)))  \n",
    "\"\"\")\n",
    "@check_units(v=1, result=1)\n",
    "def zeta2(v):\n",
    "    return -1.8-(1/(1+exp((v+40)/5)))  \n",
    "# zeta2.stateless = True\n",
    "\n",
    "\n",
    "\n",
    "\n",
    "# @implementation('cython',\"\"\"\n",
    "# def eff(z):\n",
    "#     return (1-z/2)*eff2(z)+(z/(exp(z)-1))*eff3(z) \n",
    "# \"\"\")\n",
    "@implementation('numpy',discard_units=True)\n",
    "@check_units(z=1, result=1)  # z is volt, so when used should do eff(z/mV). see ghk(volt)\n",
    "def eff(z):\n",
    "    return (1-z/2)*np.heaviside(0.0001-abs(z), 1)+(z/(exp(z)-1))*np.heaviside(abs(z)-0.0001, 1)  \n",
    "\n",
    "#     return (1-z/2)*eff2(z)+(z/(exp(z)-1))*eff3(z)  \n",
    "\n",
    "# @implementation('numpy')\n",
    "# @check_units(z=1, result=1)  \n",
    "# def eff2(z):\n",
    "#     return np.heaviside(0.0001-abs(z), 1)  \n",
    "\n",
    "\n",
    "# @implementation('numpy')\n",
    "# @check_units(z=1, result=1)  \n",
    "# def eff3(z):\n",
    "#     return np.heaviside(abs(z)-0.0001, 1)  \n",
    "\n",
    "# ,namespace = {'xx':0.0853*(273.16 + tempc/kelvin)/2, 'ca':2.}\n",
    "# @implementation('cython', \"\"\"\n",
    "# def ghk(v,chi):\n",
    "#     xx = 0.0853*(273.16 + tempc/kelvin)/2  # kelvin\n",
    "#     ca = 2. # ca_out, unitless\n",
    "#     return -xx*(1-((chi/ca)*exp(v/xx)))*eff(v/xx)  \n",
    "# \"\"\",namespace = {'xx':xx, 'ca':2.})\n",
    "# # namespace = {'xx':xx, 'ca':2.}\n",
    "# @check_units(v=1, chi = 1, result=1)\n",
    "# def ghk(v,chi):\n",
    "#     return -xx*(1-((chi/ca)*exp(v/xx)))*eff(v/xx)  \n",
    "\n",
    "\n",
    "@implementation('cython',\"\"\"\n",
    "def salfa(v):\n",
    "    return -0.055*(v+27.01)/(exp((-v-27.01)/3.8)-1) \n",
    "\"\"\")\n",
    "@check_units(v=1, result=1)\n",
    "def salfa(v):\n",
    "    return -0.055*(v+27.01)/(exp((-v-27.01)/3.8)-1)  \n",
    "\n",
    "\n",
    "@implementation('cython',\"\"\"\n",
    "def sbeta(v):\n",
    "    return 0.94*exp((-v-63.01)/17) \n",
    "\"\"\")\n",
    "@check_units(v=1, result=1)\n",
    "def sbeta(v):\n",
    "    return 0.94*exp((-v-63.01)/17) \n",
    "# sbeta.stateless = True\n",
    "\n",
    "t_st = 10*defaultclock.dt\n",
    "# impulse_duration = period*1.1  # 1.25*ms\n",
    "impulse_str = 62.5*uamp*cm**-2\n",
    "period = 100*ms\n",
    "\n",
    "@check_units(t=ms, result=1)\n",
    "def frost(t):\n",
    "    return (np.heaviside((t-t_st)/ms,0)*np.heaviside(sin(2*pi*(t-t_st-period)/period),1)\\\n",
    "            *np.heaviside(sin(2*pi*(t-t_st-period*1.4)/period),1))"
   ]
  },
  {
   "cell_type": "code",
   "execution_count": 6,
   "metadata": {},
   "outputs": [],
   "source": [
    "\n",
    "# start_scope()\n",
    "\n",
    "\n",
    "Ne = 1\n",
    "\n",
    "# some calcium-related vars, table 2\n",
    "pHC = 4.0*umolar\n",
    "aHC = 0.6*umolar\n",
    "pHN = 4.\n",
    "aHN = 3.\n",
    "alphav = 1.\n",
    "alphab = 5.\n",
    "alphad = 1.\n",
    "thetav = 2.*umolar\n",
    "thetad = 2.6\n",
    "thetab = 0.55\n",
    "Cp = 5.\n",
    "Cd = 4.\n",
    "taup = 500*ms\n",
    "taua = 5*ms\n",
    "tauv = 10*ms\n",
    "taud = 250*ms\n",
    "taub = 40*ms\n",
    "sigmav = -0.05*umolar\n",
    "sigmad = -0.01\n",
    "sigmab = -0.02\n",
    "p = 0.3\n",
    "d = 0.01\n",
    "kd = -0.002\n",
    "kp = -0.1\n",
    "\n",
    "# some calcium-related vars, concentration\n",
    "phi = 0.01*umolar/ms/(uamp*cm**-2)\n",
    "beta = 0.083/ms\n",
    "chi0 = 0.05*umolar\n",
    "nbuff = 6.*umolar\n",
    "\n",
    "\n",
    "\n",
    "# E cells stats\n",
    "Cme = 1*ufarad/cm**2\n",
    "Ele = -67*mV\n",
    "ENae = 50*mV\n",
    "Ek = -100*mV\n",
    "gle = 0.1*msiemens/cm**2\n",
    "gKe = 80*msiemens/cm**2\n",
    "\n",
    "# AMPA E-E\n",
    "syn_mod = 1.\n",
    "\n",
    "gampae = 0.05*syn_mod*msiemens/cm**2\n",
    "\n",
    "# gampae = 0.00*syn_mod/(Ne-1)*msiemens/cm**2\n",
    "\n",
    "#ggabae = 0.03*syn_mod/(Ni)*msiemens/cm**2\n",
    "\n",
    "\n",
    "# NMDA (excitatory)\n",
    "g_syn_nmda = 0.3*syn_mod*msiemens/cm**2\n",
    "g_cal_nmda_0 = 25*syn_mod*msiemens/cm**2\n",
    "# g_NMDA_I = 0.258 * nS * 800. / N_E\n",
    "V_cal = 140*mV\n",
    "tausnmdar = 1*ms\n",
    "tausnmdad = 100*ms\n",
    "# Mg2 = 1.\n",
    "Mg2 = 2.\n",
    "\n",
    "# Ileak \n",
    "glsoma = 0.1*msiemens/cm**2\n",
    "El = -70.*mV\n",
    "\n",
    "# Ina params\n",
    "gNae = 30*msiemens/cm**2\n",
    "naatt = 1.\n",
    "taumna = 0.05*ms\n",
    "# tauhna = 0.5*ms   # dendrite\n",
    "tauhna = 1.*ms  # soma\n",
    "\n",
    "\n",
    "\n",
    "# Ik params\n",
    "gkdr = 14*msiemens/cm**2\n",
    "taukdr = 3.5*ms\n",
    "\n",
    "# Ia\n",
    "ga = 7.5*msiemens/cm**2\n",
    "\n",
    "# Imahp\n",
    "gmahp = 25*msiemens/cm**2\n",
    "\n",
    "\n",
    "# TEST\n",
    "# Isyn = 0*amp*meter**-2\n",
    "# Ileak = 0*amp*meter**-2\n",
    "# I_cal_nmda = 0*amp*meter**-2\n",
    "# Icoup = 0*amp*meter**-2\n",
    "# gNae = 0*msiemens/cm**2\n",
    "# # ga = 0*msiemens/cm**2\n",
    "# gmahp = 0*msiemens/cm**2\n",
    "# gkdr = 0*msiemens/cm**2\n",
    "# E cells stats\n",
    "Cme = 1*ufarad/cm**2\n",
    "Ele = -67*mV\n",
    "ENae = 50*mV\n",
    "Ek = -100*mV\n",
    "gle = 0.1*msiemens/cm**2\n",
    "gKe = 80*msiemens/cm**2\n",
    "\n",
    "# Ina\n",
    "gNasoma = 30*msiemens/cm**2\n",
    "ENa = 60*mV\n",
    "\n",
    "# Ik\n",
    "gkdrsoma = 14*msiemens/cm**2\n",
    "gasoma = 7.5*msiemens/cm**2\n",
    "gmahpsoma = 25*msiemens/cm**2\n",
    "Ek = -80*mV\n",
    "btaumod = 7.\n",
    "\n",
    "# Ica\n",
    "gcalsoma = 0.*uamp*cm**-2\n",
    "\n",
    "\n",
    "# chi\n",
    "phisoma = 0.01*umolar/ms/(uamp*cm**-2)\n",
    "\n",
    "\n",
    "\n",
    "eqs_soma = '''\n",
    "#dv/dt = ( ( Ileak   +Ica))/Cme : volt\n",
    "dv/dt = ( ( Ileak +  Ina + Ik + Ica + Icoup + Iin))/Cme : volt\n",
    "\n",
    "\n",
    "Ileak = glsoma * (El-v) : amp*meter**-2\n",
    "\n",
    "\n",
    "Ina = gNasoma * mna**2 * hna * (ENa-v) : amp*meter**-2\n",
    "# soma activation\n",
    "alphams = 0.32*(-46.9-v/mV)/(exp((-46.9-v/mV)/4.0)-1.0)/ms :Hz\n",
    "betams = 0.28*(v/mV+19.9)/(exp((v/mV+19.9)/5.0)-1.0)/ms :Hz\n",
    "mna = alphams/(alphams+betams) : 1\n",
    "dhna/dt=alphahs-(alphahs+betahs)*hna  :1\n",
    "alphahs = 0.128*exp((-43.0-v/mV)/18.0)/ms :Hz\n",
    "betahs = 4.0/(1.0+exp((-20.0-v/mV)/5.0))/ms :Hz\n",
    "\n",
    "\n",
    "\n",
    "Ik = Ia + Ikdr + Imahp : amp*meter**-2\n",
    "\n",
    "Ikdr = gkdrsoma * n_soma * (Ek - v) : amp*meter**-2\n",
    "dn_soma/dt = alphans-(alphans+betans)*n_soma : 1 \n",
    "alphans =  0.016*(-24.9-v/mV)/(exp((-24.9-v/mV)/5.0)-1.0)/ms : Hz  \n",
    "betans =   0.25*exp(-1.0-0.025*v/mV)/ms  : Hz\n",
    "\n",
    "Ia = gasoma * a_soma * b_soma * (Ek-v) : amp*meter**-2\n",
    "da_soma/dt=(a_somainf-a_soma)/(a_somatau)  : 1\n",
    "a_somainf=1/(1+a_smaalf)  : 1\n",
    "a_smaalf=exp(0.001*zeta(v/mV)*(v/mV-11)*q)  : 1\n",
    "a_smabet=exp(0.00055*q*(v/mV-11)*zeta(v/mV)) : 1\n",
    "a_somatau=clip(a_smabet/((1+a_smaalf)*qt*0.05),0.1, inf)*ms : second\n",
    "db_soma/dt=(b_somainf-b_soma)/(b_somatau) :1\n",
    "b_somainf = 0.3+0.7/(1+exp(0.02*(v/mV+63.5)*q)) :1   \n",
    "b_somatau = btaumod*clip(0.11*(v/mV+62),2,inf)*ms : second\n",
    "\n",
    "Imahp = gmahpsoma * qm_soma * (Ek - v) : amp*meter**-2\n",
    "dqm_soma/dt = (qm_smainf-qm_soma)/(qm_smatau)  :1\n",
    "qm_smainf = qhat*qm_smaalf*qm_smatau  : 1\n",
    "qm_smaalf = qma*chi/umolar/(0.001*chi/umolar + 0.18*exp(-1.68*v/mV*q)) : Hz \n",
    "qm_smabet = (qmb*exp(-0.022*v/mV*q))/(exp(-0.022*v/mV*q)+0.001*chi/umolar) : Hz  \n",
    "qm_smatau = 1/(qm_smaalf+qm_smabet)  : second\n",
    "\n",
    "\n",
    "\n",
    "Ica = -gcalsoma*s_soma*ghk*(1/(1+chi/umolar)) : amp*meter**-2\n",
    "ghk = -xx*(1-((chi/umolar/ca)*exp(v/mV/xx)))*eff(v/mV/xx) :1\n",
    "ds_soma/dt=(s_somainf-s_soma)/(s_somatau)  : 1\n",
    "s_somainf=salfa(v/mV)/(salfa(v/mV)+sbeta(v/mV))  : 1\n",
    "s_somatau=1/(5*(salfa(v/mV)+sbeta(v/mV)))*ms  : second\n",
    "\n",
    "dchi/dt = phisoma*Ica - beta*(chi-chi0) -(beta/nbuff)*chi**2 : mmolar\n",
    "dP/dt = ((10*(chi/pHC)**pHN / (1+(chi/pHC)**pHN))-Cp*A*P)/taup : 1\n",
    "dA/dt = (((chi/aHC)**aHN/(1+(chi/aHC)**aHN))-A)/taua : 1\n",
    "dV/dt = ( alphav/(1+exp((chi-thetav)/sigmav)) -V)/tauv : 1\n",
    "dB/dt = ( alphab/(1+exp((A-thetab)/sigmab)) -B -Cd*V*B)/taub : 1\n",
    "dD/dt = ( alphad/(1+exp((B-thetad)/sigmad)) -D)/taud : 1\n",
    "\n",
    "'''\n",
    "# dchi/dt = 0*mmolar/ms : mmolar\n",
    "\n",
    "\n",
    "\n",
    "# Ia = gasoma * a_soma * b_soma * (Ek-v) : amp*meter**-2\n",
    "# da_soma/dt=(a_somainf-a_soma)/(a_somatau)  : 1\n",
    "# a_somainf=1/(1+a_smaalf)  : 1\n",
    "# a_smaalf=exp(0.001*zeta(v/mV)*(v/mV-11)*q)  : 1\n",
    "# a_smabet=exp(0.00055*q*(v/mV-11)*zeta(v/mV)) : 1\n",
    "# a_somatau=clip(a_smabet/((1+a_smaalf)*qt*0.05),0.1, inf)*ms : second\n",
    "# db_soma/dt=(b_somainf-b_soma)/(b_somatau) :1\n",
    "# b_somainf = 0.3+0.7/(1+exp(0.02*(v/mV+63.5)*q)) :1   \n",
    "# b_somatau = btaumod*clip(0.11*(v/mV+62),2,inf)*ms : second\n",
    "\n",
    "Icoup = 0*amp*meter**-2\n",
    "Iin = 1.0*uamp*cm**-2\n",
    "\n",
    "# db_soma/dt=(b_somainf-b_soma)/(b_somatau) :1\n",
    "# b_somainf = 0.3+0.7/(1+exp(0.02*(v/mV+63.5)*q)) :1   \n",
    "# #b_somatau = btaumod*clip(0.11*(v/mV+62),2,inf)*ms : second\n",
    "# b_somatau = 2*ms : second\n",
    "    \n",
    "Ecells = NeuronGroup(Ne, eqs_soma, threshold='v>0*mV',refractory='v > 0*mV',method='rk4')\n",
    "Ecells.v = -50*mV\n",
    "Ecells.chi = 0.05*umolar\n",
    "\n",
    "#a_somatau = 0.2*ms# \n",
    "Me = StateMonitor(Ecells, {'v','chi'} , record=True)\n",
    "\n"
   ]
  },
  {
   "cell_type": "code",
   "execution_count": 7,
   "metadata": {},
   "outputs": [
    {
     "name": "stdout",
     "output_type": "stream",
     "text": [
      "Starting simulation at t=0. s for a duration of 20. ms\n",
      "0.02 (100%) simulated in < 1s\n"
     ]
    }
   ],
   "source": [
    "duration = 20*ms\n",
    "run(duration,report='stdout')"
   ]
  },
  {
   "cell_type": "code",
   "execution_count": 17,
   "metadata": {},
   "outputs": [
    {
     "data": {
      "text/plain": [
       "[<matplotlib.lines.Line2D at 0x123879f60>]"
      ]
     },
     "execution_count": 17,
     "metadata": {},
     "output_type": "execute_result"
    },
    {
     "data": {
      "image/png": "[encoded data removed]",
      "text/plain": [
       "<Figure size 432x288 with 1 Axes>"
      ]
     },
     "metadata": {},
     "output_type": "display_data"
    }
   ],
   "source": [
    "plot(Me.t/ms,Me[0].chi/umolar)\n",
    "# plot(Me.t/ms,Me[0].v/mV)"
   ]
  },
  {
   "cell_type": "code",
   "execution_count": null,
   "metadata": {},
   "outputs": [],
   "source": []
  },
  {
   "cell_type": "code",
   "execution_count": 59,
   "metadata": {},
   "outputs": [
    {
     "data": {
      "text/plain": [
       "[<matplotlib.lines.Line2D at 0x120bac6d8>]"
      ]
     },
     "execution_count": 59,
     "metadata": {},
     "output_type": "execute_result"
    },
    {
     "data": {
      "image/png": "[encoded data removed]",
      "text/plain": [
       "<Figure size 432x288 with 1 Axes>"
      ]
     },
     "metadata": {},
     "output_type": "display_data"
    }
   ],
   "source": [
    "v= linspace(-70,50,1001)*mV\n",
    "fv = exp(0.00055*q*(v/mV-11)*zeta(v))\n",
    "#fv = 0.016*(-24.9-v/mV)/(exp((-24.9-v/mV)/5.0)-1.0)\n",
    "fv2 = 1/(1+fv)\n",
    "plot(v,fv2)"
   ]
  },
  {
   "cell_type": "code",
   "execution_count": 108,
   "metadata": {},
   "outputs": [
    {
     "data": {
      "text/plain": [
       "[<matplotlib.lines.Line2D at 0x120d0c4e0>]"
      ]
     },
     "execution_count": 108,
     "metadata": {},
     "output_type": "execute_result"
    },
    {
     "data": {
      "image/png": "[encoded data removed]",
      "text/plain": [
       "<Figure size 432x288 with 1 Axes>"
      ]
     },
     "metadata": {},
     "output_type": "display_data"
    }
   ],
   "source": [
    "v= linspace(-70,60,1001)*mV\n",
    "fv1=exp(0.001*zeta(v)*(v/mV-11)*q)  \n",
    "fv2=exp(0.00055*q*(v/mV-11)*zeta(v))\n",
    "# dfv=(fvinf-a_soma)/(a_somatau) \n",
    "zetav = zeta(v)\n",
    "fvinf=1/(1+fv1) \n",
    "fvtau=np.maximum(fv2/((1+fv1)*qt*0.05),0.1*np.ones(1001))\n",
    "plot(v/mV,fvtau)\n",
    "# xlim(-60,-40)\n",
    "# ylim(0,0.01)"
   ]
  },
  {
   "cell_type": "code",
   "execution_count": 67,
   "metadata": {},
   "outputs": [
    {
     "data": {
      "text/plain": [
       "array([0.56142975, 0.56494181, 0.56847265, ..., 5.98774474, 5.96814279,\n",
       "       5.94857873])"
      ]
     },
     "execution_count": 67,
     "metadata": {},
     "output_type": "execute_result"
    }
   ],
   "source": [
    "fv2/((1+fv1)*qt*0.05)-0.1*np.ones(1001)"
   ]
  },
  {
   "cell_type": "code",
   "execution_count": 107,
   "metadata": {},
   "outputs": [
    {
     "data": {
      "text/plain": [
       "[<matplotlib.lines.Line2D at 0x11f6b8b70>]"
      ]
     },
     "execution_count": 107,
     "metadata": {},
     "output_type": "execute_result"
    },
    {
     "data": {
      "image/png": "[encoded data removed]",
      "text/plain": [
       "<Figure size 432x288 with 1 Axes>"
      ]
     },
     "metadata": {},
     "output_type": "display_data"
    }
   ],
   "source": [
    "v= linspace(-70,60,1001)*mV\n",
    "\n",
    "alpham = (0.32/mV) * (v+54*mV) / (-exp((-v-54*mV) / (4*mV)) + 1) \n",
    "betam = (0.28/mV) * (v+27*mV)/ (exp((v+27*mV)/(5*mV)) - 1)\n",
    "taum = 1/(alpham+betam)\n",
    "minf = alpham*taum\n",
    "\n",
    "plot(v/mV,taum)"
   ]
  },
  {
   "cell_type": "code",
   "execution_count": 8,
   "metadata": {},
   "outputs": [
    {
     "data": {
      "text/plain": [
       "[<matplotlib.lines.Line2D at 0x11c316d30>]"
      ]
     },
     "execution_count": 8,
     "metadata": {},
     "output_type": "execute_result"
    },
    {
     "data": {
      "image/png": "[encoded data removed]",
      "text/plain": [
       "<Figure size 432x288 with 1 Axes>"
      ]
     },
     "metadata": {},
     "output_type": "display_data"
    }
   ],
   "source": [
    "v= linspace(-80,80,1001)*mV\n",
    "\n",
    "\n",
    "zetav = zeta(v/mV)\n",
    "plot(v/mV,zetav)"
   ]
  },
  {
   "cell_type": "code",
   "execution_count": null,
   "metadata": {},
   "outputs": [],
   "source": []
  },
  {
   "cell_type": "code",
   "execution_count": null,
   "metadata": {},
   "outputs": [],
   "source": []
  },
  {
   "cell_type": "code",
   "execution_count": null,
   "metadata": {},
   "outputs": [],
   "source": []
  },
  {
   "cell_type": "code",
   "execution_count": 25,
   "metadata": {},
   "outputs": [
    {
     "data": {
      "text/plain": [
       "1.0"
      ]
     },
     "execution_count": 25,
     "metadata": {},
     "output_type": "execute_result"
    }
   ],
   "source": [
    "np.heaviside(1,1)"
   ]
  },
  {
   "cell_type": "code",
   "execution_count": null,
   "metadata": {},
   "outputs": [],
   "source": []
  }
 ],
 "metadata": {
  "kernelspec": {
   "display_name": "Python 3",
   "language": "python",
   "name": "python3"
  },
  "language_info": {
   "codemirror_mode": {
    "name": "ipython",
    "version": 3
   },
   "file_extension": ".py",
   "mimetype": "text/x-python",
   "name": "python",
   "nbconvert_exporter": "python",
   "pygments_lexer": "ipython3",
   "version": "3.6.6"
  }
 },
 "nbformat": 4,
 "nbformat_minor": 2
}
