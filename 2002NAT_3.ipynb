{
 "cells": [
  {
   "cell_type": "markdown",
   "metadata": {},
   "source": [
    "Spike-timing-dependent synaptic modification induced by natural spike trains  \n",
    "Trying to apply this STDP rule   \n",
    "\n",
    "Using all weak E cells, interconnected, and see what happens?\n"
   ]
  },
  {
   "cell_type": "markdown",
   "metadata": {},
   "source": [
    "1. use the somewhat naive STDP rule (SONG-ABOTT)\n",
    "\n",
    "\n",
    "\n",
    "1. with STDP dt has to be small. (defaultclock.dt = 0.01*ms)"
   ]
  },
  {
   "cell_type": "code",
   "execution_count": 2,
   "metadata": {
    "collapsed": true
   },
   "outputs": [],
   "source": [
    "from brian2 import *\n",
    "import numpy as np\n",
    "import matplotlib\n",
    "import matplotlib.pyplot as plt"
   ]
  },
  {
   "cell_type": "markdown",
   "metadata": {},
   "source": [
    "SONG-ABBOTT STDP RULE"
   ]
  },
  {
   "cell_type": "code",
   "execution_count": 30,
   "metadata": {},
   "outputs": [],
   "source": [
    "start_scope()\n",
    "\n",
    "defaultclock.dt = 0.01*ms\n",
    "\n",
    "Ne = 20\n",
    "\n",
    "Cm = 1*ufarad/cm**2\n",
    "El = -67*mV\n",
    "ENa = 50*mV\n",
    "EK = -100*mV\n",
    "gl = 0.1*msiemens/cm**2\n",
    "gNa = 100*msiemens/cm**2\n",
    "gK = 80*msiemens/cm**2\n",
    "V_I = -80*mV\n",
    "V_E = 0*mV\n",
    "\n",
    "# STDP vars\n",
    "gmax = 1.0/Ne *msiemens/cm**2\n",
    "gampa0 = 0.01/Ne *msiemens/cm**2\n",
    "\n",
    "# gampa = 0.01*msiemens/cm**2\n",
    "# ggaba = 0.6*msiemens/cm**2\n",
    "\n",
    "# I = 1*amp*meter**-2\n",
    "# I = np.random.uniform(0.2, 2,Ne)*amp*meter**-2\n",
    "\n",
    "eqs = '''\n",
    "dv/dt = ( (gl * (El-v) + gNa * m**3 * h * (ENa-v) + gK * n**4 * (EK-v) + Isyn + I))/Cm : volt\n",
    "Isyn = Iampa : amp*meter**-2\n",
    "Iampa = gampa * (V_E - v) * sampa_tot : amp*meter**-2\n",
    "I : amp*meter**-2\n",
    "sampa_tot : 1\n",
    "gampa : siemens/meter**2\n",
    "#Isyn = Igaba : amp*meter**-2\n",
    "#Igaba = ggaba/Ni * (V_I - v) * sgaba_tot : amp*meter**-2\n",
    "#sgaba_tot : 1\n",
    "m = alpham / (alpham + betam) :1\n",
    "dn/dt = alphan * (1-n) - betan * n : 1\n",
    "dh/dt = alphah * (1-h) - betah * h : 1\n",
    "alpham = (0.32/mV) * (v+54*mV) / (-exp((-v-54*mV) / (4*mV)) + 1)/ms : Hz\n",
    "betam = (0.28/mV) * (v+27*mV)/ (exp((v+27*mV)/(5*mV)) - 1)/ms : Hz\n",
    "alphah = (0.128) * exp(-(v+50*mV)/(18*mV))/ms : Hz\n",
    "betah = 4/(exp((-v-27*mV) / (5*mV)) + 1)/ms : Hz\n",
    "alphan = (0.032/mV) * (v+52*mV) / (-exp(-(v+52*mV) / (5*mV)) + 1)/ms : Hz\n",
    "betan = 0.5*exp(-(v+57*mV)/(40*mV))/ms : Hz\n",
    "'''\n",
    "\n",
    "Ecells = NeuronGroup(Ne, eqs, threshold='v>0*mV',refractory='v > 0*mV',\n",
    "                method='rk4')\n",
    "Ecells.v = -60*mV\n",
    "# STDP gampa start from small value\n",
    "Ecells.gampa = gampa0\n",
    "Ecells.I = np.random.uniform(0.2, 5,Ne)*amp*meter**-2\n",
    "#Ecells.I = [0.1,1.0,(Ne-1)]*amp*meter**-2\n",
    "Me = StateMonitor(Ecells, 'v', record=True)\n",
    "\n",
    "# Synapses\n",
    "tausampar = 0.2*ms\n",
    "tausampad = 2*ms\n",
    "kplus = gampa0/2\n",
    "kminus = gampa0/3\n",
    "gdelta = 1e-6/Ne *msiemens/cm**2\n",
    "tau_plus = 10 *ms\n",
    "tau_minus = 10*ms\n",
    "\n",
    "eqs_ampa  = ''' \n",
    "sampa_tot_post = sampa : 1 (summed)\n",
    "dsampa/dt= (1+tanh(v_pre/mV/10))/2 * (1-sampa)/tausampar - sampa/tausampad : 1 (clock-driven)\n",
    "#w : 1 # synaptic weight\n",
    "#dApre/dt = -Apre / taupre : 1 (event-driven)\n",
    "#dApost/dt = -Apost / taupost : 1 (event-driven)\n",
    "'''\n",
    "\n",
    "# eqs_pre = '''\n",
    "# gampa_temp : siemens/meter**2\n",
    "# gampa_temp -= kminus*exp(t-lastspike_post)\n",
    "# gampa = clip(gampa_temp, gdelta, gmax)\n",
    "# '''\n",
    "\n",
    "# eqs_post = '''\n",
    "# gampa_temp : siemens/meter**2\n",
    "# gampa_temp += kplus*exp(lastspike_pre-t)\n",
    "# gampa = clip(gampa_temp, gdelta, gmax)\n",
    "# '''\n",
    "\n",
    "eqs_pre = '''\n",
    "gampa = clip(gampa-kminus*exp((t-lastspike_post)/tau_minus), gdelta, gmax)\n",
    "'''\n",
    "\n",
    "eqs_post = '''\n",
    "gampa = clip(gampa+kplus*exp((lastspike_pre-t)/tau_plus), gdelta, gmax)\n",
    "'''\n",
    "\n",
    "# try boolean\n",
    "# eqs_pre = '''\n",
    "# check1 = 1*(((t-lastspike_pre)/ms)<=1e-6) \n",
    "# gampa = clip(gampa-(check1*kminus*exp((t-lastspike_post)/tau_minus), gdelta, gmax)\n",
    "# '''\n",
    "\n",
    "# eqs_post = '''\n",
    "# check1 = 1*(((t-lastspike_post)/ms)<=1e-6) \n",
    "# gampa = clip(gampa+(check2)*kplus*exp((lastspike_pre-t)/tau_plus), gdelta, gmax)\n",
    "# '''\n",
    "\n",
    "# # E to E, ampa\n",
    "C_E_E = Synapses(Ecells, Ecells, model=eqs_ampa, \n",
    "                 on_pre = eqs_pre,\n",
    "                 on_post = eqs_post,\n",
    "                 method='rk4')\n",
    "# # C_E_I = Synapses(Ecells, Icells, model=eqs_ampa, method='rk4')\n",
    "C_E_E.connect(condition='i != j')\n",
    "# C_E_I.w[:] = 1\n",
    "\n",
    "\n",
    "mon = StateMonitor(C_E_E, 'gampa',record = True)\n",
    "#mon = StateMonitor(C_E_E, 'sampa_tot',record = True)\n",
    "#mon = StateMonitor(Ecells, 'v',record = True)\n",
    "\n",
    "#sp_E = SpikeMonitor(Ecells,variables='v')\n",
    "# sp_I = SpikeMonitor(Icells,variables='v')"
   ]
  },
  {
   "cell_type": "code",
   "execution_count": 31,
   "metadata": {},
   "outputs": [
    {
     "name": "stderr",
     "output_type": "stream",
     "text": [
      "WARNING    \"n\" is an internal variable of group \"neurongroup_1\", but also exists in the run namespace with the value array([152.,  38.,  38.,  19.,  19.,   0.,  38.,  19.,   0.,  57.]). The internal variable will be used. [brian2.groups.group.Group.resolve.resolution_conflict]\n",
      "WARNING    Came across an abstract code block that may not be well-defined: the outcome may depend on the order of execution. You can ignore this warning if you are sure that the order of operations does not matter. 2 lines of abstract code, first line is: \"gampa = clip(gampa + (kplus * exp(_lio_1 * (_lio_2 + lastspike_pre))), gdelta, gmax)\"\n",
      " [brian2.codegen.generators.base]\n"
     ]
    },
    {
     "name": "stdout",
     "output_type": "stream",
     "text": [
      "Starting simulation at t=0. s for a duration of 1. s\n",
      "0.7207300000000001 (72%) simulated in 10s, estimated 4s remaining.\n",
      "1.0 (100%) simulated in 13s\n"
     ]
    }
   ],
   "source": [
    "\n",
    "run(1000*ms,report='stdout')\n"
   ]
  },
  {
   "cell_type": "code",
   "execution_count": 32,
   "metadata": {},
   "outputs": [],
   "source": [
    "test_gampa =np.transpose(mon.gampa)"
   ]
  },
  {
   "cell_type": "code",
   "execution_count": 36,
   "metadata": {},
   "outputs": [
    {
     "data": {
      "image/png": "[encoded data removed]",
      "text/plain": [
       "<matplotlib.figure.Figure at 0x7fd618cf0518>"
      ]
     },
     "metadata": {},
     "output_type": "display_data"
    }
   ],
   "source": [
    "n, bins, patches = plt.hist(test_gampa[99999][:])\n",
    "plt.show()"
   ]
  },
  {
   "cell_type": "code",
   "execution_count": 32,
   "metadata": {},
   "outputs": [
    {
     "data": {
      "text/plain": [
       "1"
      ]
     },
     "execution_count": 32,
     "metadata": {},
     "output_type": "execute_result"
    }
   ],
   "source": [
    "test1 = True\n",
    "int(test1)"
   ]
  },
  {
   "cell_type": "code",
   "execution_count": 5,
   "metadata": {},
   "outputs": [
    {
     "data": {
      "text/plain": [
       "900"
      ]
     },
     "execution_count": 5,
     "metadata": {},
     "output_type": "execute_result"
    }
   ],
   "source": [
    "size(mon.gampa)"
   ]
  },
  {
   "cell_type": "code",
   "execution_count": 41,
   "metadata": {},
   "outputs": [
    {
     "data": {
      "text/latex": [
       "$5.827076209078735\\,\\mathrm{m}\\,\\mathrm{V}$"
      ],
      "text/plain": [
       "5.82707621 * mvolt"
      ]
     },
     "execution_count": 41,
     "metadata": {},
     "output_type": "execute_result"
    }
   ],
   "source": [
    "sp_E.v[1]"
   ]
  },
  {
   "cell_type": "code",
   "execution_count": 10,
   "metadata": {},
   "outputs": [
    {
     "data": {
      "text/latex": [
       "$0.001\\,\\frac{\\mathrm{S}}{\\mathrm{m}^{2}}$"
      ],
      "text/plain": [
       "0.001 * siemens / meter ** 2"
      ]
     },
     "execution_count": 10,
     "metadata": {},
     "output_type": "execute_result"
    }
   ],
   "source": [
    "kplus"
   ]
  },
  {
   "cell_type": "code",
   "execution_count": 52,
   "metadata": {
    "collapsed": true
   },
   "outputs": [],
   "source": [
    "I = np.random.uniform(0.2, 2)*amp*meter**-2"
   ]
  },
  {
   "cell_type": "code",
   "execution_count": 53,
   "metadata": {},
   "outputs": [
    {
     "data": {
      "text/latex": [
       "$0.5838550909372673\\,\\mathrm{A}\\,\\mathrm{m}^{-2}$"
      ],
      "text/plain": [
       "0.58385509 * amp * meter ** -2"
      ]
     },
     "execution_count": 53,
     "metadata": {},
     "output_type": "execute_result"
    }
   ],
   "source": [
    "I"
   ]
  },
  {
   "cell_type": "code",
   "execution_count": 25,
   "metadata": {},
   "outputs": [
    {
     "data": {
      "text/plain": [
       "<neurongroup.dt: 100. * usecond>"
      ]
     },
     "execution_count": 25,
     "metadata": {},
     "output_type": "execute_result"
    }
   ],
   "source": [
    "Ecells.dt"
   ]
  },
  {
   "cell_type": "code",
   "execution_count": 84,
   "metadata": {},
   "outputs": [
    {
     "data": {
      "text/latex": [
       "$0.29838894497823476\\,\\frac{\\mathrm{S}}{\\mathrm{m}^{2}}$"
      ],
      "text/plain": [
       "0.29838894 * siemens / meter ** 2"
      ]
     },
     "execution_count": 84,
     "metadata": {},
     "output_type": "execute_result"
    }
   ],
   "source": [
    "C_E_E.gampa[1]"
   ]
  },
  {
   "cell_type": "code",
   "execution_count": 7,
   "metadata": {},
   "outputs": [
    {
     "data": {
      "text/latex": [
       "$\\left[\\begin{matrix}0.1\\\\1.0\\\\9.0\\end{matrix}\\right]\\,\\mathrm{A}\\,\\mathrm{m}^{-2}$"
      ],
      "text/plain": [
       "array([0.1, 1. , 9. ]) * amp * meter ** -2"
      ]
     },
     "execution_count": 7,
     "metadata": {},
     "output_type": "execute_result"
    }
   ],
   "source": [
    "[0.1,1.0,(Ne-1)]*amp*meter**-2\n"
   ]
  },
  {
   "cell_type": "code",
   "execution_count": 7,
   "metadata": {},
   "outputs": [
    {
     "data": {
      "text/latex": [
       "$0.1139023378895158\\,\\frac{\\mathrm{S}}{\\mathrm{m}^{2}}$"
      ],
      "text/plain": [
       "0.11390234 * siemens / meter ** 2"
      ]
     },
     "execution_count": 7,
     "metadata": {},
     "output_type": "execute_result"
    }
   ],
   "source": [
    "max(test_gampa[1999][:])"
   ]
  },
  {
   "cell_type": "code",
   "execution_count": 26,
   "metadata": {},
   "outputs": [
    {
     "data": {
      "image/png": "[encoded data removed]",
      "text/plain": [
       "<matplotlib.figure.Figure at 0x7f57979944e0>"
      ]
     },
     "metadata": {},
     "output_type": "display_data"
    }
   ],
   "source": [
    "plt.plot(mon.gampa[9][:])\n",
    "plt.xlim(0, 10)\n",
    "#xmin, xmax = xlim() \n",
    "plt.show()"
   ]
  },
  {
   "cell_type": "code",
   "execution_count": 19,
   "metadata": {},
   "outputs": [
    {
     "data": {
      "text/plain": [
       "103.95"
      ]
     },
     "execution_count": 19,
     "metadata": {},
     "output_type": "execute_result"
    }
   ],
   "source": [
    "xmax"
   ]
  },
  {
   "cell_type": "code",
   "execution_count": 7,
   "metadata": {},
   "outputs": [
    {
     "data": {
      "image/png": "[encoded data removed]",
      "text/plain": [
       "<matplotlib.figure.Figure at 0x7fd61b8f2e80>"
      ]
     },
     "metadata": {},
     "output_type": "display_data"
    }
   ],
   "source": [
    "plt.plot(mon.sampa_tot[9][:])\n",
    "plt.xlim(0, 100)\n",
    "#xmin, xmax = xlim() \n",
    "plt.show()"
   ]
  },
  {
   "cell_type": "code",
   "execution_count": 20,
   "metadata": {},
   "outputs": [
    {
     "data": {
      "image/png": "[encoded data removed]",
      "text/plain": [
       "<matplotlib.figure.Figure at 0x7fd61911b518>"
      ]
     },
     "metadata": {},
     "output_type": "display_data"
    }
   ],
   "source": [
    "plot(mon.v[2][:])\n",
    "plt.show()"
   ]
  },
  {
   "cell_type": "code",
   "execution_count": 15,
   "metadata": {},
   "outputs": [
    {
     "data": {
      "text/plain": [
       "<neurongroup_1.dt: 100. * usecond>"
      ]
     },
     "execution_count": 15,
     "metadata": {},
     "output_type": "execute_result"
    }
   ],
   "source": [
    "Ecells.dt"
   ]
  },
  {
   "cell_type": "code",
   "execution_count": 39,
   "metadata": {},
   "outputs": [
    {
     "data": {
      "text/plain": [
       "(380, 100000)"
      ]
     },
     "execution_count": 39,
     "metadata": {},
     "output_type": "execute_result"
    }
   ],
   "source": [
    "mon.gampa.shape"
   ]
  },
  {
   "cell_type": "code",
   "execution_count": null,
   "metadata": {
    "collapsed": true
   },
   "outputs": [],
   "source": []
  }
 ],
 "metadata": {
  "kernelspec": {
   "display_name": "Python 3",
   "language": "python",
   "name": "python3"
  },
  "language_info": {
   "codemirror_mode": {
    "name": "ipython",
    "version": 3
   },
   "file_extension": ".py",
   "mimetype": "text/x-python",
   "name": "python",
   "nbconvert_exporter": "python",
   "pygments_lexer": "ipython3",
   "version": "3.6.1"
  }
 },
 "nbformat": 4,
 "nbformat_minor": 2
}
