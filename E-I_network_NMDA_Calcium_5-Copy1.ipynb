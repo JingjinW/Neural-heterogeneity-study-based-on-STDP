{
 "cells": [
  {
   "cell_type": "markdown",
   "metadata": {},
   "source": [
    "\n",
    "E-E NMDA AMPA\n",
    "E-I AMPA\n",
    "I-E GABA\n",
    "I-I GABA\n",
    "\n",
    "E-E is i!=j. All others are all to all to begin with.\n",
    "\n",
    "The goal here is to:  \n",
    "1. have a PING network with E and I.  \n",
    "2. add NMDA E-E connection and see how it goes."
   ]
  },
  {
   "cell_type": "markdown",
   "metadata": {},
   "source": [
    "Copy  \n",
    "9.4 Tuesday meeting.\n",
    "    1. Initial condition dependence check.\n",
    "        -> the strongest one seems to be stable, the 3-7 stable too.\n",
    "        -> But -1 and -2 depends on initial w value."
   ]
  },
  {
   "cell_type": "code",
   "execution_count": 1,
   "metadata": {},
   "outputs": [],
   "source": [
    "from brian2 import *\n",
    "#import numpy as np\n",
    "#import matplotlib\n",
    "# import matplotlib.pyplot as plt"
   ]
  },
  {
   "cell_type": "code",
   "execution_count": 53,
   "metadata": {},
   "outputs": [
    {
     "name": "stderr",
     "output_type": "stream",
     "text": [
      "WARNING    \"i\" is an internal variable of group \"synapses_3\", but also exists in the run namespace with the value 249999. The internal variable will be used. [brian2.groups.group.Group.resolve.resolution_conflict]\n"
     ]
    }
   ],
   "source": [
    "start_scope()\n",
    "\n",
    "defaultclock.dt = 0.02*ms\n",
    "\n",
    "Ne = 8\n",
    "Ni = 2\n",
    "V_I = -80*mV\n",
    "V_E = 0*mV\n",
    "\n",
    "\n",
    "\n",
    "# NMDA (excitatory)\n",
    "g_NMDA_E = 1.0/(Ne-1)*msiemens/cm**2\n",
    "# g_NMDA_I = 0.258 * nS * 800. / N_E\n",
    "tausnmdar = 1*ms\n",
    "tausnmdad = 100*ms\n",
    "Mg2 = 1.\n",
    "\n",
    "# some calcium-related vars, table 2\n",
    "pHC = 4*umolar\n",
    "aHC = 0.6*umolar\n",
    "pHN = 4.\n",
    "aHN = 3.\n",
    "alphav = 1.\n",
    "alphab = 5.\n",
    "alphad = 1.\n",
    "thetav = 2.*umolar\n",
    "thetad = 2.6*umolar\n",
    "thetab = 0.55*umolar\n",
    "Cp = 5.\n",
    "Cd = 4.\n",
    "taup = 500*ms\n",
    "taua = 5*ms\n",
    "tauv = 10*ms\n",
    "taud = 250*ms\n",
    "taub = 40*ms\n",
    "sigmav = -0.05*umolar\n",
    "sigmad = -0.01*umolar\n",
    "sigmab = -0.02*umolar\n",
    "p = 0.3\n",
    "d = 0.01\n",
    "kd = -0.002\n",
    "kp = -0.1\n",
    "\n",
    "# some calcium-related vars, concentration\n",
    "phi = 0.01\n",
    "beta = 0.083/ms\n",
    "chi0 = 0.05*umolar\n",
    "nbuff = 6.\n",
    "\n",
    "\n",
    "\n",
    "# E cells stats\n",
    "Cme = 1*ufarad/cm**2\n",
    "Ele = -67*mV\n",
    "ENae = 50*mV\n",
    "EKe = -100*mV\n",
    "gle = 0.1*msiemens/cm**2\n",
    "gNae = 100*msiemens/cm**2\n",
    "gKe = 80*msiemens/cm**2\n",
    "\n",
    "# AMPA E-E\n",
    "gampae = 1.0/(Ne-1)*msiemens/cm**2\n",
    "ggabae = 0.6/(Ni)*msiemens/cm**2\n",
    "\n",
    "eqse = '''\n",
    "dv/dt = ( (gle * (Ele-v) + gNae * m**3 * h * (ENae-v) + gKe * n**4 * (EKe-v) + Isyn + I_NMDA_rec + I))/Cme : volt\n",
    "Isyn = Iampa + Igaba : amp*meter**-2\n",
    "Iampa = gampae * (V_E - v) * sampa_tot : amp*meter**-2\n",
    "Igaba = ggabae * (V_I - v) * sgaba_tot : amp*meter**-2\n",
    "sampa_tot : 1\n",
    "sgaba_tot: 1\n",
    "I_NMDA_rec = -g_NMDA_E * (v - V_E) / (1 + Mg2 * exp(-0.062 * v / mV) / 3.57) * s_NMDA_tot : amp*meter**-2\n",
    "s_NMDA_tot : 1\n",
    "I : amp*meter**-2\n",
    "m = alpham / (alpham + betam) :1\n",
    "dn/dt = alphan * (1-n) - betan * n : 1\n",
    "dh/dt = alphah * (1-h) - betah * h : 1\n",
    "alpham = (0.32/mV) * (v+54*mV) / (-exp((-v-54*mV) / (4*mV)) + 1)/ms : Hz\n",
    "betam = (0.28/mV) * (v+27*mV)/ (exp((v+27*mV)/(5*mV)) - 1)/ms : Hz\n",
    "alphah = (0.128) * exp(-(v+50*mV)/(18*mV))/ms : Hz\n",
    "betah = 4/(exp((-v-27*mV) / (5*mV)) + 1)/ms : Hz\n",
    "alphan = (0.032/mV) * (v+52*mV) / (-exp(-(v+52*mV) / (5*mV)) + 1)/ms : Hz\n",
    "betan = 0.5*exp(-(v+57*mV)/(40*mV))/ms : Hz\n",
    "\n",
    "#chi : mmolar\n",
    "dchi/dt = phi*I_NMDA_rec/(uA/cm**2)*mmolar/ms - beta*(chi-chi0) -(beta/nbuff)*chi**2/mmolar : mmolar\n",
    "dP/dt = ((10*(chi/pHC)**pHN / (1+(chi/pHC)**pHN))-Cp*A*P)/taup : 1\n",
    "dA/dt = (((chi/aHC)**aHN/(1+(chi/aHC)**aHN))-A)/taua : 1\n",
    "dV/dt = ( alphav/(1+exp((chi-thetav)/sigmav)) -V)/tauv : 1\n",
    "dB/dt = ( alphab/(1+exp((chi-thetab)/sigmab)) -B-Cd*V*B)/taub : 1\n",
    "dD/dt = ( alphad/(1+exp((chi-thetad)/sigmad)) -D)/taud : 1\n",
    "'''\n",
    "\n",
    "Ecells = NeuronGroup(Ne, eqse, threshold='v>0*mV',refractory='v > 0*mV',\n",
    "                method='rk4')\n",
    "Ecells.v = -60*mV\n",
    "\n",
    "# Me = StateMonitor(Ecells, 'v', record=True)\n",
    "\n",
    "\n",
    "\n",
    "# ---------------- I cells ---------------- #\n",
    "Cmi = 1*ufarad/cm**2\n",
    "Eli = -65*mV\n",
    "ENai = 55*mV\n",
    "EKi = -90*mV\n",
    "gli = 0.1*msiemens/cm**2\n",
    "gNai = 35*msiemens/cm**2\n",
    "gKi = 9*msiemens/cm**2\n",
    "\n",
    "# -I synapses\n",
    "gampai = 0.6/(Ne)*msiemens/cm**2\n",
    "ggabai = 0.2/(Ni-1)*msiemens/cm**2\n",
    "\n",
    "eqsi = '''\n",
    "dv/dt = ( (gli * (Eli-v) + gNai * m**3 * h * (ENai-v) + gKi * n**4 * (EKi-v) + Isyn + I))/Cmi : volt\n",
    "#Isyn = Igaba : amp*meter**-2\n",
    "Isyn = Igaba + Iampa : amp*meter**-2\n",
    "Igaba = ggabai * (V_I - v) * sgaba_tot : amp*meter**-2\n",
    "Iampa = gampai * (V_E - v) * sampa_tot : amp*meter**-2\n",
    "sampa_tot : 1\n",
    "sgaba_tot : 1\n",
    "I : amp*meter**-2\n",
    "m = alpham / (alpham + betam) :1\n",
    "dn/dt = alphan * (1-n) - betan * n : 1\n",
    "dh/dt = alphah * (1-h) - betah * h : 1\n",
    "alpham = (0.1/mV) * (v+35*mV) / (-exp((-v-35*mV) / (10*mV)) + 1)/ms : Hz\n",
    "betam = 4 * exp(-(v+60*mV)/(18*mV))/ms : Hz\n",
    "alphah = (0.35) * exp(-(v+58*mV)/(20*mV))/ms : Hz\n",
    "betah = 5/(exp((-v-28*mV) / (10*mV)) + 1)/ms : Hz\n",
    "alphan = (0.05/mV) * (v+34*mV) / (-exp(-(v+34*mV) / (10*mV)) + 1)/ms : Hz\n",
    "betan = (0.625)*exp(-(v+44*mV)/(80*mV))/ms : Hz\n",
    "'''\n",
    "\n",
    "Icells = NeuronGroup(Ni, eqsi, threshold='v>0*mV',refractory='v > 0*mV',\n",
    "                method='rk4')\n",
    "Icells.v = -60*mV\n",
    "\n",
    "\n",
    "# ---------------- Initialization ---------------- #\n",
    "Ecells.P = 0.\n",
    "Ecells.A = 0.\n",
    "Ecells.V = 0.\n",
    "Ecells.B = 0.\n",
    "Ecells.D = 0.\n",
    "# Ecells.I = linspace(0.1,5,(Ne))*amp*meter**-2\n",
    "\n",
    "Ecells.I = linspace(0.5,2,(Ne))*amp*meter**-2\n",
    "\n",
    "Ecells.chi = 0.06*umolar\n",
    "\n",
    "# ---------------- Synapses ---------------- #\n",
    "\n",
    "tausampar = 0.2*ms\n",
    "tausampad = 2*ms\n",
    "tausgabar = 0.5*ms\n",
    "tausgabad = 10*ms\n",
    "\n",
    "alphaw = 0.8\n",
    "betaw = 0.6\n",
    "tauw = 500*ms\n",
    "\n",
    "\n",
    "eqs_nmda  = ''' \n",
    "#w : 1 # synaptic weight\n",
    "s_NMDA_tot_post = w * s_NMDA : 1 (summed)\n",
    "ds_NMDA / dt = (1+tanh(v_pre/mV/10))/2 * (1-s_NMDA)/tausnmdar - s_NMDA/tausnmdad : 1 (clock-driven)\n",
    "dw/dt = ( alphaw/(1+exp((P-p)/kp)) - betaw/(1+exp((D-d)/kd)) - w )/tauw :1 (clock-driven)\n",
    "'''\n",
    "\n",
    "# E-E NMDA\n",
    "C_STDP_E = Synapses(Ecells, Ecells, model=eqs_nmda, \n",
    "                 method='rk4')\n",
    "C_STDP_E.connect(condition='i != j')\n",
    "\n",
    "\n",
    "\n",
    "# # E-I NMDA\n",
    "# C_STDP_E = Synapses(Ecells, Ecells, model=eqs_nmda, \n",
    "#                  method='rk4')\n",
    "# C_STDP.connect(condition='i != j')\n",
    "# C_STDP.w[:] = 1\n",
    "\n",
    "\n",
    "eqs_ampa  = ''' \n",
    "sampa_tot_post = sampa : 1 (summed)\n",
    "dsampa/dt= (1+tanh(v_pre/mV/10))/2 * (1-sampa)/tausampar - sampa/tausampad : 1 (clock-driven)\n",
    "w : 1 # synaptic weight\n",
    "'''\n",
    "\n",
    "eqs_gaba  = ''' \n",
    "sgaba_tot_post = sgaba : 1 (summed)\n",
    "dsgaba/dt= (1+tanh(v_pre/mV/10))/2 * (1-sgaba)/tausgabar - sgaba/tausgabad : 1 (clock-driven)\n",
    "w : 1 # synaptic weight\n",
    "'''\n",
    "\n",
    "# ----------------\n",
    "# E-E AMPA\n",
    "C_E_E_AMPA = Synapses(Ecells, Ecells, model=eqs_ampa, method='rk4')\n",
    "C_E_E_AMPA.connect('i != j')\n",
    "\n",
    "# E-I, ampa\n",
    "C_E_I = Synapses(Ecells, Icells, model=eqs_ampa, method='rk4')\n",
    "C_E_I.connect()\n",
    "\n",
    "# I-I GABA\n",
    "C_I_I = Synapses(Icells, Icells, model=eqs_gaba, method='rk4')\n",
    "C_I_I.connect('i != j')\n",
    "C_I_I.connect()\n",
    "\n",
    "\n",
    "# I-E GABA\n",
    "C_I_E = Synapses(Icells, Ecells, model=eqs_gaba, method='rk4')\n",
    "C_I_E.connect()\n",
    "\n",
    "\n"
   ]
  },
  {
   "cell_type": "code",
   "execution_count": 54,
   "metadata": {},
   "outputs": [
    {
     "name": "stderr",
     "output_type": "stream",
     "text": [
      "WARNING    \"n\" is an internal variable of group \"neurongroup_2\", but also exists in the run namespace with the value array([ 7.,  0., 42.,  0.,  0.,  0.,  0.,  0.,  0.,  7.]). The internal variable will be used. [brian2.groups.group.Group.resolve.resolution_conflict]\n",
      "WARNING    \"n\" is an internal variable of group \"neurongroup_3\", but also exists in the run namespace with the value array([ 7.,  0., 42.,  0.,  0.,  0.,  0.,  0.,  0.,  7.]). The internal variable will be used. [brian2.groups.group.Group.resolve.resolution_conflict]\n"
     ]
    },
    {
     "name": "stdout",
     "output_type": "stream",
     "text": [
      "Starting simulation at t=0. s for a duration of 5. s\n",
      "0.9754600000000001 (19%) simulated in 10s, estimated 41s remaining.\n",
      "1.8980400000000004 (37%) simulated in 20s, estimated 33s remaining.\n",
      "2.81752 (56%) simulated in 30s, estimated 23s remaining.\n",
      "3.68082 (73%) simulated in 40s, estimated 14s remaining.\n",
      "4.68724 (93%) simulated in 50s, estimated 3s remaining.\n",
      "5.0 (100%) simulated in 53s\n"
     ]
    }
   ],
   "source": [
    "mon = StateMonitor(C_STDP_E, 'w',record = True)\n",
    "mon_v = StateMonitor(Ecells, 'v',record = [0,1,2,3])\n",
    "C_STDP_E.w[:] = 0.01\n",
    "\n",
    "\n",
    "\n",
    "run(5000*ms,report='stdout')"
   ]
  },
  {
   "cell_type": "code",
   "execution_count": 55,
   "metadata": {},
   "outputs": [
    {
     "data": {
      "text/plain": [
       "(4990, 5000)"
      ]
     },
     "execution_count": 55,
     "metadata": {},
     "output_type": "execute_result"
    },
    {
     "data": {
      "image/png": "[encoded data removed]",
      "text/plain": [
       "<Figure size 432x288 with 1 Axes>"
      ]
     },
     "metadata": {},
     "output_type": "display_data"
    }
   ],
   "source": [
    "\n",
    "plot(mon_v.t/ms,mon_v[0].v/mV)\n",
    "\n",
    "plot(mon_v.t/ms,mon_v[1].v/mV)\n",
    "plot(mon_v.t/ms,mon_v[2].v/mV)\n",
    "plot(mon_v.t/ms,mon_v[3].v/mV)\n",
    "\n",
    "\n",
    "\n",
    "# plot(Me.t/ms,Me[2].v/mV)\n",
    "\n",
    "# legend()\n",
    "plt.xlim(4990,5000)\n",
    "# plt.xlim(5,15)\n",
    "# plt.legend(('label1', 'label2', 'label3','label4'))\n",
    "\n",
    "# Me.v.shape"
   ]
  },
  {
   "cell_type": "code",
   "execution_count": 56,
   "metadata": {},
   "outputs": [
    {
     "data": {
      "image/png": "[encoded data removed]",
      "text/plain": [
       "<Figure size 432x288 with 1 Axes>"
      ]
     },
     "metadata": {},
     "output_type": "display_data"
    }
   ],
   "source": [
    "test_w =np.transpose(mon.w)\n",
    "\n",
    "i = 249999\n",
    "n, bins, patches = plt.hist(test_w[i][:])\n",
    "plt.show()"
   ]
  },
  {
   "cell_type": "code",
   "execution_count": 57,
   "metadata": {},
   "outputs": [
    {
     "data": {
      "text/plain": [
       "array([0.04787282, 0.04043118, 0.19990737, 0.19998596, 0.19998697,\n",
       "       0.199987  , 0.19998728, 0.79591599, 0.04043118, 0.19990737,\n",
       "       0.19998596, 0.19998697, 0.199987  , 0.19998728, 0.79591599,\n",
       "       0.04787282, 0.19990737, 0.19998596, 0.19998697, 0.199987  ,\n",
       "       0.19998728, 0.79591599, 0.04787282, 0.04043118, 0.19998596,\n",
       "       0.19998697, 0.199987  , 0.19998728, 0.79591599, 0.04787282,\n",
       "       0.04043118, 0.19990737, 0.19998697, 0.199987  , 0.19998728,\n",
       "       0.79591599, 0.04787282, 0.04043118, 0.19990737, 0.19998596,\n",
       "       0.199987  , 0.19998728, 0.79591599, 0.04787282, 0.04043118,\n",
       "       0.19990737, 0.19998596, 0.19998697, 0.19998728, 0.79591599,\n",
       "       0.04787282, 0.04043118, 0.19990737, 0.19998596, 0.19998697,\n",
       "       0.199987  ])"
      ]
     },
     "execution_count": 57,
     "metadata": {},
     "output_type": "execute_result"
    }
   ],
   "source": [
    "test_w[249999]"
   ]
  },
  {
   "cell_type": "code",
   "execution_count": 58,
   "metadata": {},
   "outputs": [
    {
     "data": {
      "text/plain": [
       "Text(0,0.5,'w')"
      ]
     },
     "execution_count": 58,
     "metadata": {},
     "output_type": "execute_result"
    },
    {
     "data": {
      "image/png": "[encoded data removed]",
      "text/plain": [
       "<Figure size 432x288 with 1 Axes>"
      ]
     },
     "metadata": {},
     "output_type": "display_data"
    }
   ],
   "source": [
    "plot(mon.t/ms,mon.w[7])\n",
    "plot(mon.t/ms,mon.w[0])\n",
    "plot(mon.t/ms,mon.w[1])\n",
    "# plot(mon.t/ms,mon.w[3])\n",
    "\n",
    "legend(('1,0','0,1','0,2'))\n",
    "\n",
    "title('weight change of the larger and smaller value')\n",
    "xlabel('time/ms')\n",
    "ylabel('w')"
   ]
  },
  {
   "cell_type": "code",
   "execution_count": 59,
   "metadata": {},
   "outputs": [
    {
     "data": {
      "text/plain": [
       "array([0.04787282, 0.04043118, 0.19990737, 0.19998596, 0.19998697,\n",
       "       0.199987  , 0.19998728, 0.79591599, 0.04043118, 0.19990737,\n",
       "       0.19998596, 0.19998697, 0.199987  , 0.19998728, 0.79591599,\n",
       "       0.04787282, 0.19990737, 0.19998596, 0.19998697, 0.199987  ,\n",
       "       0.19998728, 0.79591599, 0.04787282, 0.04043118, 0.19998596,\n",
       "       0.19998697, 0.199987  , 0.19998728, 0.79591599, 0.04787282,\n",
       "       0.04043118, 0.19990737, 0.19998697, 0.199987  , 0.19998728,\n",
       "       0.79591599, 0.04787282, 0.04043118, 0.19990737, 0.19998596,\n",
       "       0.199987  , 0.19998728, 0.79591599, 0.04787282, 0.04043118,\n",
       "       0.19990737, 0.19998596, 0.19998697, 0.19998728, 0.79591599,\n",
       "       0.04787282, 0.04043118, 0.19990737, 0.19998596, 0.19998697,\n",
       "       0.199987  ])"
      ]
     },
     "execution_count": 59,
     "metadata": {},
     "output_type": "execute_result"
    }
   ],
   "source": [
    "test_w[249999][:]"
   ]
  },
  {
   "cell_type": "markdown",
   "metadata": {},
   "source": [
    "### code coms from pdf 5.14.8 Example: state_variables"
   ]
  },
  {
   "cell_type": "code",
   "execution_count": 60,
   "metadata": {},
   "outputs": [
    {
     "data": {
      "text/plain": [
       "Text(0.5,1,'Synaptic weight')"
      ]
     },
     "execution_count": 60,
     "metadata": {},
     "output_type": "execute_result"
    },
    {
     "data": {
      "image/png": "[encoded data removed]",
      "text/plain": [
       "<Figure size 432x288 with 2 Axes>"
      ]
     },
     "metadata": {},
     "output_type": "display_data"
    }
   ],
   "source": [
    "i=249999\n",
    "\n",
    "w_test = np.zeros((Ne,Ne))\n",
    "w_test[C_STDP_E.i[:],C_STDP_E.j[:]]=test_w[i][:]\n",
    "imshow(w_test)\n",
    "colorbar()\n",
    "xlabel('i')\n",
    "ylabel('j')\n",
    "title('Synaptic weight')"
   ]
  },
  {
   "cell_type": "code",
   "execution_count": 51,
   "metadata": {},
   "outputs": [
    {
     "name": "stdout",
     "output_type": "stream",
     "text": [
      "[0 0 0 0 0 0 0 1 1 1 1 1 1 1 2 2 2 2 2 2 2 3 3 3 3 3 3 3 4 4 4 4 4 4 4 5 5\n",
      " 5 5 5 5 5 6 6 6 6 6 6 6 7 7 7 7 7 7 7]\n",
      "[1 2 3 4 5 6 7 0 2 3 4 5 6 7 0 1 3 4 5 6 7 0 1 2 4 5 6 7 0 1 2 3 5 6 7 0 1\n",
      " 2 3 4 6 7 0 1 2 3 4 5 7 0 1 2 3 4 5 6]\n",
      "[0.20386286 0.03869224 0.19999367 0.19999396 0.19999406 0.19999411\n",
      " 0.19999414 0.79594864 0.03869224 0.19999367 0.19999396 0.19999406\n",
      " 0.19999411 0.19999414 0.79594864 0.20386286 0.19999367 0.19999396\n",
      " 0.19999406 0.19999411 0.19999414 0.79594864 0.20386286 0.03869224\n",
      " 0.19999396 0.19999406 0.19999411 0.19999414 0.79594864 0.20386286\n",
      " 0.03869224 0.19999367 0.19999406 0.19999411 0.19999414 0.79594864\n",
      " 0.20386286 0.03869224 0.19999367 0.19999396 0.19999411 0.19999414\n",
      " 0.79594864 0.20386286 0.03869224 0.19999367 0.19999396 0.19999406\n",
      " 0.19999414 0.79594864 0.20386286 0.03869224 0.19999367 0.19999396\n",
      " 0.19999406 0.19999411]\n"
     ]
    }
   ],
   "source": [
    "print(C_STDP_E.i[:])\n",
    "print(C_STDP_E.j[:])\n",
    "print(test_w[i][:])"
   ]
  },
  {
   "cell_type": "code",
   "execution_count": 18,
   "metadata": {},
   "outputs": [
    {
     "data": {
      "text/plain": [
       "array([[0.        , 0.03198383, 0.1499289 , 0.16126065, 0.16347412,\n",
       "        0.16465558, 0.1653505 , 0.16584852],\n",
       "       [0.545228  , 0.        , 0.1499289 , 0.16126065, 0.16347412,\n",
       "        0.16465558, 0.1653505 , 0.16584852],\n",
       "       [0.545228  , 0.03198383, 0.        , 0.16126065, 0.16347412,\n",
       "        0.16465558, 0.1653505 , 0.16584852],\n",
       "       [0.545228  , 0.03198383, 0.1499289 , 0.        , 0.16347412,\n",
       "        0.16465558, 0.1653505 , 0.16584852],\n",
       "       [0.545228  , 0.03198383, 0.1499289 , 0.16126065, 0.        ,\n",
       "        0.16465558, 0.1653505 , 0.16584852],\n",
       "       [0.545228  , 0.03198383, 0.1499289 , 0.16126065, 0.16347412,\n",
       "        0.        , 0.1653505 , 0.16584852],\n",
       "       [0.545228  , 0.03198383, 0.1499289 , 0.16126065, 0.16347412,\n",
       "        0.16465558, 0.        , 0.16584852],\n",
       "       [0.545228  , 0.03198383, 0.1499289 , 0.16126065, 0.16347412,\n",
       "        0.16465558, 0.1653505 , 0.        ]])"
      ]
     },
     "execution_count": 18,
     "metadata": {},
     "output_type": "execute_result"
    }
   ],
   "source": [
    "w_test"
   ]
  },
  {
   "cell_type": "markdown",
   "metadata": {},
   "source": [
    "## E-I have NMDA (STDP)"
   ]
  },
  {
   "cell_type": "code",
   "execution_count": null,
   "metadata": {},
   "outputs": [],
   "source": [
    "start_scope()\n",
    "\n",
    "defaultclock.dt = 0.02*ms\n",
    "\n",
    "Ne = 8\n",
    "Ni = 2\n",
    "V_I = -80*mV\n",
    "V_E = 0*mV\n",
    "\n",
    "\n",
    "\n",
    "# NMDA (excitatory)\n",
    "g_NMDA_E = 1.0/(Ne-1)*msiemens/cm**2\n",
    "# g_NMDA_I = 0.258 * nS * 800. / N_E\n",
    "tausnmdar = 1*ms\n",
    "tausnmdad = 100*ms\n",
    "Mg2 = 1.\n",
    "\n",
    "# some calcium-related vars, table 2\n",
    "pHC = 4*umolar\n",
    "aHC = 0.6*umolar\n",
    "pHN = 4.\n",
    "aHN = 3.\n",
    "alphav = 1.\n",
    "alphab = 5.\n",
    "alphad = 1.\n",
    "thetav = 2.*umolar\n",
    "thetad = 2.6*umolar\n",
    "thetab = 0.55*umolar\n",
    "Cp = 5.\n",
    "Cd = 4.\n",
    "taup = 500*ms\n",
    "taua = 5*ms\n",
    "tauv = 10*ms\n",
    "taud = 250*ms\n",
    "taub = 40*ms\n",
    "sigmav = -0.05*umolar\n",
    "sigmad = -0.01*umolar\n",
    "sigmab = -0.02*umolar\n",
    "p = 0.3\n",
    "d = 0.01\n",
    "kd = -0.002\n",
    "kp = -0.1\n",
    "\n",
    "# some calcium-related vars, concentration\n",
    "phi = 0.01\n",
    "beta = 0.083/ms\n",
    "chi0 = 0.05*umolar\n",
    "nbuff = 6.\n",
    "\n",
    "\n",
    "\n",
    "# E cells stats\n",
    "Cme = 1*ufarad/cm**2\n",
    "Ele = -67*mV\n",
    "ENae = 50*mV\n",
    "EKe = -100*mV\n",
    "gle = 0.1*msiemens/cm**2\n",
    "gNae = 100*msiemens/cm**2\n",
    "gKe = 80*msiemens/cm**2\n",
    "\n",
    "# AMPA E-E\n",
    "gampae = 1.0/(Ne-1)*msiemens/cm**2\n",
    "ggabae = 0.6/(Ni)*msiemens/cm**2\n",
    "\n",
    "eqse = '''\n",
    "dv/dt = ( (gle * (Ele-v) + gNae * m**3 * h * (ENae-v) + gKe * n**4 * (EKe-v) + Isyn + I_NMDA_rec + I))/Cme : volt\n",
    "Isyn = Iampa + Igaba : amp*meter**-2\n",
    "Iampa = gampae * (V_E - v) * sampa_tot : amp*meter**-2\n",
    "Igaba = ggabae * (V_I - v) * sgaba_tot : amp*meter**-2\n",
    "sampa_tot : 1\n",
    "sgaba_tot: 1\n",
    "I_NMDA_rec = g_NMDA_E * (v - V_E) / (1 + Mg2 * exp(-0.062 * v / mV) / 3.57) * s_NMDA_tot : amp*meter**-2\n",
    "s_NMDA_tot : 1\n",
    "I : amp*meter**-2\n",
    "m = alpham / (alpham + betam) :1\n",
    "dn/dt = alphan * (1-n) - betan * n : 1\n",
    "dh/dt = alphah * (1-h) - betah * h : 1\n",
    "alpham = (0.32/mV) * (v+54*mV) / (-exp((-v-54*mV) / (4*mV)) + 1)/ms : Hz\n",
    "betam = (0.28/mV) * (v+27*mV)/ (exp((v+27*mV)/(5*mV)) - 1)/ms : Hz\n",
    "alphah = (0.128) * exp(-(v+50*mV)/(18*mV))/ms : Hz\n",
    "betah = 4/(exp((-v-27*mV) / (5*mV)) + 1)/ms : Hz\n",
    "alphan = (0.032/mV) * (v+52*mV) / (-exp(-(v+52*mV) / (5*mV)) + 1)/ms : Hz\n",
    "betan = 0.5*exp(-(v+57*mV)/(40*mV))/ms : Hz\n",
    "\n",
    "#chi : mmolar\n",
    "dchi/dt = phi*I_NMDA_rec/(uA/cm**2)*mmolar/ms - beta*(chi-chi0) -(beta/nbuff)*chi**2/mmolar : mmolar\n",
    "dP/dt = ((10*(chi/pHC)**pHN / (1+(chi/pHC)**pHN))-Cp*A*P)/taup : 1\n",
    "dA/dt = (((chi/aHC)**aHN/(1+(chi/aHC)**aHN))-A)/taua : 1\n",
    "dV/dt = ( alphav/(1+exp((chi-thetav)/sigmav)) -V)/tauv : 1\n",
    "dB/dt = ( alphab/(1+exp((chi-thetab)/sigmab)) -B-Cd*V*B)/taub : 1\n",
    "dD/dt = ( alphad/(1+exp((chi-thetad)/sigmad)) -D)/taud : 1\n",
    "'''\n",
    "\n",
    "Ecells = NeuronGroup(Ne, eqse, threshold='v>0*mV',refractory='v > 0*mV',\n",
    "                method='rk4')\n",
    "Ecells.v = -60*mV\n",
    "\n",
    "# Me = StateMonitor(Ecells, 'v', record=True)\n",
    "\n",
    "\n",
    "\n",
    "# ---------------- I cells ---------------- #\n",
    "Cmi = 1*ufarad/cm**2\n",
    "Eli = -65*mV\n",
    "ENai = 55*mV\n",
    "EKi = -90*mV\n",
    "gli = 0.1*msiemens/cm**2\n",
    "gNai = 35*msiemens/cm**2\n",
    "gKi = 9*msiemens/cm**2\n",
    "g_NMDA_I = 1.0/(Ne-1)*msiemens/cm**2\n",
    "\n",
    "\n",
    "# -I synapses\n",
    "gampai = 0.6/(Ne)*msiemens/cm**2\n",
    "ggabai = 0.2/(Ni-1)*msiemens/cm**2\n",
    "\n",
    "eqsi = '''\n",
    "dv/dt = ( (gli * (Eli-v) + gNai * m**3 * h * (ENai-v) + gKi * n**4 * (EKi-v) + Isyn + I_NMDA_rec + I))/Cmi : volt\n",
    "#Isyn = Igaba : amp*meter**-2\n",
    "Isyn = Igaba + Iampa : amp*meter**-2\n",
    "Igaba = ggabai * (V_I - v) * sgaba_tot : amp*meter**-2\n",
    "Iampa = gampai * (V_E - v) * sampa_tot : amp*meter**-2\n",
    "sampa_tot : 1\n",
    "sgaba_tot : 1\n",
    "I_NMDA_rec = g_NMDA_I * (v - V_E) / (1 + Mg2 * exp(-0.062 * v / mV) / 3.57) * s_NMDA_tot : amp*meter**-2\n",
    "s_NMDA_tot : 1\n",
    "I : amp*meter**-2\n",
    "m = alpham / (alpham + betam) :1\n",
    "dn/dt = alphan * (1-n) - betan * n : 1\n",
    "dh/dt = alphah * (1-h) - betah * h : 1\n",
    "alpham = (0.1/mV) * (v+35*mV) / (-exp((-v-35*mV) / (10*mV)) + 1)/ms : Hz\n",
    "betam = 4 * exp(-(v+60*mV)/(18*mV))/ms : Hz\n",
    "alphah = (0.35) * exp(-(v+58*mV)/(20*mV))/ms : Hz\n",
    "betah = 5/(exp((-v-28*mV) / (10*mV)) + 1)/ms : Hz\n",
    "alphan = (0.05/mV) * (v+34*mV) / (-exp(-(v+34*mV) / (10*mV)) + 1)/ms : Hz\n",
    "betan = (0.625)*exp(-(v+44*mV)/(80*mV))/ms : Hz\n",
    "'''\n",
    "\n",
    "Icells = NeuronGroup(Ni, eqsi, threshold='v>0*mV',refractory='v > 0*mV',\n",
    "                method='rk4')\n",
    "Icells.v = -60*mV\n",
    "\n",
    "\n",
    "# ---------------- Initialization ---------------- #\n",
    "Ecells.P = 0.\n",
    "Ecells.A = 0.\n",
    "Ecells.V = 0.\n",
    "Ecells.B = 0.\n",
    "Ecells.D = 0.\n",
    "Ecells.I = linspace(0.1,5,(Ne))*amp*meter**-2\n",
    "Ecells.chi = 0.06*umolar\n",
    "\n",
    "# ---------------- Synapses ---------------- #\n",
    "\n",
    "tausampar = 0.2*ms\n",
    "tausampad = 2*ms\n",
    "tausgabar = 0.5*ms\n",
    "tausgabad = 10*ms\n",
    "\n",
    "alphaw = 0.8\n",
    "betaw = 0.6\n",
    "tauw = 500*ms\n",
    "\n",
    "\n",
    "eqs_nmda  = ''' \n",
    "#w : 1 # synaptic weight\n",
    "s_NMDA_tot_post = w * s_NMDA : 1 (summed)\n",
    "ds_NMDA / dt = (1+tanh(v_pre/mV/10))/2 * (1-s_NMDA)/tausnmdar - s_NMDA/tausnmdad : 1 (clock-driven)\n",
    "dw/dt = ( alphaw/(1+exp((P-p)/kp)) - betaw/(1+exp((D-d)/kd)) - w )/tauw :1 (clock-driven)\n",
    "'''\n",
    "\n",
    "# E-E NMDA\n",
    "C_STDP_E = Synapses(Ecells, Ecells, model=eqs_nmda, \n",
    "                 method='rk4')\n",
    "C_STDP_E.connect(condition='i != j')\n",
    "C_STDP_E.w[:] = 1\n",
    "\n",
    "# # E-I NMDA\n",
    "# C_STDP_E = Synapses(Ecells, Ecells, model=eqs_nmda, \n",
    "#                  method='rk4')\n",
    "# C_STDP.connect(condition='i != j')\n",
    "# C_STDP.w[:] = 1\n",
    "\n",
    "\n",
    "eqs_ampa  = ''' \n",
    "sampa_tot_post = sampa : 1 (summed)\n",
    "dsampa/dt= (1+tanh(v_pre/mV/10))/2 * (1-sampa)/tausampar - sampa/tausampad : 1 (clock-driven)\n",
    "w : 1 # synaptic weight\n",
    "'''\n",
    "\n",
    "eqs_gaba  = ''' \n",
    "sgaba_tot_post = sgaba : 1 (summed)\n",
    "dsgaba/dt= (1+tanh(v_pre/mV/10))/2 * (1-sgaba)/tausgabar - sgaba/tausgabad : 1 (clock-driven)\n",
    "w : 1 # synaptic weight\n",
    "'''\n",
    "\n",
    "# ----------------\n",
    "# E-E AMPA\n",
    "C_E_E_AMPA = Synapses(Ecells, Ecells, model=eqs_ampa, method='rk4')\n",
    "C_E_E_AMPA.connect('i != j')\n",
    "\n",
    "# E-I, ampa\n",
    "C_E_I = Synapses(Ecells, Icells, model=eqs_ampa, method='rk4')\n",
    "C_E_I.connect()\n",
    "\n",
    "# I-I GABA\n",
    "C_I_I = Synapses(Icells, Icells, model=eqs_gaba, method='rk4')\n",
    "C_I_I.connect('i != j')\n",
    "C_I_I.connect()\n",
    "\n",
    "\n",
    "# I-E GABA\n",
    "C_I_E = Synapses(Icells, Ecells, model=eqs_gaba, method='rk4')\n",
    "C_I_E.connect()\n",
    "\n",
    "\n",
    "\n"
   ]
  }
 ],
 "metadata": {
  "kernelspec": {
   "display_name": "Python 3",
   "language": "python",
   "name": "python3"
  },
  "language_info": {
   "codemirror_mode": {
    "name": "ipython",
    "version": 3
   },
   "file_extension": ".py",
   "mimetype": "text/x-python",
   "name": "python",
   "nbconvert_exporter": "python",
   "pygments_lexer": "ipython3",
   "version": "3.6.6"
  }
 },
 "nbformat": 4,
 "nbformat_minor": 2
}
