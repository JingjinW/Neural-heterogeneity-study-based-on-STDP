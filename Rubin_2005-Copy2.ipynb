{
 "cells": [
  {
   "cell_type": "code",
   "execution_count": null,
   "metadata": {},
   "outputs": [],
   "source": [
    "# 10/03 Q test. bug. emailed author.\n",
    "#     is Q having a unit of 1/V? give an 1/1000 to Q"
   ]
  },
  {
   "cell_type": "code",
   "execution_count": 1,
   "metadata": {},
   "outputs": [],
   "source": [
    "from brian2 import *\n",
    "from scipy import signal\n",
    "from numpy import matlib\n",
    "import numpy as np"
   ]
  },
  {
   "cell_type": "code",
   "execution_count": null,
   "metadata": {},
   "outputs": [],
   "source": [
    "start_scope()\n",
    "\n",
    "defaultclock.dt = 0.025*ms\n",
    "duration = 1*second\n",
    "\n",
    "\n",
    "\n",
    "# INPUT SEGMENT\n",
    "\n",
    "n = 1\n",
    "tau = 1*ms\n",
    "eqs = '''\n",
    "dv/dt = (v0 - v) / tau : volt (unless refractory)\n",
    "v0 : volt\n",
    "'''\n",
    "input_lif = NeuronGroup(n, eqs, threshold='v > 50*mV', reset='v = -60*mV',\n",
    "                    refractory=95*ms, method='linear')\n",
    "input_lif.v = 0*mV\n",
    "input_lif.v0 = 60*mV\n",
    "\n",
    "# monitor = SpikeMonitor(input_lif)\n",
    "mon_input = StateMonitor(input_lif,'v',record = True)\n",
    "\n",
    "# # Two-compartment structure\n",
    "# morpho = Soma(30*um)\n",
    "# morpho.spine = Cylinder(diameter=1*um, length=300*um, n=1)\n",
    "\n"
   ]
  },
  {
   "cell_type": "code",
   "execution_count": 10,
   "metadata": {},
   "outputs": [
    {
     "ename": "TypeError",
     "evalue": "unsupported operand type(s) for *: 'TimedArray' and 'float'",
     "output_type": "error",
     "traceback": [
      "\u001b[0;31m---------------------------------------------------------------------------\u001b[0m",
      "\u001b[0;31mTypeError\u001b[0m                                 Traceback (most recent call last)",
      "\u001b[0;32m<ipython-input-10-15272358e343>\u001b[0m in \u001b[0;36m<module>\u001b[0;34m()\u001b[0m\n\u001b[1;32m    198\u001b[0m \u001b[0;34m\u001b[0m\u001b[0m\n\u001b[1;32m    199\u001b[0m \u001b[0;31m# Ecells.I = 1.6*uamp*cm**-2\u001b[0m\u001b[0;34m\u001b[0m\u001b[0;34m\u001b[0m\u001b[0m\n\u001b[0;32m--> 200\u001b[0;31m \u001b[0mEcells\u001b[0m\u001b[0;34m.\u001b[0m\u001b[0mI\u001b[0m \u001b[0;34m=\u001b[0m \u001b[0mTimedArray\u001b[0m\u001b[0;34m(\u001b[0m\u001b[0mnp\u001b[0m\u001b[0;34m.\u001b[0m\u001b[0mmatlib\u001b[0m\u001b[0;34m.\u001b[0m\u001b[0mrepmat\u001b[0m\u001b[0;34m(\u001b[0m\u001b[0msignal\u001b[0m\u001b[0;34m.\u001b[0m\u001b[0munit_impulse\u001b[0m\u001b[0;34m(\u001b[0m\u001b[0;36m1000\u001b[0m\u001b[0;34m,\u001b[0m\u001b[0;36m100\u001b[0m\u001b[0;34m)\u001b[0m\u001b[0;34m,\u001b[0m\u001b[0;36m1\u001b[0m\u001b[0;34m,\u001b[0m\u001b[0;36m40\u001b[0m\u001b[0;34m)\u001b[0m\u001b[0;34m,\u001b[0m\u001b[0mdt\u001b[0m \u001b[0;34m=\u001b[0m \u001b[0mdefaultclock\u001b[0m\u001b[0;34m.\u001b[0m\u001b[0mdt\u001b[0m\u001b[0;34m)\u001b[0m \u001b[0;34m*\u001b[0m\u001b[0;36m1.6\u001b[0m\u001b[0;34m*\u001b[0m\u001b[0muamp\u001b[0m\u001b[0;34m*\u001b[0m\u001b[0mcm\u001b[0m\u001b[0;34m**\u001b[0m\u001b[0;34m-\u001b[0m\u001b[0;36m2\u001b[0m\u001b[0;34m\u001b[0m\u001b[0m\n\u001b[0m\u001b[1;32m    201\u001b[0m \u001b[0;34m\u001b[0m\u001b[0m\n\u001b[1;32m    202\u001b[0m \u001b[0;34m\u001b[0m\u001b[0m\n",
      "\u001b[0;31mTypeError\u001b[0m: unsupported operand type(s) for *: 'TimedArray' and 'float'"
     ]
    }
   ],
   "source": [
    "\n",
    "\n",
    "Ne = 1\n",
    "\n",
    "# some calcium-related vars, table 2\n",
    "pHC = 4.0*umolar\n",
    "aHC = 0.6*umolar\n",
    "pHN = 4.\n",
    "aHN = 3.\n",
    "alphav = 1.\n",
    "alphab = 5.\n",
    "alphad = 1.\n",
    "thetav = 2.*umolar\n",
    "thetad = 2.6\n",
    "thetab = 0.55\n",
    "Cp = 5.\n",
    "Cd = 4.\n",
    "taup = 500*ms\n",
    "taua = 5*ms\n",
    "tauv = 10*ms\n",
    "taud = 250*ms\n",
    "taub = 40*ms\n",
    "sigmav = -0.05*umolar\n",
    "sigmad = -0.01\n",
    "sigmab = -0.02\n",
    "p = 0.3\n",
    "d = 0.01\n",
    "kd = -0.002\n",
    "kp = -0.1\n",
    "\n",
    "# some calcium-related vars, concentration\n",
    "phi = 0.01*umolar/ms/(uamp*cm**-2)\n",
    "beta = 0.083/ms\n",
    "chi0 = 0.05*umolar\n",
    "nbuff = 6.*umolar\n",
    "\n",
    "\n",
    "\n",
    "# E cells stats\n",
    "Cme = 1*ufarad/cm**2\n",
    "Ele = -67*mV\n",
    "ENae = 50*mV\n",
    "Ek = -100*mV\n",
    "gle = 0.1*msiemens/cm**2\n",
    "gKe = 80*msiemens/cm**2\n",
    "\n",
    "# AMPA E-E\n",
    "syn_mod = 1.\n",
    "\n",
    "gampae = 0.05*syn_mod*msiemens/cm**2\n",
    "\n",
    "# gampae = 0.00*syn_mod/(Ne-1)*msiemens/cm**2\n",
    "\n",
    "#ggabae = 0.03*syn_mod/(Ni)*msiemens/cm**2\n",
    "\n",
    "\n",
    "# NMDA (excitatory)\n",
    "g_syn_nmda = 0.3*syn_mod*msiemens/cm**2\n",
    "g_cal_nmda_0 = 25*syn_mod*msiemens/cm**2\n",
    "# g_NMDA_I = 0.258 * nS * 800. / N_E\n",
    "V_cal = 140*mV\n",
    "tausnmdar = 1*ms\n",
    "tausnmdad = 100*ms\n",
    "# Mg2 = 1.\n",
    "Mg2 = 2.\n",
    "\n",
    "\n",
    "# Ina params\n",
    "gNae = 30*msiemens/cm**2\n",
    "naatt = 1.\n",
    "taumna = 0.05*ms\n",
    "# tauhna = 0.5*ms   # dendrite\n",
    "tauhna = 1.*ms  # soma\n",
    "\n",
    "\n",
    "\n",
    "# Ina = gNae * mna**2 * hna * sna * (ENae-v)\n",
    "# dendrite activation\n",
    "# mnainf = 1/(1+exp(-(v+40*mV)/(3*mV))) : 1\n",
    "# hnainf = 1/(1+exp((v+45*mV)/(3*mV))) : 1\n",
    "# snainf = (1 + naatt*exp((v+60*mV)/(2*mV)))/(1+exp((v+45)/(3*mV))) : 1\n",
    "\n",
    "\n",
    "# Ik params\n",
    "gkdr = 14*msiemens/cm**2\n",
    "taukdr = 3.5*ms\n",
    "# dendrite activation\n",
    "# mkdrinf = 1/(1+(-(v+49*mV)/(3*mV))) : 1\n",
    "\n",
    "# Ia\n",
    "ga = 7.5*msiemens/cm**2\n",
    "F = 9.648e4 *coulomb\n",
    "T = (273.16-273.15) * kelvin\n",
    "degC = (300-273.15) *kelvin # in celsius\n",
    "R = 8.315/kelvin *joule\n",
    "# Q = F/coulomb/(R/(joule/degC)*(T+degC)/kelvin)/1000.  # /1000 - Volt to mV\n",
    "Q = F/(R*(T+degC))*mV  # /1000 - Volt to mV\n",
    "qt = (degC/kelvin - 24)/10.\n",
    "\n",
    "# Imahp\n",
    "gmahp = 25*msiemens/cm**2\n",
    "\n",
    "\n",
    "# TEST\n",
    "Isyn = 0*amp*meter**-2\n",
    "Ileak = 0*amp*meter**-2\n",
    "I_cal_nmda = 0*amp*meter**-2\n",
    "Icoup = 0*amp*meter**-2\n",
    "gNae = 0*msiemens/cm**2\n",
    "# ga = 0*msiemens/cm**2\n",
    "gmahp = 0*msiemens/cm**2\n",
    "gkdr = 0*msiemens/cm**2\n",
    "\n",
    "\n",
    "eqse = '''\n",
    "dv/dt = ( ( Ileak +  Ina + Ik + Isyn + Icoup + I_input))/Cme : volt\n",
    "#Ileak = gle * (Ele-v) : amp*meter**-2\n",
    "\n",
    "I_input : amp*meter**-2\n",
    "\n",
    "#Icoup : amp*meter**-2\n",
    "\n",
    "#Ileak = gl*\n",
    "\n",
    "Ina = gNae * mna**2 * hna * sna * (ENae-v) : amp*meter**-2\n",
    "# soma activation\n",
    "mnainf = 1/(1+exp(-(v+44*mV)/(3*mV))) : 1\n",
    "hnainf = 1/(1+exp((v+49*mV)/(3.5*mV))) : 1\n",
    "snainf = (1 + naatt*exp((v+60*mV)/(2*mV)))/(1+exp((v+45*mV)/(3*mV))) : 1\n",
    "dmna/dt = (mnainf - mna)/taumna : 1\n",
    "dhna/dt = (hnainf - hna)/tauhna : 1\n",
    "dsna/dt = (snainf - sna)/tausna : 1\n",
    "tausna = (0.00333*ms * exp(0.0024*(1/mV) * (v+60*mV) * Q))/(1 + exp(0.0012*(1/mV)*(v+60*mV)*Q)) : second\n",
    "\n",
    "Ik = Ia + Ikdr + Imahp : amp*meter**-2\n",
    "\n",
    "Ikdr = gkdr * mkdrinf**2 * (Ek - v) : amp*meter**-2\n",
    "mkdrinf = 1/(1+exp(-(v+46.3*mV)/(3*mV))) : 1\n",
    "dmkdr/dt = (mkdrinf - mkdr)/taukdr : 1\n",
    "\n",
    "Ia = ga * ma * ha * (Ek-v) : amp*meter**-2\n",
    "ksi = -1.5*(1/mV) - 1/(1+exp((v+40*mV)/(5*mV)))*(1/mV) : volt**-1\n",
    "alphama = exp(1e-3 * ksi * (v-11*mV) * Q)/ms : Hz\n",
    "betama = exp(0.00055 * ksi * (v-11*mV) * Q)/ms : Hz\n",
    "alphaha = exp(0.003* (v+56*mV)/mV * Q)/ms : Hz\n",
    "betaha = alphaha : Hz\n",
    "dma/dt = alphama*(1-ma) - betama*ma : 1\n",
    "dha/dt = alphaha*(1-ha) - betaha*ha : 1 \n",
    "tauma = clip( betama /(0.05*(1/ms) * 1. * (1+alphama*ms)), 0.1,inf)*ms : second\n",
    "tauha = clip(0.26*(1/mV)*(v+50*mV), 2, inf)*ms : second\n",
    "\n",
    "Imahp = gmahp * mmahp * (Ek - v) : amp*meter**-2\n",
    "alphamahp = 0.48*(1/ms)/(1+(0.18*mmolar)/chi*exp(-1.68*v/mV*Q)) : Hz\n",
    "betamahp = 0.28*(1/ms)/(1+ chi/(0.011*mmolar*exp(-2*v*Q/mV))) : Hz\n",
    "dmmahp/dt = alphamahp*(1-mmahp) - betamahp*mmahp : 1\n",
    "\n",
    "\n",
    "\n",
    "\n",
    "\n",
    "dchi/dt = phi*I_cal_nmda - beta*(chi-chi0) -(beta/nbuff)*chi**2 : mmolar\n",
    "dP/dt = ((10*(chi/pHC)**pHN / (1+(chi/pHC)**pHN))-Cp*A*P)/taup : 1\n",
    "dA/dt = (((chi/aHC)**aHN/(1+(chi/aHC)**aHN))-A)/taua : 1\n",
    "dV/dt = ( alphav/(1+exp((chi-thetav)/sigmav)) -V)/tauv : 1\n",
    "dB/dt = ( alphab/(1+exp((A-thetab)/sigmab)) -B -Cd*V*B)/taub : 1\n",
    "dD/dt = ( alphad/(1+exp((B-thetad)/sigmad)) -D)/taud : 1\n",
    "'''\n",
    "\n",
    "Ecells = NeuronGroup(Ne, eqse, threshold='v>0*mV',refractory='v > 0*mV',method='rk4')\n",
    "\n",
    "# Me = StateMonitor(Ecells, 'v', record=True)\n",
    "\n",
    "\n",
    "\n",
    "# ---------------- Initialization ---------------- #\n",
    "Ecells.P = 0.3\n",
    "Ecells.A = 0.5\n",
    "Ecells.V = 0.01\n",
    "Ecells.B = 2.5\n",
    "Ecells.D = 0.01\n",
    "\n",
    "# Ecells.I = 1.6*uamp*cm**-2\n",
    "# Ecells.I = TimedArray(np.matlib.repmat(signal.unit_impulse(1000,100),1,40),dt = defaultclock.dt) *1.6*uamp*cm**-2\n",
    "\n",
    "\n",
    "\n",
    "Ecells.v = -60*mV\n",
    "Ecells.chi = 0.5*umolar\n",
    "# Ecells.g_cal_nmda = g_cal_nmda_0\n",
    "\n",
    "g_cal_nmda = g_cal_nmda_0\n",
    "\n",
    "\n",
    "# # ---------------- Synapses ---------------- #\n",
    "\n",
    "# Coupling\n",
    "# eqs_coup = '''\n",
    "# Ileak = 1.125*(v_post - v_pre)/mV*uA\n",
    "# '''\n",
    "\n",
    "# C_coup = Synapses(Ecells, Ecells, model=eqs_coup, on_post = eqs_nmda_post,\n",
    "#                  method='rk4')\n",
    "# C_coup.connect(condition='i != j')\n",
    "\n",
    "\n",
    "# INPUT FROM LIF\n",
    "g_input = 0.1*msiemens/cm**2\n",
    "input_eqs = '''\n",
    "            I_input = 1/Cme * g_input * (v_post - v_pre)\n",
    "'''\n",
    "\n",
    "input_syn = Synapses(input_lif, Ecells, model=input_eqs, method='rk4')\n",
    "input_syn\n",
    "# C_coup.connect(condition='i != j')\n",
    "\n",
    "\n",
    "# mon = StateMonitor(Ecells, ['v','Ik','Ina'],record = True)\n",
    "# mon = StateMonitor(Ecells, ['v','ksi','Ia','alphama','betama','alphaha','betaha'],record = True)\n",
    "# mon = StateMonitor(Ecells, ['v','Ina','Ik','Ia','Ikdr','Imahp'],record = True)\n",
    "\n",
    "\n",
    "\n",
    "# mon = StateMonitor(Ecells, ['Ina','mna','hna','sna','tausna','snainf'],record = True)\n",
    "\n",
    "\n",
    "# mon = StateMonitor(Ecells, ['v','Ik','Ina','ma','ha','alphama','betama'],record = True)\n",
    "\n",
    "\n",
    "# mon_E = StateMonitor(Ecells, ['v','chi','P','V','A','D','B','I_NMDA_rec','I_cal_nmda','I_syn_nmda'],record = [0,1])\n",
    "# mon_sp = SpikeMonitor(Ecells,record = True)\n",
    "\n"
   ]
  },
  {
   "cell_type": "code",
   "execution_count": null,
   "metadata": {},
   "outputs": [],
   "source": [
    "run(duration,report='stdout')"
   ]
  },
  {
   "cell_type": "code",
   "execution_count": 49,
   "metadata": {},
   "outputs": [
    {
     "data": {
      "text/plain": [
       "(1, 120)"
      ]
     },
     "execution_count": 49,
     "metadata": {},
     "output_type": "execute_result"
    }
   ],
   "source": [
    "# (mon.v[0][0:200])\n",
    "(mon.v.shape)"
   ]
  },
  {
   "cell_type": "code",
   "execution_count": 53,
   "metadata": {},
   "outputs": [],
   "source": [
    "# plot(mon.t,mon.v[0][:])\n",
    "#      -mon.Ia[0][:])\n",
    "# plot(mon.v[0][0:150]/mV)\n",
    "# plot(mon.t,mon.v[0][0:150]/mV)\n",
    "# mon.Ia[0][0:100]"
   ]
  },
  {
   "cell_type": "code",
   "execution_count": 67,
   "metadata": {},
   "outputs": [
    {
     "data": {
      "text/latex": [
       "$\\left[\\begin{matrix}-60.0\\\\-59.9862210929895\\\\-43.5524354585689\\\\\\mathrm{NaN}\\end{matrix}\\right]\\,\\mathrm{m}\\,\\mathrm{V}$"
      ],
      "text/plain": [
       "array([-60.        , -59.98622109, -43.55243546,          nan]) * mvolt"
      ]
     },
     "execution_count": 67,
     "metadata": {},
     "output_type": "execute_result"
    }
   ],
   "source": [
    "# -1.5*(1/mV) - 1/(1+exp((-mon.v[0][:]+40*mV)/(5*mV)))*(1/mV)\n",
    "# plot(mon.v[0][:])\n",
    "mon.v[0][0:4]"
   ]
  },
  {
   "cell_type": "code",
   "execution_count": 6,
   "metadata": {},
   "outputs": [
    {
     "data": {
      "text/latex": [
       "$0.43198536407796223\\,\\mathrm{V}^{-1}$"
      ],
      "text/plain": [
       "0.43198536 * volt ** -1"
      ]
     },
     "execution_count": 6,
     "metadata": {},
     "output_type": "execute_result"
    }
   ],
   "source": [
    "# exp(1e-3 * mon.ksi[0] * (mon.v[0]-11*mV) * Q)\n",
    "Q"
   ]
  },
  {
   "cell_type": "code",
   "execution_count": 131,
   "metadata": {},
   "outputs": [
    {
     "data": {
      "text/plain": [
       "array([182.93585598,          nan,          nan,          nan,\n",
       "                nan,          nan,          nan,          nan,\n",
       "                nan,          nan,          nan,          nan,\n",
       "                nan,          nan,          nan,          nan,\n",
       "                nan,          nan,          nan,          nan])"
      ]
     },
     "execution_count": 131,
     "metadata": {},
     "output_type": "execute_result"
    }
   ],
   "source": [
    "1e-3 * mon.ksi[0] * (mon.v[0]-11*mV) * Q"
   ]
  },
  {
   "cell_type": "code",
   "execution_count": 64,
   "metadata": {},
   "outputs": [
    {
     "data": {
      "text/plain": [
       "0.020244132317562454"
      ]
     },
     "execution_count": 64,
     "metadata": {},
     "output_type": "execute_result"
    }
   ],
   "source": [
    "# Q = F/coulomb/(R/(joule/degC)*(T+degC)/kelvin)\n",
    "Q\n"
   ]
  },
  {
   "cell_type": "code",
   "execution_count": 2,
   "metadata": {},
   "outputs": [
    {
     "data": {
      "text/plain": [
       "array([[1, 1, 1],\n",
       "       [1, 1, 1]])"
      ]
     },
     "execution_count": 2,
     "metadata": {},
     "output_type": "execute_result"
    }
   ],
   "source": [
    "import numpy as np\n",
    "import numpy.matlib\n",
    "a0 = np.array(1)\n",
    "np.matlib.repmat(a0, 2, 3)\n"
   ]
  },
  {
   "cell_type": "code",
   "execution_count": null,
   "metadata": {},
   "outputs": [],
   "source": []
  }
 ],
 "metadata": {
  "kernelspec": {
   "display_name": "Python 3",
   "language": "python",
   "name": "python3"
  },
  "language_info": {
   "codemirror_mode": {
    "name": "ipython",
    "version": 3
   },
   "file_extension": ".py",
   "mimetype": "text/x-python",
   "name": "python",
   "nbconvert_exporter": "python",
   "pygments_lexer": "ipython3",
   "version": "3.6.6"
  }
 },
 "nbformat": 4,
 "nbformat_minor": 2
}
