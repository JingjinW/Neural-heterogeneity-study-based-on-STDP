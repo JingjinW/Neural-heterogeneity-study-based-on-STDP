{
 "cells": [
  {
   "cell_type": "code",
   "execution_count": null,
   "metadata": {},
   "outputs": [],
   "source": [
    "# checkpoint 10/27/18 \n",
    "#  SINGLE SOMA works with Ina Ik Ica chi is the old version.\n",
    "#  Icoup = 0.\n",
    "\n",
    "\n",
    "# checkpoint 10/29/18 \n",
    "# SPINE AND SOMA. STUCK at dchi/dt, chi coupling term.\n",
    "# remaining question: how to use monitor.\n",
    "\n",
    "# checkpoint 11/12/18\n",
    "# ADDING CHICOUP TERM\n",
    "\n",
    "# COPY-4 11/13/18\n",
    "# TRY REARRANGE THE ORDER OF THE EQS."
   ]
  },
  {
   "cell_type": "code",
   "execution_count": 2,
   "metadata": {},
   "outputs": [],
   "source": [
    "from brian2 import *\n",
    "# from numpy import matlib\n",
    "import numpy as np\n",
    "import matplotlib.pyplot as plt\n"
   ]
  },
  {
   "cell_type": "code",
   "execution_count": 54,
   "metadata": {},
   "outputs": [],
   "source": [
    "start_scope()\n",
    "\n",
    "defaultclock.dt = 0.025*ms\n",
    "\n",
    "\n",
    "# FUNCTION SECTION\n",
    "zetap = 30.  # This is 40 in Poirazi paper\n",
    "tempc = 23.*kelvin\n",
    "\n",
    "\n",
    "xx = 0.0853*(273.16 + tempc/kelvin)/2  # kelvin\n",
    "tadj = 2.3**((tempc/kelvin-23)/10)   \n",
    "q = 96480/(8.315*(273.16+tempc/kelvin))  \n",
    "qt = 5**((tempc/kelvin-24)/10)  \n",
    "\n",
    "qma = 0.000480*(1/ms)\n",
    "qmb = 0.280000*(1/ms)\n",
    "qhat = 1.\n",
    "\n",
    "\n",
    "\n",
    "@implementation('cython',\"\"\"\n",
    "def zeta(v):\n",
    "    return -1.5-(1./(1.+exp((v+30.)/5.))) \n",
    "\"\"\")\n",
    "@check_units(v=1, result=1)\n",
    "def zeta(v):\n",
    "    return -1.5-(1./(1.+exp((v+30.)/5.))) \n",
    "# zeta.stateless = True\n",
    "\n",
    "@implementation('cython',\"\"\"\n",
    "def zeta2(v):\n",
    "    return -1.8-(1/(1+exp((v+40)/5)))  \n",
    "\"\"\")\n",
    "@check_units(v=1, result=1)\n",
    "def zeta2(v):\n",
    "    return -1.8-(1/(1+exp((v+40)/5)))  \n",
    "\n",
    "\n",
    "@implementation('numpy',discard_units=True)\n",
    "@check_units(z=1, result=1)  # z is volt, so when used should do eff(z/mV). see ghk(volt)\n",
    "def eff(z):\n",
    "    return ((1-z/2)*np.heaviside(0.0001-abs(z), 1)+\\\n",
    "            (z/(exp(z)-1))*np.heaviside(abs(z)-0.0001, 1))\n",
    "\n",
    "\n",
    "@implementation('cython',\"\"\"\n",
    "def salfa(v):\n",
    "    return -0.055*(v+27.01)/(exp((-v-27.01)/3.8)-1) \n",
    "\"\"\")\n",
    "@check_units(v=1, result=1)\n",
    "def salfa(v):\n",
    "    return -0.055*(v+27.01)/(exp((-v-27.01)/3.8)-1)  \n",
    "\n",
    "\n",
    "@implementation('cython',\"\"\"\n",
    "def sbeta(v):\n",
    "    return 0.94*exp((-v-63.01)/17) \n",
    "\"\"\")\n",
    "@check_units(v=1, result=1)\n",
    "def sbeta(v):\n",
    "    return 0.94*exp((-v-63.01)/17) \n",
    "\n",
    "\n",
    "# 1/10 scale\n",
    "t_st = -100*ms\n",
    "# impulse_duration = period*1.1  # 1.25*ms\n",
    "# period = 300*ms\n",
    "period = 1000*ms\n",
    "\n",
    "t_delta = 10*ms\n",
    "\n",
    "@implementation('numpy',discard_units=True)\n",
    "@check_units(t=ms, result=1)\n",
    "def fpost(t):\n",
    "    return (np.heaviside((t-0.1*ms)/ms,0)*\\\n",
    "        (np.heaviside(sin(2*pi*(t-t_st-2*ms-t_delta)/period),1)*\\\n",
    "        (1 - np.heaviside(sin(2*pi*(t-t_st-t_delta-1*ms)/period),1))))\n",
    "\n",
    "\n",
    "# @implementation('numpy',discard_units=True)\n",
    "# @check_units(t=ms, result=1)\n",
    "# def fpre(t):\n",
    "#     return np.heaviside(np.heaviside((t-1*ms)/ms,0) *\\\n",
    "#                         np.heaviside(sin(2*pi*(t-t_st-1.1*ms)/period),1)*\\\n",
    "#                         (1 - np.heaviside(sin(2*pi*(t-t_st-1*ms)/period),1)),0)\n",
    "\n",
    "\n",
    "@implementation('numpy',discard_units=True)\n",
    "@check_units(t=ms, result=1)\n",
    "def fpre(t):\n",
    "    return (np.heaviside((t-1*ms)/ms,0) *\\\n",
    "            (np.heaviside(sin(2*pi*(t-t_st-1.1*ms)/period),1)*\\\n",
    "            (1 - np.heaviside(sin(2*pi*(t-t_st-1*ms)/period),1))))\n",
    "    \n",
    "#     return np.heaviside(np.heaviside((t-1*ms)/ms,0) *\\\n",
    "#                         np.heaviside(sin(2*pi*(t-t_st-1.1*ms)/period),1)*\\\n",
    "#                         (1 - np.heaviside(sin(2*pi*(t-t_st-1*ms)/period),1)),0)\n",
    "\n",
    "\n",
    "\n",
    "\n",
    "# (np.heaviside((t-t_st)/ms,0)*np.heaviside(sin(2*pi*(t-t_st-period)/period),1)\\\n",
    "#             *(1 - np.heaviside(sin(2*pi*(t-t_st-period-1*ms)/period),1)))\n",
    "\n",
    "\n",
    "\n",
    "# fpre(t)=synapse*heav(heav(t-1)*(heav(sin(6.2831853*(t-st-1.1)/period))\\\n",
    "# *(1-heav(sin(6.2831853*(t-st-1)/period))))) +ror*synapse*heav(heav(t-1)*\\\n",
    "# (heav(sin(6.2831853*(t-win-st-1.1)/period))*(1-heav(sin(6.2831853*(t-win-st-1)/period)))))  \n",
    "# fpost(t)= heav(t-1)*(heav(sin(6.2831853*(t-2-st-delta)/period))*\\\n",
    "# (1-heav(sin(6.2831853*(t-1-st-delta)/period)))) + \\\n",
    "# oro*heav(t-1)*(heav(sin(6.2831853*(t-2-st-delta+win)/period))*\\\n",
    "# (1-heav(sin(6.2831853*(t-1-st-delta+win)/period))))  "
   ]
  },
  {
   "cell_type": "code",
   "execution_count": 55,
   "metadata": {},
   "outputs": [],
   "source": [
    "# ----- SOMA ------ #\n",
    "\n",
    "Nsoma = 1\n",
    "\n",
    "# some calcium-related vars, table 2\n",
    "pHC = 4.0*umolar\n",
    "aHC = 0.6*umolar\n",
    "pHN = 4.\n",
    "aHN = 3.\n",
    "alphav = 1.\n",
    "alphab = 5.\n",
    "alphad = 1.\n",
    "thetav = 2.*umolar\n",
    "thetad = 2.6\n",
    "thetab = 0.55\n",
    "Cp = 5.\n",
    "Cd = 4.\n",
    "taup = 500*ms\n",
    "taua = 5*ms\n",
    "tauv = 10*ms\n",
    "taud = 250*ms\n",
    "taub = 40*ms\n",
    "sigmav = -0.05*umolar\n",
    "sigmad = -0.01\n",
    "sigmab = -0.02\n",
    "p = 0.3\n",
    "d = 0.01\n",
    "kd = -0.002\n",
    "kp = -0.1\n",
    "\n",
    "alphaw = 0.8\n",
    "betaw = 0.6\n",
    "tauw = 500*ms\n",
    "\n",
    "# some calcium-related vars, concentration\n",
    "phisoma = 0.1*umolar/ms/(uamp*cm**-2)\n",
    "betasoma = 0.083/ms\n",
    "chi0soma = 0.05*umolar\n",
    "\n",
    "phispin = 0.1*umolar/ms/(uamp*cm**-2)\n",
    "betaspin = 0.083/ms\n",
    "chi0spin = 0.07*umolar\n",
    "nonc =  6.*umolar\n",
    "\n",
    "\n",
    "\n",
    "\n",
    "\n",
    "# Ileak\n",
    "glsoma = 0.1*msiemens/cm**2\n",
    "glspin = 0.1*msiemens/cm**2\n",
    "El = -70.*mV\n",
    "\n",
    "# Ina\n",
    "gNasoma = 30.*msiemens/cm**2\n",
    "ENa = 60*mV\n",
    "gNaspin = 7.*msiemens/cm**2\n",
    "natt = 1.\n",
    "asap=0.001\n",
    "inact=72.\n",
    "inact2=0.11\n",
    "inact3=2.\n",
    "inact4=64.\n",
    "inact5=1.\n",
    "\n",
    "# Ik; Iksoma = kdr + a + mahp; Ikspin = kdr + a\n",
    "gkdrsoma = 14*msiemens/cm**2\n",
    "gasoma = 7.5*msiemens/cm**2\n",
    "gmahpsoma = 25*msiemens/cm**2\n",
    "Ek = -80*mV\n",
    "btaumod = 7.\n",
    "gkdrspin = 0.867*msiemens/cm**2\n",
    "gaspin = 12.*msiemens/cm**2\n",
    "\n",
    "\n",
    "# Ica\n",
    "gcalsoma = 7.0*uamp*cm**-2\n",
    "gcalspin = 25.0*msiemens/cm**2\n",
    "Eca = 140.*mV\n",
    "s1=0.0\n",
    "s2=40.\n",
    "s3=3.6\n",
    "vcanmda = 140.*mV\n",
    "ca = 2.\n",
    "\n",
    "# synapses strength\n",
    "gnmda = 0.3*msiemens/cm**2\n",
    "gcanmda = 25.*msiemens/cm**2\n",
    "gampa = 0.05*msiemens/cm**2\n",
    "# gcoup = 1.125*msiemens/cm**2\n",
    "gcoup = 0.3*msiemens/cm**2\n",
    "\n",
    "allowampa = 1.0\n",
    "vsynrev = 0.0*mV\n",
    "speedup =20.\n",
    "nmdarate = 2.\n",
    "ndf = 10.0\n",
    "nds = 45.0   \n",
    "block = 0.062\n",
    "blockca =0.124\n",
    "mg = 2.\n",
    "\n",
    "# Iin\n",
    "ipostinj = 62.5*uamp*cm**-2\n",
    "# ginsoma = 1.*amp*meter**-2\n",
    "\n",
    "Cm = 1 * ufarad/cm**2\n",
    "\n",
    "eqs_soma = '''\n",
    "dv/dt = ( ( Ileak +  Ina + Ik + Ica + Icoup + Iin))/Cm : volt\n",
    "\n",
    "\n",
    "Ileak = glsoma * (El-v) : amp*meter**-2\n",
    "\n",
    "\n",
    "Ina = gNasoma * mna**2 * hna * (ENa-v) : amp*meter**-2\n",
    "# soma activation\n",
    "alphams = 0.32*(-46.9-v/mV)/(exp((-46.9-v/mV)/4.0)-1.0)/ms :Hz\n",
    "betams = 0.28*(v/mV+19.9)/(exp((v/mV+19.9)/5.0)-1.0)/ms :Hz\n",
    "mna = alphams/(alphams+betams) : 1\n",
    "dhna/dt=alphahs-(alphahs+betahs)*hna  :1\n",
    "alphahs = 0.128*exp((-43.0-v/mV)/18.0)/ms :Hz\n",
    "betahs = 4.0/(1.0+exp((-20.0-v/mV)/5.0))/ms :Hz\n",
    "\n",
    "\n",
    "\n",
    "Ik = Ia + Ikdr + Imahp : amp*meter**-2\n",
    "\n",
    "Ikdr = gkdrsoma * n_soma * (Ek - v) : amp*meter**-2\n",
    "dn_soma/dt = alphans-(alphans+betans)*n_soma : 1 \n",
    "alphans =  0.016*(-24.9-v/mV)/(exp((-24.9-v/mV)/5.0)-1.0)/ms : Hz  \n",
    "betans =   0.25*exp(-1.0-0.025*v/mV)/ms  : Hz\n",
    "\n",
    "Ia = gasoma * a_soma * b_soma * (Ek-v) : amp*meter**-2\n",
    "da_soma/dt=(a_somainf-a_soma)/(a_somatau)  : 1\n",
    "a_somainf=1/(1+a_smaalf)  : 1\n",
    "a_smaalf=exp(0.001*zeta(v/mV)*(v/mV-11)*q)  : 1\n",
    "a_smabet=exp(0.00055*q*(v/mV-11)*zeta(v/mV)) : 1\n",
    "a_somatau=clip(a_smabet/((1+a_smaalf)*qt*0.05),0.1, inf)*ms : second\n",
    "db_soma/dt=(b_somainf-b_soma)/(b_somatau) :1\n",
    "b_somainf = 0.3+0.7/(1+exp(0.02*(v/mV+63.5)*q)) :1   \n",
    "b_somatau = btaumod*clip(0.11*(v/mV+62),2,inf)*ms : second\n",
    "\n",
    "Imahp = gmahpsoma * qm_soma * (Ek - v) : amp*meter**-2\n",
    "dqm_soma/dt = (qm_smainf-qm_soma)/(qm_smatau)  :1\n",
    "qm_smaalf = qma*chi/umolar/(0.001*chi/umolar + 0.18*exp(-1.68*v/mV*q)) : Hz \n",
    "qm_smabet = (qmb*exp(-0.022*v/mV*q))/(exp(-0.022*v/mV*q)+0.001*chi/umolar) : Hz  \n",
    "qm_smatau = 1/(qm_smaalf+qm_smabet)  : second\n",
    "qm_smainf = qhat*qm_smaalf*qm_smatau  : 1\n",
    "\n",
    "\n",
    "\n",
    "Ica = -gcalsoma*s_soma*ghk*(1/(1+chi/umolar)) : amp*meter**-2\n",
    "ghk = -xx*(1-((chi/umolar/ca)*exp(v/mV/xx)))*eff(v/mV/xx) :1\n",
    "ds_soma/dt=(s_somainf-s_soma)/(s_somatau)  : 1\n",
    "s_somainf=salfa(v/mV)/(salfa(v/mV)+sbeta(v/mV))  : 1\n",
    "s_somatau=1/(5*(salfa(v/mV)+sbeta(v/mV)))*ms  : second\n",
    "\n",
    "dchi/dt = phisoma*Ica - betasoma*(chi-chi0soma)  - (betasoma/nonc)*chi**2 + chicoup : mmolar\n",
    "dP/dt = ((10*(chi/pHC)**pHN / (1+(chi/pHC)**pHN))-Cp*A*P)/taup : 1\n",
    "dA/dt = (((chi/aHC)**aHN/(1+(chi/aHC)**aHN))-A)/taua : 1\n",
    "dV/dt = ( alphav/(1+exp((chi-thetav)/sigmav)) -V)/tauv : 1\n",
    "dB/dt = ( alphab/(1+exp((A-thetab)/sigmab)) -B -Cd*V*B)/taub : 1\n",
    "dD/dt = ( alphad/(1+exp((B-thetad)/sigmad)) -D)/taud : 1\n",
    "chicoup  : mmolar/second\n",
    "\n",
    "dw/dt = ( alphaw/(1+exp((P-p)/kp)) - betaw/(1+exp((D-d)/kd)) - w )/tauw :1 \n",
    "\n",
    "\n",
    "Iin = ipostinj * fpost(t) :amp*meter**-2\n",
    "\n",
    "Icoup :  amp*meter**-2\n",
    "'''\n",
    "\n",
    "\n",
    "\n",
    "\n",
    "# somas = NeuronGroup(Nsoma, eqs_soma, threshold='v>0*mV',refractory='v > 0*mV',method='rk4')\n",
    "# somas.v = -60*mV\n",
    "# somas.chi = 0.05*umolar\n",
    "\n",
    "# Msoma = StateMonitor(somas, {'v','chi', 'Iin','Ina','Ik','Ica'} , record=True)\n",
    "\n"
   ]
  },
  {
   "cell_type": "code",
   "execution_count": 56,
   "metadata": {},
   "outputs": [],
   "source": [
    "# ----- SPINE -----#\n",
    "\n",
    "Nspin = 1\n",
    "\n",
    "# TEST\n",
    "# phispin = 0.0*umolar/ms/(uamp*cm**-2)\n",
    "\n",
    "eqs_spin = '''\n",
    "dv/dt = ( ( Ileak +  Ina + Ik + Ica + Icoup + Iampa + Inmda))/Cm : volt\n",
    "\n",
    "\n",
    "Ileak = glspin * (El-v) : amp*meter**-2\n",
    "\n",
    "Ina = gNaspin * m_spin**2 * h_spin * i_spin * (ENa-v) : amp*meter**-2\n",
    "# soma activation\n",
    "dm_spin/dt=(m_spininf-m_spin)/(m_spintau) :1\n",
    "m_spininf=1/(1+exp((-v/mV-40)/3))  : 1\n",
    "#m_spintau = max(0.1,0.05)   ???\n",
    "m_spintau = 0.1*ms : second\n",
    "dh_spin/dt=(h_spininf-h_spin)/(h_spintau)  :1\n",
    "h_spininf=1/(1+exp((v/mV +45)/3))  :1\n",
    "h_spintau=0.5*ms : second\n",
    "di_spin/dt=(i_spininf-i_spin)/(i_spintau)  :1\n",
    "i_spininf=(1+natt*exp((v/mV+60)/2))/(1+exp((v/mV+60)/2))  :1\n",
    "i_spintau=clip((0.00333*exp(0.0024*(v/mV+60)*q))/(1+exp(0.0012*(v/mV+60)*q)),0.1,inf)*ms : second  \n",
    "\n",
    "\n",
    "Ik = Ia + Ikdr : amp*meter**-2\n",
    "\n",
    "Ikdr = gkdrspin * n_spin**2 * (Ek - v) : amp*meter**-2\n",
    "dn_spin/dt=(n_spininf-n_spin)/(n_spintau)  :1\n",
    "n_spininf=1/(1+exp((-v/mV-42)/2))  :1\n",
    "n_spintau=2.2*ms : second\n",
    "\n",
    "Ia = gaspin * a_spin * b_spin * (Ek-v) : amp*meter**-2\n",
    "da_spin/dt=(a_spininf-a_spin)/(a_spintau)  :1\n",
    "a_spnalf=exp(asap*zeta(v/mV)*(v/mV+1)*q)  :1\n",
    "a_spininf=1/(1+a_spnalf)  :1\n",
    "a_spnbet=exp(0.00039*q*(v/mV+1)*zeta2(v/mV))  :1\n",
    "a_spintau= clip(a_spnbet/((1+a_spnalf)*qt*0.1),0.1,inf)*ms :second\n",
    "db_spin/dt=(b_spininf-b_spin)/(b_spintau) :1\n",
    "b_spininf= 0.3+0.7/(1+exp(inact2*(v/mV+inact)*q)) :1\n",
    "b_spintau=btaumod*clip(inact3*(v/mV+inact4),inact5, inf)*ms : second\n",
    "\n",
    "\n",
    "Ica = gcalspin * s_spin**3 * t_spin * (Eca - v)  : amp*meter**-2\n",
    "ds_spin/dt=(s_spininf-s_spin)/(s_spintau)  :1\n",
    "s_spininf=1/(1+exp(-v/mV-37))  :1\n",
    "s_spintau= (s3+s1/(1+exp(v/mV+s2)))*ms  : second\n",
    "dt_spin/dt=(t_spininf-t_spin)/(t_spintau)  :1\n",
    "t_spininf=1/(1+exp((v/mV+41)/.5))  :1\n",
    "t_spintau=29*ms : second\n",
    "\n",
    "\n",
    "Iampa = allowampa*gampa*sampa*(vsynrev - v)  : amp*meter**-2\n",
    "dsamparise/dt = (-speedup*(1-sampafast-sampaslow)*fpre(t)-(1/0.58)*samparise)/ms  :1\n",
    "dsampafast/dt = (speedup*(0.903-sampafast)*fpre(t)-(1/7.6)*sampafast)/ms  :1\n",
    "dsampaslow/dt = (speedup*(0.097-sampaslow)*fpre(t)-(1/25.69)*sampaslow)/ms  :1\n",
    "sampa = sampafast+sampaslow+samparise  : 1\n",
    "\n",
    "\n",
    "\n",
    "Inmda = gnmda*snmda*mnmda*(vsynrev - v)   : amp*meter**-2\n",
    "Icanmda = gcanmda*snmda*mcanmda*(vcanmda - v)   : amp*meter**-2\n",
    "dsnmdarise/dt = (-speedup*(1-snmdafast-snmdaslow)*fpre(t)-(1/nmdarate)*snmdarise)/ms  :1\n",
    "dsnmdafast/dt = (speedup*(0.527-snmdafast)*fpre(t)-(1/ndf)*snmdafast)/ms  :1\n",
    "dsnmdaslow/dt = (speedup*(0.473-snmdaslow)*fpre(t)-(1/nds)*snmdaslow)/ms  :1\n",
    "snmda = snmdafast+snmdaslow+snmdarise :1\n",
    "mnmda=    1/(1.0+0.3*mg*exp(-block*v/mV))  :1\n",
    "mcanmda=  1/(1.0+0.3*mg*exp(-blockca*v/mV))  :1\n",
    "\n",
    "\n",
    "\n",
    "dchi/dt = phispin*(Ica+Icanmda) - betaspin*(chi-chi0spin) -(betaspin/nonc)*chi**2 : mmolar\n",
    "dP/dt = ((10*(chi/pHC)**pHN / (1+(chi/pHC)**pHN))-Cp*A*P)/taup : 1\n",
    "dA/dt = (((chi/aHC)**aHN/(1+(chi/aHC)**aHN))-A)/taua : 1\n",
    "dV/dt = ( alphav/(1+exp((chi-thetav)/sigmav)) -V)/tauv : 1\n",
    "dB/dt = ( alphab/(1+exp((A-thetab)/sigmab)) -B -Cd*V*B)/taub : 1\n",
    "dD/dt = ( alphad/(1+exp((B-thetad)/sigmad)) -D)/taud : 1\n",
    "\n",
    "\n",
    "Icoup :  amp*meter**-2\n",
    "\n",
    "'''\n",
    "\n",
    "\n",
    "\n",
    "\n",
    "# spines = NeuronGroup(Nsoma, eqs_spin, threshold='v>0*mV',refractory='v > 0*mV',method='rk4')\n",
    "# spines.v = -60*mV\n",
    "# spines.chi = 0.05*umolar\n",
    "\n",
    "# Mspines = StateMonitor(spines, {'v','chi', 'Iin','Ina','Ik','Ica'} , record=True)\n",
    "\n"
   ]
  },
  {
   "cell_type": "code",
   "execution_count": 57,
   "metadata": {},
   "outputs": [],
   "source": [
    "# INITIAL CONDITION\n",
    "# somas = NeuronGroup(Nsoma, eqs_soma, threshold='v>0*mV',refractory='v > 0*mV',method='rk4')\n",
    "somas = NeuronGroup(Nsoma, eqs_soma,method='rk4')\n",
    "somas.v = -69.7516*mV\n",
    "somas.chi = 0.0832192*umolar\n",
    "somas.a_soma = 0.000370194\n",
    "somas.b_soma = 0.994819\n",
    "somas.hna = 0.997346\n",
    "somas.n_soma =0.000402584\n",
    "somas.qm_soma = 0\n",
    "somas.s_soma = 2.19281e-05\n",
    "\n",
    "\n",
    "\n",
    "\n",
    "# spines = NeuronGroup(Nspin, eqs_spin, threshold='v>0*mV',refractory='v > 0*mV',method='rk4')\n",
    "spines = NeuronGroup(Nspin, eqs_spin ,method='rk4')\n",
    "spines.v = -69.8996*mV\n",
    "spines.chi = 0.0700397*umolar\n",
    "spines.a_spin = 0.00117929\n",
    "spines.b_spin = 1.\n",
    "spines.h_spin = 0.999752\n",
    "spines.i_spin = 0.992965\n",
    "spines.m_spin = 4.69422e-05\n",
    "spines.n_spin = 8.74318e-07\n",
    "spines.s_spin = 6.03051e-15\n",
    "spines.t_spin = 1\n",
    "\n",
    "\n",
    "\n",
    "\n"
   ]
  },
  {
   "cell_type": "code",
   "execution_count": 58,
   "metadata": {},
   "outputs": [],
   "source": [
    "\n",
    "\n",
    "# ----- SYNAPSES------ #\n",
    "# Coupling\n",
    "eqs_coup = '''\n",
    "Icoup_post = gcoup * (v_pre - v_post) : amp*meter**-2 (summed)\n",
    "'''\n",
    "\n",
    "C_coup_smsp = Synapses(somas, spines, model=eqs_coup, method='rk4')\n",
    "C_coup_smsp.connect(condition='i == j')\n",
    "C_coup_spsm = Synapses(spines, somas, model=eqs_coup, method='rk4')\n",
    "C_coup_spsm.connect(condition='i == j')\n",
    "\n",
    "\n",
    "\n",
    "\n",
    "\n",
    "# Msoma = StateMonitor(somas, {'v','chi', 'Iin','Ina','Ik','Ica'} , record=True)\n",
    "# Msoma = StateMonitor(somas, {'v','chi'} , record=True)\n",
    "Msoma = StateMonitor(somas, {'v','chi','Icoup','Iin','Ileak','Ina','Ik','Ica','w','P','A','V','B','D'} , record=True)\n",
    "\n",
    "# Mspines = StateMonitor(spines, {'v','chi', 'Iin','Ina','Ik','Ica'} , record=True)\n",
    "# Mspines = StateMonitor(spines, {'v','chi'} , record=True)\n",
    "Mspines = StateMonitor(spines, {'v','chi','Ica','Ileak','Ina','Ik','Iampa','Inmda'} , record=True)\n",
    "# Msmsp = StateMonitor(C_coup_smsp,{'Icoup_post'},record=True)\n",
    "# Mspsm = StateMonitor(C_coup_spsm,{'Icoup_post'},record=True)\n",
    "\n",
    "\n",
    "\n",
    "CaTauSoSp =1000.*ms\n",
    "eqs_chi_coup = '''\n",
    "chicoup_post = (chi_pre - chi_post)/CaTauSoSp  : mmolar/second (summed)\n",
    "'''\n",
    "C_chi_coup = Synapses(spines, somas, model=eqs_chi_coup, method='rk4')\n",
    "# C_chi_coup.connect(condition='i == j')\n",
    "C_chi_coup.connect()"
   ]
  },
  {
   "cell_type": "code",
   "execution_count": 59,
   "metadata": {},
   "outputs": [
    {
     "name": "stdout",
     "output_type": "stream",
     "text": [
      "Starting simulation at t=0. s for a duration of 20. s\n",
      "0.382 (1%) simulated in 10s, estimated 8m 34s remaining.\n",
      "0.740575 (3%) simulated in 20s, estimated 8m 40s remaining.\n",
      "1.1189500000000001 (5%) simulated in 30s, estimated 8m 26s remaining.\n",
      "1.5266250000000001 (7%) simulated in 40s, estimated 8m 4s remaining.\n",
      "1.9022000000000001 (9%) simulated in 50s, estimated 7m 56s remaining.\n",
      "2.3249 (11%) simulated in 1m 0s, estimated 7m 36s remaining.\n",
      "2.7531000000000008 (13%) simulated in 1m 10s, estimated 7m 19s remaining.\n",
      "3.1828000000000003 (15%) simulated in 1m 20s, estimated 7m 3s remaining.\n",
      "3.611975 (18%) simulated in 1m 30s, estimated 6m 48s remaining.\n",
      "4.039525 (20%) simulated in 1m 40s, estimated 6m 35s remaining.\n",
      "4.44195 (22%) simulated in 1m 50s, estimated 6m 25s remaining.\n",
      "4.8519250000000005 (24%) simulated in 2m 0s, estimated 6m 15s remaining.\n",
      "5.282425 (26%) simulated in 2m 10s, estimated 6m 2s remaining.\n",
      "5.710224999999999 (28%) simulated in 2m 20s, estimated 5m 50s remaining.\n",
      "6.139675 (30%) simulated in 2m 30s, estimated 5m 39s remaining.\n",
      "6.566050000000001 (32%) simulated in 2m 40s, estimated 5m 27s remaining.\n",
      "6.997225 (34%) simulated in 2m 50s, estimated 5m 16s remaining.\n",
      "7.4262250000000005 (37%) simulated in 3m 0s, estimated 5m 5s remaining.\n",
      "7.854925000000001 (39%) simulated in 3m 10s, estimated 4m 54s remaining.\n",
      "8.279425 (41%) simulated in 3m 20s, estimated 4m 43s remaining.\n",
      "8.710475 (43%) simulated in 3m 30s, estimated 4m 32s remaining.\n",
      "9.138425 (45%) simulated in 3m 40s, estimated 4m 21s remaining.\n",
      "9.569175000000001 (47%) simulated in 3m 50s, estimated 4m 11s remaining.\n",
      "9.994925 (49%) simulated in 4m 0s, estimated 4m 0s remaining.\n",
      "10.41555 (52%) simulated in 4m 10s, estimated 3m 50s remaining.\n",
      "10.844475 (54%) simulated in 4m 20s, estimated 3m 40s remaining.\n",
      "11.274875 (56%) simulated in 4m 30s, estimated 3m 29s remaining.\n",
      "11.704475 (58%) simulated in 4m 40s, estimated 3m 18s remaining.\n",
      "12.13475 (60%) simulated in 4m 50s, estimated 3m 8s remaining.\n",
      "12.564475 (62%) simulated in 5m 0s, estimated 2m 58s remaining.\n",
      "12.992925000000001 (64%) simulated in 5m 10s, estimated 2m 47s remaining.\n",
      "13.41735 (67%) simulated in 5m 20s, estimated 2m 37s remaining.\n",
      "13.849 (69%) simulated in 5m 30s, estimated 2m 27s remaining.\n",
      "14.256350000000001 (71%) simulated in 5m 40s, estimated 2m 17s remaining.\n",
      "14.64005 (73%) simulated in 5m 50s, estimated 2m 8s remaining.\n",
      "15.0656 (75%) simulated in 6m 0s, estimated 1m 58s remaining.\n",
      "15.496300000000002 (77%) simulated in 6m 10s, estimated 1m 48s remaining.\n",
      "15.90515 (79%) simulated in 6m 20s, estimated 1m 38s remaining.\n",
      "16.3288 (81%) simulated in 6m 30s, estimated 1m 28s remaining.\n",
      "16.755675 (83%) simulated in 6m 40s, estimated 1m 17s remaining.\n",
      "17.186275000000002 (85%) simulated in 6m 50s, estimated 1m 7s remaining.\n",
      "17.618325000000002 (88%) simulated in 7m 0s, estimated 57s remaining.\n",
      "18.04905 (90%) simulated in 7m 10s, estimated 46s remaining.\n",
      "18.4759 (92%) simulated in 7m 20s, estimated 36s remaining.\n",
      "18.9056 (94%) simulated in 7m 30s, estimated 26s remaining.\n",
      "19.333875000000003 (96%) simulated in 7m 40s, estimated 16s remaining.\n",
      "19.7387 (98%) simulated in 7m 50s, estimated 6s remaining.\n",
      "20.0 (100%) simulated in 7m 56s\n"
     ]
    }
   ],
   "source": [
    "# Mspines = StateMonitor(spines, {'v','chi', 'Iin','Ina','Ik','Ica'} , record=True)\n",
    "\n",
    "duration = 20000*ms\n",
    "run(duration,report='stdout')"
   ]
  },
  {
   "cell_type": "code",
   "execution_count": 32,
   "metadata": {},
   "outputs": [
    {
     "data": {
      "text/plain": [
       "<matplotlib.legend.Legend at 0x123bf0828>"
      ]
     },
     "execution_count": 32,
     "metadata": {},
     "output_type": "execute_result"
    },
    {
     "data": {
      "image/png": "[encoded data removed]",
      "text/plain": [
       "<Figure size 432x288 with 3 Axes>"
      ]
     },
     "metadata": {},
     "output_type": "display_data"
    }
   ],
   "source": [
    "# Msoma = StateMonitor(somas, {'v','chi','Icoup','Iin','Ileak','Ina','Ik','Ica'} , record=True)\n",
    "subplot(3,1,1)\n",
    "plot(Msoma.t/ms,Msoma[0].chi/umolar)\n",
    "subplot(3,1,2)\n",
    "plot(Msoma.t/ms,Msoma[0].Iin/uamp*cm**2)\n",
    "# plot(Msoma.t/ms,Msoma[0].Ileak/uamp*cm**2)\n",
    "# plot(Msoma.t/ms,Msoma[0].Ina/uamp*cm**2)\n",
    "# plot(Msoma.t/ms,Msoma[0].Ik/uamp*cm**2)\n",
    "# plot(Msoma.t/ms,Msoma[0].Ica/uamp*cm**2)\n",
    "# plot(Msoma.t/ms,Msoma[0].Icoup/uamp*cm**2)\n",
    "subplot(3,1,3)\n",
    "plot(Msoma.t/ms,Msoma[0].v/mV)\n",
    "# xlim(40,70)\n",
    "# plot(Msoma.t/ms,Msoma[0].w)\n",
    "\n",
    "\n",
    "plt.legend(('1','2','3','4','5','6'))"
   ]
  },
  {
   "cell_type": "code",
   "execution_count": 60,
   "metadata": {},
   "outputs": [
    {
     "data": {
      "text/plain": [
       "Text(0.5,1,'chisoma')"
      ]
     },
     "execution_count": 60,
     "metadata": {},
     "output_type": "execute_result"
    },
    {
     "data": {
      "image/png": "[encoded data removed]",
      "text/plain": [
       "<Figure size 432x288 with 1 Axes>"
      ]
     },
     "metadata": {},
     "output_type": "display_data"
    }
   ],
   "source": [
    "# plot(Msoma.t/ms,Msoma[0].v/mV)\n",
    "# plot(Msoma.t/ms,Mspines[0].v/mV)\n",
    "plot(Msoma.t/ms,Msoma[0].chi/umolar)\n",
    "\n",
    "xlim(350,500)\n",
    "title('chisoma')\n",
    "# savefig('CHISOMA.pdf')\n"
   ]
  },
  {
   "cell_type": "code",
   "execution_count": 28,
   "metadata": {},
   "outputs": [
    {
     "data": {
      "text/plain": [
       "[<matplotlib.lines.Line2D at 0x1257f5470>]"
      ]
     },
     "execution_count": 28,
     "metadata": {},
     "output_type": "execute_result"
    },
    {
     "data": {
      "image/png": "[encoded data removed]",
      "text/plain": [
       "<Figure size 432x288 with 5 Axes>"
      ]
     },
     "metadata": {},
     "output_type": "display_data"
    }
   ],
   "source": [
    "num_of_plot = 5\n",
    "subplot(num_of_plot,1,1)\n",
    "plot(Msoma.t/ms,Msoma[0].Iin/uamp*cm**2)\n",
    "subplot(num_of_plot,1,2)\n",
    "plot(Msoma.t/ms,Msoma[0].v/mV)\n",
    "subplot(num_of_plot,1,3)\n",
    "plot(Msoma.t/ms,Mspines[0].v/mV)\n",
    "\n",
    "subplot(num_of_plot,1,4)\n",
    "plot(Msoma.t/ms,Msoma[0].chi/umolar)\n",
    "subplot(num_of_plot,1,5)\n",
    "plot(Msoma.t/ms,Mspines[0].chi/umolar)\n"
   ]
  },
  {
   "cell_type": "code",
   "execution_count": 29,
   "metadata": {},
   "outputs": [
    {
     "data": {
      "text/plain": [
       "[<matplotlib.lines.Line2D at 0x1257f0be0>]"
      ]
     },
     "execution_count": 29,
     "metadata": {},
     "output_type": "execute_result"
    },
    {
     "data": {
      "image/png": "[encoded data removed]",
      "text/plain": [
       "<Figure size 432x288 with 8 Axes>"
      ]
     },
     "metadata": {},
     "output_type": "display_data"
    }
   ],
   "source": [
    "# Msoma = StateMonitor(somas, {'v','chi','Icoup','Iin','Ileak','Ina','Ik','Ica','w'} , record=True)\n",
    "\n",
    "num_of_plot = 8\n",
    "subplot(num_of_plot,1,1)\n",
    "plot(Msoma.t/ms,Msoma[0].Iin/uamp*cm**2)\n",
    "subplot(num_of_plot,1,2)\n",
    "plot(Msoma.t/ms,Msoma[0].v/mV)\n",
    "subplot(num_of_plot,1,3)\n",
    "plot(Msoma.t/ms,Msoma[0].Icoup/mV)\n",
    "subplot(num_of_plot,1,4)\n",
    "plot(Msoma.t/ms,Msoma[0].Ileak/mV)\n",
    "subplot(num_of_plot,1,5)\n",
    "plot(Msoma.t/ms,Msoma[0].Ina/mV)\n",
    "subplot(num_of_plot,1,6)\n",
    "plot(Msoma.t/ms,Msoma[0].Ik/mV)\n",
    "subplot(num_of_plot,1,7)\n",
    "plot(Msoma.t/ms,Msoma[0].Ica/mV)\n",
    "subplot(num_of_plot,1,8)\n",
    "plot(Msoma.t/ms,Msoma[0].w/mV)\n",
    "\n",
    "\n",
    "\n",
    "\n",
    "\n"
   ]
  },
  {
   "cell_type": "code",
   "execution_count": 34,
   "metadata": {},
   "outputs": [
    {
     "data": {
      "text/plain": [
       "<matplotlib.legend.Legend at 0x125b9ebe0>"
      ]
     },
     "execution_count": 34,
     "metadata": {},
     "output_type": "execute_result"
    },
    {
     "data": {
      "image/png": "[encoded data removed]",
      "text/plain": [
       "<Figure size 432x288 with 1 Axes>"
      ]
     },
     "metadata": {},
     "output_type": "display_data"
    }
   ],
   "source": [
    "plot(Msoma.t/ms,Msoma[0].Icoup/mV)\n",
    "plot(Msoma.t/ms,Msoma[0].Ileak/mV)\n",
    "plot(Msoma.t/ms,Msoma[0].Ina/mV)\n",
    "plot(Msoma.t/ms,Msoma[0].Ik/mV)\n",
    "plot(Msoma.t/ms,Msoma[0].Ica/mV)\n",
    "\n",
    "plt.legend(('1','2','3','4','5','6'))\n",
    "# plt.xlim((60,70))"
   ]
  },
  {
   "cell_type": "code",
   "execution_count": 35,
   "metadata": {},
   "outputs": [
    {
     "data": {
      "text/plain": [
       "<matplotlib.legend.Legend at 0x1254f9da0>"
      ]
     },
     "execution_count": 35,
     "metadata": {},
     "output_type": "execute_result"
    },
    {
     "data": {
      "image/png": "[encoded data removed]",
      "text/plain": [
       "<Figure size 432x288 with 1 Axes>"
      ]
     },
     "metadata": {},
     "output_type": "display_data"
    }
   ],
   "source": [
    "# Mspines = StateMonitor(spines, {'v','chi','Ica','Ileak','Ina','Ik','Iampa','Inmda'} , record=True)\n",
    "\n",
    "plot(Msoma.t/ms,Mspines[0].Ica/(uamp/cm**2))\n",
    "plot(Msoma.t/ms,Mspines[0].Ileak/(uamp/cm**2))\n",
    "plot(Msoma.t/ms,Mspines[0].Ina/(uamp/cm**2))\n",
    "plot(Msoma.t/ms,Mspines[0].Ik/(uamp/cm**2))\n",
    "plot(Msoma.t/ms,Mspines[0].Iampa/(uamp/cm**2))\n",
    "plot(Msoma.t/ms,Mspines[0].Inmda/(uamp/cm**2))\n",
    "\n",
    "plt.legend(('1','2','3','4','5','6'))\n",
    "# plt.xlim((60,70))"
   ]
  },
  {
   "cell_type": "code",
   "execution_count": 61,
   "metadata": {},
   "outputs": [
    {
     "data": {
      "text/plain": [
       "Text(0.5,1,'W')"
      ]
     },
     "execution_count": 61,
     "metadata": {},
     "output_type": "execute_result"
    },
    {
     "data": {
      "image/png": "[encoded data removed]",
      "text/plain": [
       "<Figure size 432x288 with 1 Axes>"
      ]
     },
     "metadata": {},
     "output_type": "display_data"
    }
   ],
   "source": [
    "plot(Msoma.t/ms,Msoma[0].w)\n",
    "# plt.xlim((0,1000))\n",
    "title('W')\n",
    "# savefig('W.pdf')\n"
   ]
  },
  {
   "cell_type": "code",
   "execution_count": 62,
   "metadata": {},
   "outputs": [
    {
     "data": {
      "text/plain": [
       "[<matplotlib.lines.Line2D at 0x125785be0>]"
      ]
     },
     "execution_count": 62,
     "metadata": {},
     "output_type": "execute_result"
    },
    {
     "data": {
      "image/png": "[encoded data removed]",
      "text/plain": [
       "<Figure size 432x288 with 1 Axes>"
      ]
     },
     "metadata": {},
     "output_type": "display_data"
    }
   ],
   "source": [
    "plot(Msoma.t/ms,Msoma[0].P)\n"
   ]
  },
  {
   "cell_type": "code",
   "execution_count": null,
   "metadata": {},
   "outputs": [],
   "source": []
  },
  {
   "cell_type": "code",
   "execution_count": 131,
   "metadata": {},
   "outputs": [],
   "source": [
    "t_test= np.linspace(0,1,1001)"
   ]
  },
  {
   "cell_type": "code",
   "execution_count": 135,
   "metadata": {},
   "outputs": [
    {
     "ename": "ValueError",
     "evalue": "invalid number of arguments",
     "output_type": "error",
     "traceback": [
      "\u001b[0;31m---------------------------------------------------------------------------\u001b[0m",
      "\u001b[0;31mValueError\u001b[0m                                Traceback (most recent call last)",
      "\u001b[0;32m<ipython-input-135-5bf589e9832a>\u001b[0m in \u001b[0;36m<module>\u001b[0;34m()\u001b[0m\n\u001b[0;32m----> 1\u001b[0;31m \u001b[0mfpre\u001b[0m\u001b[0;34m(\u001b[0m\u001b[0mt_test\u001b[0m\u001b[0;34m*\u001b[0m\u001b[0mms\u001b[0m\u001b[0;34m)\u001b[0m\u001b[0;34m\u001b[0m\u001b[0m\n\u001b[0m",
      "\u001b[0;32m/anaconda3/envs/my-brian2-env/lib/python3.6/site-packages/brian2/core/functions.py\u001b[0m in \u001b[0;36m__call__\u001b[0;34m(self, *args)\u001b[0m\n\u001b[1;32m    204\u001b[0m \u001b[0;34m\u001b[0m\u001b[0m\n\u001b[1;32m    205\u001b[0m     \u001b[0;32mdef\u001b[0m \u001b[0m__call__\u001b[0m\u001b[0;34m(\u001b[0m\u001b[0mself\u001b[0m\u001b[0;34m,\u001b[0m \u001b[0;34m*\u001b[0m\u001b[0margs\u001b[0m\u001b[0;34m)\u001b[0m\u001b[0;34m:\u001b[0m\u001b[0;34m\u001b[0m\u001b[0m\n\u001b[0;32m--> 206\u001b[0;31m         \u001b[0;32mreturn\u001b[0m \u001b[0mself\u001b[0m\u001b[0;34m.\u001b[0m\u001b[0mpyfunc\u001b[0m\u001b[0;34m(\u001b[0m\u001b[0;34m*\u001b[0m\u001b[0margs\u001b[0m\u001b[0;34m)\u001b[0m\u001b[0;34m\u001b[0m\u001b[0m\n\u001b[0m\u001b[1;32m    207\u001b[0m \u001b[0;34m\u001b[0m\u001b[0m\n\u001b[1;32m    208\u001b[0m \u001b[0;34m\u001b[0m\u001b[0m\n",
      "\u001b[0;32m/anaconda3/envs/my-brian2-env/lib/python3.6/site-packages/brian2/units/fundamentalunits.py\u001b[0m in \u001b[0;36mnew_f\u001b[0;34m(*args, **kwds)\u001b[0m\n\u001b[1;32m   2373\u001b[0m                                                      get_dimensions(newkeyset[k]))\n\u001b[1;32m   2374\u001b[0m \u001b[0;34m\u001b[0m\u001b[0m\n\u001b[0;32m-> 2375\u001b[0;31m             \u001b[0mresult\u001b[0m \u001b[0;34m=\u001b[0m \u001b[0mf\u001b[0m\u001b[0;34m(\u001b[0m\u001b[0;34m*\u001b[0m\u001b[0margs\u001b[0m\u001b[0;34m,\u001b[0m \u001b[0;34m**\u001b[0m\u001b[0mkwds\u001b[0m\u001b[0;34m)\u001b[0m\u001b[0;34m\u001b[0m\u001b[0m\n\u001b[0m\u001b[1;32m   2376\u001b[0m             \u001b[0;32mif\u001b[0m \u001b[0;34m'result'\u001b[0m \u001b[0;32min\u001b[0m \u001b[0mau\u001b[0m\u001b[0;34m:\u001b[0m\u001b[0;34m\u001b[0m\u001b[0m\n\u001b[1;32m   2377\u001b[0m                 \u001b[0;32mif\u001b[0m \u001b[0mau\u001b[0m\u001b[0;34m[\u001b[0m\u001b[0;34m'result'\u001b[0m\u001b[0;34m]\u001b[0m \u001b[0;34m==\u001b[0m \u001b[0mbool\u001b[0m\u001b[0;34m:\u001b[0m\u001b[0;34m\u001b[0m\u001b[0m\n",
      "\u001b[0;32m<ipython-input-120-8414ffb76787>\u001b[0m in \u001b[0;36mfpre\u001b[0;34m(t)\u001b[0m\n\u001b[1;32m     75\u001b[0m \u001b[0;34m@\u001b[0m\u001b[0mcheck_units\u001b[0m\u001b[0;34m(\u001b[0m\u001b[0mt\u001b[0m\u001b[0;34m=\u001b[0m\u001b[0mms\u001b[0m\u001b[0;34m,\u001b[0m \u001b[0mresult\u001b[0m\u001b[0;34m=\u001b[0m\u001b[0;36m1\u001b[0m\u001b[0;34m)\u001b[0m\u001b[0;34m\u001b[0m\u001b[0m\n\u001b[1;32m     76\u001b[0m \u001b[0;32mdef\u001b[0m \u001b[0mfpre\u001b[0m\u001b[0;34m(\u001b[0m\u001b[0mt\u001b[0m\u001b[0;34m)\u001b[0m\u001b[0;34m:\u001b[0m\u001b[0;34m\u001b[0m\u001b[0m\n\u001b[0;32m---> 77\u001b[0;31m     \u001b[0;32mreturn\u001b[0m \u001b[0mnp\u001b[0m\u001b[0;34m.\u001b[0m\u001b[0mheaviside\u001b[0m\u001b[0;34m(\u001b[0m\u001b[0mnp\u001b[0m\u001b[0;34m.\u001b[0m\u001b[0mheaviside\u001b[0m\u001b[0;34m(\u001b[0m\u001b[0;34m(\u001b[0m\u001b[0mt\u001b[0m\u001b[0;34m-\u001b[0m\u001b[0mt_st\u001b[0m\u001b[0;34m)\u001b[0m\u001b[0;34m/\u001b[0m\u001b[0mms\u001b[0m\u001b[0;34m,\u001b[0m\u001b[0;36m0\u001b[0m\u001b[0;34m)\u001b[0m \u001b[0;34m*\u001b[0m                         \u001b[0mnp\u001b[0m\u001b[0;34m.\u001b[0m\u001b[0mheaviside\u001b[0m\u001b[0;34m(\u001b[0m\u001b[0msin\u001b[0m\u001b[0;34m(\u001b[0m\u001b[0;36m2\u001b[0m\u001b[0;34m*\u001b[0m\u001b[0mpi\u001b[0m\u001b[0;34m*\u001b[0m\u001b[0;34m(\u001b[0m\u001b[0mt\u001b[0m\u001b[0;34m-\u001b[0m\u001b[0mt_st\u001b[0m\u001b[0;34m-\u001b[0m\u001b[0mperiod\u001b[0m\u001b[0;34m)\u001b[0m\u001b[0;34m/\u001b[0m\u001b[0mperiod\u001b[0m\u001b[0;34m)\u001b[0m\u001b[0;34m,\u001b[0m\u001b[0;36m1\u001b[0m\u001b[0;34m)\u001b[0m                        \u001b[0;34m*\u001b[0m\u001b[0;34m(\u001b[0m\u001b[0;36m1\u001b[0m \u001b[0;34m-\u001b[0m \u001b[0mnp\u001b[0m\u001b[0;34m.\u001b[0m\u001b[0mheaviside\u001b[0m\u001b[0;34m(\u001b[0m\u001b[0msin\u001b[0m\u001b[0;34m(\u001b[0m\u001b[0;36m2\u001b[0m\u001b[0;34m*\u001b[0m\u001b[0mpi\u001b[0m\u001b[0;34m*\u001b[0m\u001b[0;34m(\u001b[0m\u001b[0mt\u001b[0m\u001b[0;34m-\u001b[0m\u001b[0mt_st\u001b[0m\u001b[0;34m-\u001b[0m\u001b[0mperiod\u001b[0m\u001b[0;34m-\u001b[0m\u001b[0;36m1\u001b[0m\u001b[0;34m*\u001b[0m\u001b[0mms\u001b[0m\u001b[0;34m)\u001b[0m\u001b[0;34m/\u001b[0m\u001b[0mperiod\u001b[0m\u001b[0;34m)\u001b[0m\u001b[0;34m,\u001b[0m\u001b[0;36m1\u001b[0m\u001b[0;34m)\u001b[0m\u001b[0;34m)\u001b[0m\u001b[0;34m)\u001b[0m\u001b[0;34m\u001b[0m\u001b[0m\n\u001b[0m\u001b[1;32m     78\u001b[0m \u001b[0;34m\u001b[0m\u001b[0m\n\u001b[1;32m     79\u001b[0m \u001b[0;31m# (np.heaviside((t-t_st)/ms,0)*np.heaviside(sin(2*pi*(t-t_st-period)/period),1)\\\u001b[0m\u001b[0;34m\u001b[0m\u001b[0;34m\u001b[0m\u001b[0m\n",
      "\u001b[0;31mValueError\u001b[0m: invalid number of arguments"
     ]
    }
   ],
   "source": [
    "fpre(t_test*ms)"
   ]
  },
  {
   "cell_type": "code",
   "execution_count": null,
   "metadata": {},
   "outputs": [],
   "source": []
  }
 ],
 "metadata": {
  "kernelspec": {
   "display_name": "Python 3",
   "language": "python",
   "name": "python3"
  },
  "language_info": {
   "codemirror_mode": {
    "name": "ipython",
    "version": 3
   },
   "file_extension": ".py",
   "mimetype": "text/x-python",
   "name": "python",
   "nbconvert_exporter": "python",
   "pygments_lexer": "ipython3",
   "version": "3.6.6"
  }
 },
 "nbformat": 4,
 "nbformat_minor": 2
}
