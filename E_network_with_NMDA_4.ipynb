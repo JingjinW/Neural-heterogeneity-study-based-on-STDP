{
 "cells": [
  {
   "cell_type": "markdown",
   "metadata": {},
   "source": [
    "All E network, E cells from Christoph's model  \n",
    "E-E using NMDA channel in book.\n",
    "Weight change follows"
   ]
  },
  {
   "cell_type": "code",
   "execution_count": 18,
   "metadata": {},
   "outputs": [],
   "source": [
    "from brian2 import *\n",
    "#import numpy as np\n",
    "#import matplotlib\n",
    "import matplotlib.pyplot as plt"
   ]
  },
  {
   "cell_type": "code",
   "execution_count": 19,
   "metadata": {},
   "outputs": [
    {
     "name": "stderr",
     "output_type": "stream",
     "text": [
      "WARNING    \"i\" is an internal variable of group \"synapses_1\", but also exists in the run namespace with the value 99999. The internal variable will be used. [brian2.groups.group.Group.resolve.resolution_conflict]\n"
     ]
    }
   ],
   "source": [
    "start_scope()\n",
    "\n",
    "defaultclock.dt = 0.02*ms\n",
    "\n",
    "Ne = 8\n",
    "\n",
    "Cm = 1*ufarad/cm**2\n",
    "El = -67*mV\n",
    "ENa = 50*mV\n",
    "EK = -100*mV\n",
    "gl = 0.1*msiemens/cm**2\n",
    "gNa = 100*msiemens/cm**2\n",
    "gK = 80*msiemens/cm**2\n",
    "V_I = -80*mV\n",
    "V_E = 0*mV\n",
    "\n",
    "# STDP vars\n",
    "gmax = 1.0/Ne *msiemens/cm**2\n",
    "# gampa0 = 0.01/Ne *msiemens/cm**2\n",
    "gampa0 = 0.0/Ne *msiemens/cm**2\n",
    "\n",
    "\n",
    "# NMDA (excitatory)\n",
    "g_NMDA_E = 1.0/(Ne-1)*msiemens/cm**2\n",
    "# g_NMDA_I = 0.258 * nS * 800. / N_E\n",
    "tausnmdar = 1*ms\n",
    "tausnmdad = 100*ms\n",
    "# alpha = 0.5 / ms\n",
    "Mg2 = 1.\n",
    "\n",
    "# some calcium-related vars, table 2\n",
    "pHC = 4*umolar\n",
    "aHC = 0.6*umolar\n",
    "pHN = 4.\n",
    "aHN = 3.\n",
    "alphav = 1.\n",
    "alphab = 5.\n",
    "alphad = 1.\n",
    "thetav = 2.*umolar\n",
    "thetad = 2.6*umolar\n",
    "thetab = 0.55*umolar\n",
    "Cp = 5.\n",
    "Cd = 4.\n",
    "taup = 500*ms\n",
    "taua = 5*ms\n",
    "tauv = 10*ms\n",
    "taud = 250*ms\n",
    "taub = 40*ms\n",
    "sigmav = -0.05*umolar\n",
    "sigmad = -0.01*umolar\n",
    "sigmab = -0.02*umolar\n",
    "p = 0.3\n",
    "d = 0.01\n",
    "kd = -0.002\n",
    "kp = -0.1\n",
    "\n",
    "# some calcium-related vars, concentration\n",
    "phi = 0.01\n",
    "beta = 0.083/ms\n",
    "chi0 = 0.05*umolar\n",
    "nbuff = 6.\n",
    "\n",
    "\n",
    "\n",
    "\n",
    "eqs = '''\n",
    "dv/dt = ( (gl * (El-v) + gNa * m**3 * h * (ENa-v) + gK * n**4 * (EK-v) + Isyn + I_NMDA_rec + I))/Cm : volt\n",
    "Isyn = Iampa : amp*meter**-2\n",
    "Iampa = gampa * (V_E - v) * sampa_tot : amp*meter**-2\n",
    "sampa_tot : 1\n",
    "gampa : siemens/meter**2\n",
    "I_NMDA_rec = -g_NMDA_E * (v - V_E) / (1 + Mg2 * exp(-0.062 * v / mV) / 3.57) * s_NMDA_tot : amp*meter**-2\n",
    "s_NMDA_tot : 1\n",
    "I : amp*meter**-2\n",
    "m = alpham / (alpham + betam) :1\n",
    "dn/dt = alphan * (1-n) - betan * n : 1\n",
    "dh/dt = alphah * (1-h) - betah * h : 1\n",
    "alpham = (0.32/mV) * (v+54*mV) / (-exp((-v-54*mV) / (4*mV)) + 1)/ms : Hz\n",
    "betam = (0.28/mV) * (v+27*mV)/ (exp((v+27*mV)/(5*mV)) - 1)/ms : Hz\n",
    "alphah = (0.128) * exp(-(v+50*mV)/(18*mV))/ms : Hz\n",
    "betah = 4/(exp((-v-27*mV) / (5*mV)) + 1)/ms : Hz\n",
    "alphan = (0.032/mV) * (v+52*mV) / (-exp(-(v+52*mV) / (5*mV)) + 1)/ms : Hz\n",
    "betan = 0.5*exp(-(v+57*mV)/(40*mV))/ms : Hz\n",
    "\n",
    "#chi : mmolar\n",
    "dchi/dt = phi*I_NMDA_rec/(uA/cm**2)*mmolar/ms - beta*(chi-chi0) -(beta/nbuff)*chi**2/mmolar : mmolar\n",
    "dP/dt = ((10*(chi/pHC)**pHN / (1+(chi/pHC)**pHN))-Cp*A*P)/taup : 1\n",
    "dA/dt = (((chi/aHC)**aHN/(1+(chi/aHC)**aHN))-A)/taua : 1\n",
    "dV/dt = ( alphav/(1+exp((chi-thetav)/sigmav)) -V)/tauv : 1\n",
    "dB/dt = ( alphab/(1+exp((chi-thetab)/sigmab)) -B-Cd*V*B)/taub : 1\n",
    "dD/dt = ( alphad/(1+exp((chi-thetad)/sigmad)) -D)/taud : 1\n",
    "'''\n",
    "\n",
    "    \n",
    "\n",
    "Ecells = NeuronGroup(Ne, eqs, threshold='v>0*mV',refractory='v > 0*mV',\n",
    "                method='rk4')\n",
    "\n",
    "# Initialization\n",
    "Ecells.v = -60*mV\n",
    "# Ecells.m = 0.\n",
    "# Ecells.n = 0.\n",
    "# Ecells.h = 0.\n",
    "Ecells.P = 0.\n",
    "Ecells.A = 0.\n",
    "Ecells.V = 0.\n",
    "Ecells.B = 0.\n",
    "Ecells.D = 0.\n",
    "\n",
    "\n",
    "\n",
    "\n",
    "\n",
    "# STDP gampa start from small value\n",
    "Ecells.gampa = gampa0\n",
    "# Ecells.I = np.random.uniform(0.2, 5,Ne)*amp*meter**-2\n",
    "Ecells.I = linspace(0.1,5,(Ne))*amp*meter**-2\n",
    "Ecells.chi = 0.06*umolar\n",
    "#Ecells.I = [0.1,1.0,(Ne-1)]*amp*meter**-2\n",
    "Me = StateMonitor(Ecells, 'v', record=[0,1])\n",
    "# Synapses\n",
    "alphaw = 0.8\n",
    "betaw = 0.6\n",
    "tauw = 500*ms\n",
    "\n",
    "\n",
    "eqs_nmda  = ''' \n",
    "#w : 1 # synaptic weight\n",
    "s_NMDA_tot_post = w * s_NMDA : 1 (summed)\n",
    "ds_NMDA / dt = (1+tanh(v_pre/mV/10))/2 * (1-s_NMDA)/tausnmdar - s_NMDA/tausnmdad : 1 (clock-driven)\n",
    "dw/dt = ( alphaw/(1+exp((P-p)/kp)) - betaw/(1+exp((D-d)/kd)) - w )/tauw :1 (clock-driven)\n",
    "'''\n",
    "\n",
    "C_STDP = Synapses(Ecells, Ecells, model=eqs_nmda, \n",
    "                 method='rk4')\n",
    "# # C_E_I = Synapses(Ecells, Icells, model=eqs_ampa, method='rk4')\n",
    "C_STDP.connect(condition='i != j')\n",
    "C_STDP.w[:] = 1\n",
    "\n",
    "\n",
    "# mon = StateMonitor(C_STDP, 'w',record = True)\n",
    "#mon = StateMonitor(C_E_E, 'sampa_tot',record = True)\n",
    "mon_v = StateMonitor(Ecells, 'v',record = [0,1,2])\n",
    "\n",
    "# sp_E = SpikeMonitor(Ecells,variables='v')\n",
    "# sp_I = SpikeMonitor(Icells,variables='v')"
   ]
  },
  {
   "cell_type": "code",
   "execution_count": 20,
   "metadata": {},
   "outputs": [
    {
     "name": "stdout",
     "output_type": "stream",
     "text": [
      "Starting simulation at t=0. s for a duration of 2. s\n",
      "1.02482 (51%) simulated in 10s, estimated 10s remaining.\n",
      "1.80228 (90%) simulated in 20s, estimated 2s remaining.\n",
      "2.0 (100%) simulated in 22s\n"
     ]
    }
   ],
   "source": [
    "mon = StateMonitor(C_STDP, 'w',record = True)\n",
    "\n",
    "\n",
    "run(2000*ms,report='stdout')\n"
   ]
  },
  {
   "cell_type": "code",
   "execution_count": 4,
   "metadata": {},
   "outputs": [
    {
     "data": {
      "text/plain": [
       "(100000, 56)"
      ]
     },
     "execution_count": 4,
     "metadata": {},
     "output_type": "execute_result"
    }
   ],
   "source": [
    "test_w =np.transpose(mon.w)\n",
    "\n",
    "test_w.shape"
   ]
  },
  {
   "cell_type": "code",
   "execution_count": 5,
   "metadata": {},
   "outputs": [],
   "source": [
    "test_diff  = [0]*150000;\n",
    "\n",
    "for t_i in range(0,150000):\n",
    "#     plot(t_i,amax(test_w[t_i]) - amin(test_w[t_i]),'.')\n",
    "\n",
    "    test_diff[t_i]=amax(test_w[t_i]) - amin(test_w[t_i]);\n",
    "\n",
    "\n",
    "# amax(test_w) - amin(test_w)\n"
   ]
  },
  {
   "cell_type": "code",
   "execution_count": 23,
   "metadata": {},
   "outputs": [
    {
     "data": {
      "text/plain": [
       "(10, 20)"
      ]
     },
     "execution_count": 23,
     "metadata": {},
     "output_type": "execute_result"
    },
    {
     "data": {
      "image/png": "[encoded data removed]",
      "text/plain": [
       "<Figure size 432x288 with 1 Axes>"
      ]
     },
     "metadata": {},
     "output_type": "display_data"
    }
   ],
   "source": [
    "\n",
    "plot(Me.t/ms,Me[0].v/mV)\n",
    "\n",
    "plot(Me.t/ms,Me[1].v/mV)\n",
    "# plot(Me.t/ms,Me[2].v/mV)\n",
    "\n",
    "\n",
    "plt.xlim(10,20)\n",
    "# plt.xlim(5,15)\n",
    "\n",
    "\n",
    "# Me.v.shape"
   ]
  },
  {
   "cell_type": "code",
   "execution_count": 121,
   "metadata": {},
   "outputs": [
    {
     "data": {
      "text/plain": [
       "<neurongroup_1.I: array([0., 0., 0., 0., 0.]) * amp * meter ** -2>"
      ]
     },
     "execution_count": 121,
     "metadata": {},
     "output_type": "execute_result"
    }
   ],
   "source": [
    "Ecells.I"
   ]
  },
  {
   "cell_type": "code",
   "execution_count": 29,
   "metadata": {},
   "outputs": [
    {
     "data": {
      "image/png": "[encoded data removed]",
      "text/plain": [
       "<Figure size 432x288 with 1 Axes>"
      ]
     },
     "metadata": {},
     "output_type": "display_data"
    }
   ],
   "source": [
    "i = 99999\n",
    "n, bins, patches = plt.hist(test_w[i][:])\n",
    "plt.show()"
   ]
  },
  {
   "cell_type": "code",
   "execution_count": 138,
   "metadata": {},
   "outputs": [
    {
     "data": {
      "text/plain": [
       "array([0.20282554, 0.79660641])"
      ]
     },
     "execution_count": 138,
     "metadata": {},
     "output_type": "execute_result"
    }
   ],
   "source": [
    "test_w[140499]"
   ]
  },
  {
   "cell_type": "code",
   "execution_count": 30,
   "metadata": {},
   "outputs": [
    {
     "data": {
      "text/plain": [
       "Text(0,0.5,'w')"
      ]
     },
     "execution_count": 30,
     "metadata": {},
     "output_type": "execute_result"
    },
    {
     "data": {
      "image/png": "[encoded data removed]",
      "text/plain": [
       "<Figure size 432x288 with 1 Axes>"
      ]
     },
     "metadata": {},
     "output_type": "display_data"
    }
   ],
   "source": [
    "plot(mon.t/ms,mon.w[1])\n",
    "plot(mon.t/ms,mon.w[0])\n",
    "\n",
    "title('weight change of the larger and smaller value')\n",
    "xlabel('time/ms')\n",
    "ylabel('w')"
   ]
  },
  {
   "cell_type": "code",
   "execution_count": 34,
   "metadata": {},
   "outputs": [
    {
     "data": {
      "text/plain": [
       "array([0.1, 0.8, 1.5, 2.2, 2.9, 3.6, 4.3, 5. ])"
      ]
     },
     "execution_count": 34,
     "metadata": {},
     "output_type": "execute_result"
    }
   ],
   "source": [
    "linspace(0.1,5,(Ne))"
   ]
  },
  {
   "cell_type": "code",
   "execution_count": 142,
   "metadata": {},
   "outputs": [
    {
     "data": {
      "text/plain": [
       "0.5944165539199735"
      ]
     },
     "execution_count": 142,
     "metadata": {},
     "output_type": "execute_result"
    }
   ],
   "source": [
    "\n",
    "t_i = 149000\n",
    "amax(test_w[t_i]) - amin(test_w[t_i])"
   ]
  },
  {
   "cell_type": "code",
   "execution_count": 146,
   "metadata": {},
   "outputs": [],
   "source": [
    "test_diff_2 = diff(test_diff)"
   ]
  },
  {
   "cell_type": "code",
   "execution_count": 155,
   "metadata": {},
   "outputs": [
    {
     "data": {
      "text/plain": [
       "Text(0.5,1,'diff of strength diff')"
      ]
     },
     "execution_count": 155,
     "metadata": {},
     "output_type": "execute_result"
    },
    {
     "data": {
      "image/png": "[encoded data removed]",
      "text/plain": [
       "<Figure size 432x288 with 1 Axes>"
      ]
     },
     "metadata": {},
     "output_type": "display_data"
    }
   ],
   "source": [
    "plot(mon.t[1:]/ms,test_diff_2)\n",
    "title('diff of strength diff')"
   ]
  },
  {
   "cell_type": "code",
   "execution_count": 5,
   "metadata": {},
   "outputs": [
    {
     "data": {
      "text/plain": [
       "Text(0.5,1,'Synaptic weight')"
      ]
     },
     "execution_count": 5,
     "metadata": {},
     "output_type": "execute_result"
    },
    {
     "data": {
      "image/png": "[encoded data removed]",
      "text/plain": [
       "<Figure size 432x288 with 2 Axes>"
      ]
     },
     "metadata": {},
     "output_type": "display_data"
    }
   ],
   "source": [
    "i=99999\n",
    "\n",
    "w_test = np.zeros((Ne,Ne))\n",
    "w_test[C_STDP.i[:],C_STDP.j[:]]=test_w[i][:]\n",
    "imshow(w_test)\n",
    "colorbar()\n",
    "xlabel('i')\n",
    "ylabel('j')\n",
    "title('Synaptic weight')"
   ]
  },
  {
   "cell_type": "code",
   "execution_count": 51,
   "metadata": {},
   "outputs": [
    {
     "data": {
      "text/plain": [
       "(56,)"
      ]
     },
     "execution_count": 51,
     "metadata": {},
     "output_type": "execute_result"
    }
   ],
   "source": [
    "test_w[i][:].shape"
   ]
  },
  {
   "cell_type": "code",
   "execution_count": 55,
   "metadata": {},
   "outputs": [
    {
     "data": {
      "text/plain": [
       "array([1, 2, 3, 4, 5, 6, 7, 0, 2, 3, 4, 5, 6, 7, 0, 1, 3, 4, 5, 6, 7, 0,\n",
       "       1, 2, 4, 5, 6, 7, 0, 1, 2, 3, 5, 6, 7, 0, 1, 2, 3, 4, 6, 7, 0, 1,\n",
       "       2, 3, 4, 5, 7, 0, 1, 2, 3, 4, 5, 6], dtype=int32)"
      ]
     },
     "execution_count": 55,
     "metadata": {},
     "output_type": "execute_result"
    }
   ],
   "source": [
    "C_STDP.j[:]"
   ]
  },
  {
   "cell_type": "code",
   "execution_count": 42,
   "metadata": {},
   "outputs": [
    {
     "data": {
      "text/plain": [
       "array([0, 0, 0, 0, 0, 0, 0, 1, 1, 1, 1, 1, 1, 1, 2, 2, 2, 2, 2, 2, 2, 3,\n",
       "       3, 3, 3, 3, 3, 3, 4, 4, 4, 4, 4, 4, 4, 5, 5, 5, 5, 5, 5, 5, 6, 6,\n",
       "       6, 6, 6, 6, 6, 7, 7, 7, 7, 7, 7, 7], dtype=int32)"
      ]
     },
     "execution_count": 42,
     "metadata": {},
     "output_type": "execute_result"
    }
   ],
   "source": [
    "C_STDP.i[:]"
   ]
  },
  {
   "cell_type": "code",
   "execution_count": 17,
   "metadata": {},
   "outputs": [
    {
     "name": "stdout",
     "output_type": "stream",
     "text": [
      "0 1 2 3 4 5 6 7 8 9 10 11 12 13 14 15 16 17 18 19 20 21 22 23 24 25 26 27 28 29 30 31 32 33 34 35 36 37 38 39 40 41 42 43 44 45 46 47 48 49 50 51 52 53 54 55 \n",
      "\n",
      "[0 0 0 0 0 0 0 1 1 1 1 1 1 1 2 2 2 2 2 2 2 3 3 3 3 3 3 3 4 4 4 4 4 4 4 5 5\n",
      " 5 5 5 5 5 6 6 6 6 6 6 6 7 7 7 7 7 7 7]\n",
      "[1 2 3 4 5 6 7 0 2 3 4 5 6 7 0 1 3 4 5 6 7 0 1 2 4 5 6 7 0 1 2 3 5 6 7 0 1\n",
      " 2 3 4 6 7 0 1 2 3 4 5 7 0 1 2 3 4 5 6]\n",
      "[0.79550078 0.21373528 0.21419334 0.21419683 0.21419817 0.21419873\n",
      " 0.21419875 0.21380042 0.21373528 0.21419334 0.21419683 0.21419817\n",
      " 0.21419873 0.21419875 0.21380042 0.79550078 0.21419334 0.21419683\n",
      " 0.21419817 0.21419873 0.21419875 0.21380042 0.79550078 0.21373528\n",
      " 0.21419683 0.21419817 0.21419873 0.21419875 0.21380042 0.79550078\n",
      " 0.21373528 0.21419334 0.21419817 0.21419873 0.21419875 0.21380042\n",
      " 0.79550078 0.21373528 0.21419334 0.21419683 0.21419873 0.21419875\n",
      " 0.21380042 0.79550078 0.21373528 0.21419334 0.21419683 0.21419817\n",
      " 0.21419875 0.21380042 0.79550078 0.21373528 0.21419334 0.21419683\n",
      " 0.21419817 0.21419873]\n"
     ]
    }
   ],
   "source": [
    "j=0\n",
    "for j in range (56):\n",
    "    print(j,end=' ')\n",
    "i=99999\n",
    "\n",
    "\n",
    "print('\\n')\n",
    "print(C_STDP.i[:])\n",
    "print(C_STDP.j[:])\n",
    "print(test_w[i][:])"
   ]
  },
  {
   "cell_type": "code",
   "execution_count": 47,
   "metadata": {},
   "outputs": [
    {
     "data": {
      "text/plain": [
       "(8, 8)"
      ]
     },
     "execution_count": 47,
     "metadata": {},
     "output_type": "execute_result"
    }
   ],
   "source": [
    "w_test.shape"
   ]
  },
  {
   "cell_type": "code",
   "execution_count": 49,
   "metadata": {},
   "outputs": [],
   "source": [
    "dx, dy = 0.15, 0.05\n",
    "\n",
    "y, x = np.mgrid[slice(-3, 3 + dy, dy),\n",
    "                slice(-3, 3 + dx, dx)]"
   ]
  },
  {
   "cell_type": "code",
   "execution_count": 59,
   "metadata": {},
   "outputs": [],
   "source": [
    "phi_m = linspace(0, 2*pi, 100)\n",
    "phi_p = linspace(0, 2*pi, 100)\n",
    "X,Y = meshgrid(phi_p, phi_m)"
   ]
  },
  {
   "cell_type": "code",
   "execution_count": null,
   "metadata": {},
   "outputs": [],
   "source": []
  },
  {
   "cell_type": "code",
   "execution_count": null,
   "metadata": {},
   "outputs": [],
   "source": []
  }
 ],
 "metadata": {
  "kernelspec": {
   "display_name": "Python 3",
   "language": "python",
   "name": "python3"
  },
  "language_info": {
   "codemirror_mode": {
    "name": "ipython",
    "version": 3
   },
   "file_extension": ".py",
   "mimetype": "text/x-python",
   "name": "python",
   "nbconvert_exporter": "python",
   "pygments_lexer": "ipython3",
   "version": "3.6.6"
  }
 },
 "nbformat": 4,
 "nbformat_minor": 2
}
