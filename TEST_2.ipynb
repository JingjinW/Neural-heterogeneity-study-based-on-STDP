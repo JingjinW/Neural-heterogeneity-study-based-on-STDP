{
 "cells": [
  {
   "cell_type": "markdown",
   "metadata": {},
   "source": [
    "Summary:  \n",
    "        checked\n",
    "    1. single cell.(I)\n",
    "    2. 2 I cell network. (i!=j)\n",
    "    2.5 more (10) cell ING network.\n",
    "    3. PING (E&I).\n",
    "    4. construct network structure\n",
    "        4.1 random connection. \n",
    "\n",
    "    unchecked:\n",
    "    1.structure"
   ]
  },
  {
   "cell_type": "markdown",
   "metadata": {},
   "source": [
    "1.synapses, 'model=' not 'on_pre=' \n",
    "2. I=g/N\n",
    "3. refractory condition for HH cells.\n",
    "4. namespace issue https://brian2.readthedocs.io/en/stable/advanced/namespaces.html\n",
    "\n",
    "\n",
    "Useful links  \n",
    "namespace https://brian2.readthedocs.io/en/stable/advanced/namespaces.html  \n",
    "standalone: https://brian2.readthedocs.io/en/stable/user/computation.html#cpp-standalone  \n",
    "synapses connect: https://brian2.readthedocs.io/en/2.0rc/reference/brian2.synapses.synapses.Synapses.html#brian2.synapses.synapses.Synapses.connect"
   ]
  },
  {
   "cell_type": "code",
   "execution_count": 77,
   "metadata": {},
   "outputs": [],
   "source": [
    "from brian2 import *\n",
    "import numpy as np\n",
    "import matplotlib\n",
    "import matplotlib.pyplot as plt\n"
   ]
  },
  {
   "cell_type": "code",
   "execution_count": 7,
   "metadata": {},
   "outputs": [],
   "source": [
    "# try I cell only first\n",
    "start_scope()\n",
    "\n",
    "\n",
    "N = 1\n",
    "\n",
    "# Cm = 1*ufarad/cm**2\n",
    "# El = -67*mV\n",
    "# ENa = 50*mV\n",
    "# EK = -100*mV\n",
    "# gl = 0.1*msiemens/cm**2\n",
    "# gNa = 100*msiemens/cm**2\n",
    "# gK = 80*msiemens/cm**2\n",
    "V_I = -80*mV\n",
    "V_E = 0*mV\n",
    "\n",
    "# gampa = 0.6*msiemens/cm**2\n",
    "# ggaba = 0.6*msiemens/cm**2\n",
    "\n",
    "# eqs = '''\n",
    "# dv/dt = ( (gl * (El-v) + gNa * m**3 * h * (ENa-v) + gK * n**4 * (EK-v) + Isyn))/Cm : volt\n",
    "# Isyn = Igaba : amp*meter**-2\n",
    "# Igaba = ggaba * (V_I - v) * sgaba_tot : amp*meter**-2\n",
    "# sgaba_tot : 1\n",
    "# m = alpham / (alpham + betam) :1\n",
    "# dn/dt = alphan * (1-n) - betan * n : 1\n",
    "# dh/dt = alphah * (1-h) - betah * h : 1\n",
    "# alpham = (0.32/mV) * (v+54*mV) / (-exp((-v-54*mV) / (4*mV)) + 1)/ms : Hz\n",
    "# betam = (0.28/mV) * (v+27*mV)/ (exp((v+27*mV)/(5*mV)) - 1)/ms : Hz\n",
    "# alphah = (0.128) * exp(-(v+50*mV)/(18*mV))/ms : Hz\n",
    "# betah = 4/(exp((-v-27*mV) / (5*mV)) + 1)/ms : Hz\n",
    "# alphan = (0.032/mV) * (v+52*mV) / (-exp(-(v+52*mV) / (5*mV)) + 1)/ms : Hz\n",
    "# betan = 0.5*exp(-(v+57*mV)/(40*mV))/ms : Hz\n",
    "# '''\n",
    "\n",
    "# Ecells = NeuronGroup(N, eqs, threshold='v>0*mV',\n",
    "#                 method='euler')\n",
    "# Ecells.v = -60*mV\n",
    "\n",
    "# Me = StateMonitor(Ecells, 'v', record=1)\n",
    "\n",
    "\n",
    "N = 1\n",
    "\n",
    "Cm = 1*ufarad/cm**2\n",
    "El = -65*mV\n",
    "ENa = 55*mV\n",
    "EK = -90*mV\n",
    "gl = 0.1*msiemens/cm**2\n",
    "gNa = 35*msiemens/cm**2\n",
    "gK = 9*msiemens/cm**2\n",
    "# a diff ggaba\n",
    "ggaba = 0*msiemens/cm**2\n",
    "I = 0.01*amp*meter**-2\n",
    "\n",
    "\n",
    "eqs = '''\n",
    "dv/dt = ( (gl * (El-v) + gNa * m**3 * h * (ENa-v) + gK * n**4 * (EK-v) + Isyn + I))/Cm : volt\n",
    "Isyn = Igaba : amp*meter**-2\n",
    "#Isyn = Igaba + Iampa : amp*meter**-2\n",
    "Igaba = ggaba * (V_I - v) * sgaba_tot : amp*meter**-2\n",
    "#Iampa = gampa * (V_E - v) * sampa_tot : amp*meter**-2\n",
    "#sampa_tot : 1\n",
    "sgaba_tot : 1\n",
    "m = alpham / (alpham + betam) :1\n",
    "dn/dt = alphan * (1-n) - betan * n : 1\n",
    "dh/dt = alphah * (1-h) - betah * h : 1\n",
    "alpham = (0.1/mV) * (v+35*mV) / (-exp((-v-35*mV) / (10*mV)) + 1)/ms : Hz\n",
    "betam = 4 * exp(-(v+60*mV)/(18*mV))/ms : Hz\n",
    "alphah = (0.35) * exp(-(v+58*mV)/(20*mV))/ms : Hz\n",
    "betah = 5/(exp((-v-28*mV) / (10*mV)) + 1)/ms : Hz\n",
    "alphan = (0.05/mV) * (v+34*mV) / (-exp(-(v+34*mV) / (10*mV)) + 1)/ms : Hz\n",
    "betan = (0.625)*exp(-(v+44*mV)/(80*mV))/ms : Hz\n",
    "'''\n",
    "\n",
    "Icells = NeuronGroup(N, eqs, threshold='v>0*mV',\n",
    "                method='euler')\n",
    "Icells.v = -60*mV\n",
    "\n",
    "MI = StateMonitor(Icells, 'v', record=True)\n",
    "\n",
    "\n",
    "# Synapses\n",
    "tausampar = 0.2*ms\n",
    "tausampad = 2*ms\n",
    "tausgabar = 0.5*ms\n",
    "tausgabad = 10*ms\n",
    "\n",
    "# eqs_ampa  = ''' \n",
    "# sampa_tot_post = w*sampa : 1 (summed)\n",
    "# dsampa/dt= (1+tanh(v_pre/10))/2 * (1-sampa)/tausampar - sampa/tausampad : 1 (clock-driven)\n",
    "# w : 1 # synaptic weight\n",
    "# '''\n",
    "\n",
    "eqs_gaba  = ''' \n",
    "sgaba_tot_post = w*sgaba : 1 (summed)\n",
    "dsgaba/dt= (1+tanh(v_pre/10))/2 * (1-sgaba)/tausgabar - sgaba/tausgabad : 1 (clock-driven)\n",
    "w : 1 # synaptic weight\n",
    "'''\n",
    "\n",
    "# # E to I, ampa\n",
    "# C_E_I = Synapses(Ecells, Icells, model=eqs_ampa, method='euler')\n",
    "# # C_E_I = Synapses(Ecells, Icells, model=eqs_ampa, method='euler')\n",
    "\n",
    "# C_E_I.connect()\n",
    "# C_E_I.w[:] = 1\n",
    "\n",
    "# I to I\n",
    "# C_I_I = Synapses(Icells, Icells, on_pre=eqs_gaba, method='euler')\n",
    "# C_I_I.connect('i != j')\n",
    "# C_I_I.connect()\n",
    "# C_I_I.w[:] = 1\n",
    "\n",
    "\n",
    "# # I to E\n",
    "# C_I_E = Synapses(Icells, Ecells, on_pre=eqs_gaba, method='euler')\n",
    "# C_I_E.connect()\n",
    "# # C_I_E.w[:] = 1\n",
    "\n",
    "\n",
    "\n",
    "# sp_E = SpikeMonitor(Ecells)\n",
    "# sp_I = SpikeMonitor(Icells)\n",
    "#dv/dt = ( (gl * (El-v) + gNa * m**3 * h * (ENa-v) + gK * n**4 * (EK-v) + I +\n",
    " #       gei*(ve - v)))/Cm : volt"
   ]
  },
  {
   "cell_type": "code",
   "execution_count": 8,
   "metadata": {},
   "outputs": [],
   "source": [
    "run(200*ms)\n"
   ]
  },
  {
   "cell_type": "code",
   "execution_count": 10,
   "metadata": {},
   "outputs": [
    {
     "data": {
      "text/plain": [
       "[<matplotlib.lines.Line2D at 0x118dd45c0>]"
      ]
     },
     "execution_count": 10,
     "metadata": {},
     "output_type": "execute_result"
    },
    {
     "data": {
      "image/png": "[encoded data removed]",
      "text/plain": [
       "<Figure size 432x288 with 1 Axes>"
      ]
     },
     "metadata": {},
     "output_type": "display_data"
    }
   ],
   "source": [
    "plot(MI.t/ms,MI.v[0]/mV,'-.')"
   ]
  },
  {
   "cell_type": "markdown",
   "metadata": {},
   "source": [
    "without synapses, it works out"
   ]
  },
  {
   "cell_type": "markdown",
   "metadata": {},
   "source": [
    "### Try adding synapses I-I\n",
    "2 I cells, i!=j"
   ]
  },
  {
   "cell_type": "code",
   "execution_count": 30,
   "metadata": {},
   "outputs": [],
   "source": [
    "# try I cell only first\n",
    "start_scope()\n",
    "\n",
    "\n",
    "N = 1\n",
    "\n",
    "# Cm = 1*ufarad/cm**2\n",
    "# El = -67*mV\n",
    "# ENa = 50*mV\n",
    "# EK = -100*mV\n",
    "# gl = 0.1*msiemens/cm**2\n",
    "# gNa = 100*msiemens/cm**2\n",
    "# gK = 80*msiemens/cm**2\n",
    "V_I = -80*mV\n",
    "V_E = 0*mV\n",
    "\n",
    "# gampa = 0.6*msiemens/cm**2\n",
    "# ggaba = 0.6*msiemens/cm**2\n",
    "\n",
    "# eqs = '''\n",
    "# dv/dt = ( (gl * (El-v) + gNa * m**3 * h * (ENa-v) + gK * n**4 * (EK-v) + Isyn))/Cm : volt\n",
    "# Isyn = Igaba : amp*meter**-2\n",
    "# Igaba = ggaba * (V_I - v) * sgaba_tot : amp*meter**-2\n",
    "# sgaba_tot : 1\n",
    "# m = alpham / (alpham + betam) :1\n",
    "# dn/dt = alphan * (1-n) - betan * n : 1\n",
    "# dh/dt = alphah * (1-h) - betah * h : 1\n",
    "# alpham = (0.32/mV) * (v+54*mV) / (-exp((-v-54*mV) / (4*mV)) + 1)/ms : Hz\n",
    "# betam = (0.28/mV) * (v+27*mV)/ (exp((v+27*mV)/(5*mV)) - 1)/ms : Hz\n",
    "# alphah = (0.128) * exp(-(v+50*mV)/(18*mV))/ms : Hz\n",
    "# betah = 4/(exp((-v-27*mV) / (5*mV)) + 1)/ms : Hz\n",
    "# alphan = (0.032/mV) * (v+52*mV) / (-exp(-(v+52*mV) / (5*mV)) + 1)/ms : Hz\n",
    "# betan = 0.5*exp(-(v+57*mV)/(40*mV))/ms : Hz\n",
    "# '''\n",
    "\n",
    "# Ecells = NeuronGroup(N, eqs, threshold='v>0*mV',\n",
    "#                 method='euler')\n",
    "# Ecells.v = -60*mV\n",
    "\n",
    "# Me = StateMonitor(Ecells, 'v', record=1)\n",
    "\n",
    "\n",
    "N = 2\n",
    "\n",
    "Cm = 1*ufarad/cm**2\n",
    "El = -65*mV\n",
    "ENa = 55*mV\n",
    "EK = -90*mV\n",
    "gl = 0.1*msiemens/cm**2\n",
    "gNa = 35*msiemens/cm**2\n",
    "gK = 9*msiemens/cm**2\n",
    "# a diff ggaba\n",
    "ggaba = 0.2*msiemens/cm**2\n",
    "I = 0.01*amp*meter**-2\n",
    "\n",
    "\n",
    "eqs = '''\n",
    "dv/dt = ( (gl * (El-v) + gNa * m**3 * h * (ENa-v) + gK * n**4 * (EK-v) + Isyn + I))/Cm : volt\n",
    "Isyn = Igaba : amp*meter**-2\n",
    "#Isyn = Igaba + Iampa : amp*meter**-2\n",
    "Igaba = ggaba * (V_I - v) * sgaba_tot : amp*meter**-2\n",
    "#Iampa = gampa * (V_E - v) * sampa_tot : amp*meter**-2\n",
    "#sampa_tot : 1\n",
    "sgaba_tot : 1\n",
    "m = alpham / (alpham + betam) :1\n",
    "dn/dt = alphan * (1-n) - betan * n : 1\n",
    "dh/dt = alphah * (1-h) - betah * h : 1\n",
    "alpham = (0.1/mV) * (v+35*mV) / (-exp((-v-35*mV) / (10*mV)) + 1)/ms : Hz\n",
    "betam = 4 * exp(-(v+60*mV)/(18*mV))/ms : Hz\n",
    "alphah = (0.35) * exp(-(v+58*mV)/(20*mV))/ms : Hz\n",
    "betah = 5/(exp((-v-28*mV) / (10*mV)) + 1)/ms : Hz\n",
    "alphan = (0.05/mV) * (v+34*mV) / (-exp(-(v+34*mV) / (10*mV)) + 1)/ms : Hz\n",
    "betan = (0.625)*exp(-(v+44*mV)/(80*mV))/ms : Hz\n",
    "'''\n",
    "\n",
    "Icells = NeuronGroup(N, eqs, threshold='v>0*mV',\n",
    "                method='euler')\n",
    "Icells.v = -60*mV\n",
    "\n",
    "MI = StateMonitor(Icells, 'v', record=True)\n",
    "\n",
    "\n",
    "# Synapses\n",
    "tausampar = 0.2*ms\n",
    "tausampad = 2*ms\n",
    "tausgabar = 0.5*ms\n",
    "tausgabad = 10*ms\n",
    "\n",
    "# eqs_ampa  = ''' \n",
    "# sampa_tot_post = w*sampa : 1 (summed)\n",
    "# dsampa/dt= (1+tanh(v_pre/10))/2 * (1-sampa)/tausampar - sampa/tausampad : 1 (clock-driven)\n",
    "# w : 1 # synaptic weight\n",
    "# '''\n",
    "\n",
    "eqs_gaba  = ''' \n",
    "sgaba_tot_post = sgaba : 1 (summed)\n",
    "dsgaba/dt= (1+tanh(v_pre/mV/10))/2 * (1-sgaba)/tausgabar - sgaba/tausgabad : 1 (clock-driven)\n",
    "w : 1 # synaptic weight\n",
    "'''\n",
    "\n",
    "# # E to I, ampa\n",
    "# C_E_I = Synapses(Ecells, Icells, model=eqs_ampa, method='euler')\n",
    "# # C_E_I = Synapses(Ecells, Icells, model=eqs_ampa, method='euler')\n",
    "\n",
    "# C_E_I.connect()\n",
    "# C_E_I.w[:] = 1\n",
    "\n",
    "# I to I\n",
    "C_I_I = Synapses(Icells, Icells, model=eqs_gaba, method='euler')\n",
    "C_I_I.connect('i != j')\n",
    "C_I_I.connect()\n",
    "# C_I_I.w[:] = 1\n",
    "\n",
    "\n",
    "# # I to E\n",
    "# C_I_E = Synapses(Icells, Ecells, on_pre=eqs_gaba, method='euler')\n",
    "# C_I_E.connect()\n",
    "# # C_I_E.w[:] = 1\n",
    "\n",
    "\n",
    "\n",
    "# sp_E = SpikeMonitor(Ecells)\n",
    "# sp_I = SpikeMonitor(Icells)\n",
    "#dv/dt = ( (gl * (El-v) + gNa * m**3 * h * (ENa-v) + gK * n**4 * (EK-v) + I +\n",
    " #       gei*(ve - v)))/Cm : volt"
   ]
  },
  {
   "cell_type": "code",
   "execution_count": 31,
   "metadata": {},
   "outputs": [
    {
     "name": "stdout",
     "output_type": "stream",
     "text": [
      "Starting simulation at t=0. s for a duration of 200. ms\n",
      "0.2 (100%) simulated in < 1s\n"
     ]
    }
   ],
   "source": [
    "run(200*ms,report='stdout')\n"
   ]
  },
  {
   "cell_type": "code",
   "execution_count": 32,
   "metadata": {},
   "outputs": [
    {
     "data": {
      "text/plain": [
       "[<matplotlib.lines.Line2D at 0x11cd47320>]"
      ]
     },
     "execution_count": 32,
     "metadata": {},
     "output_type": "execute_result"
    },
    {
     "data": {
      "image/png": "[encoded data removed]",
      "text/plain": [
       "<Figure size 432x288 with 1 Axes>"
      ]
     },
     "metadata": {},
     "output_type": "display_data"
    }
   ],
   "source": [
    "plot(MI.t/ms,MI.v[0]/mV,'-.')"
   ]
  },
  {
   "cell_type": "markdown",
   "metadata": {},
   "source": [
    "more cells"
   ]
  },
  {
   "cell_type": "code",
   "execution_count": 34,
   "metadata": {},
   "outputs": [
    {
     "name": "stdout",
     "output_type": "stream",
     "text": [
      "Starting simulation at t=0. s for a duration of 200. ms\n",
      "0.2 (100%) simulated in < 1s\n"
     ]
    },
    {
     "data": {
      "text/plain": [
       "[<matplotlib.lines.Line2D at 0x11c5a49e8>]"
      ]
     },
     "execution_count": 34,
     "metadata": {},
     "output_type": "execute_result"
    },
    {
     "data": {
      "image/png": "[encoded data removed]",
      "text/plain": [
       "<Figure size 432x288 with 1 Axes>"
      ]
     },
     "metadata": {},
     "output_type": "display_data"
    }
   ],
   "source": [
    "# try I cell only first\n",
    "start_scope()\n",
    "\n",
    "\n",
    "N = 1\n",
    "\n",
    "# Cm = 1*ufarad/cm**2\n",
    "# El = -67*mV\n",
    "# ENa = 50*mV\n",
    "# EK = -100*mV\n",
    "# gl = 0.1*msiemens/cm**2\n",
    "# gNa = 100*msiemens/cm**2\n",
    "# gK = 80*msiemens/cm**2\n",
    "V_I = -80*mV\n",
    "V_E = 0*mV\n",
    "\n",
    "# gampa = 0.6*msiemens/cm**2\n",
    "# ggaba = 0.6*msiemens/cm**2\n",
    "\n",
    "# eqs = '''\n",
    "# dv/dt = ( (gl * (El-v) + gNa * m**3 * h * (ENa-v) + gK * n**4 * (EK-v) + Isyn))/Cm : volt\n",
    "# Isyn = Igaba : amp*meter**-2\n",
    "# Igaba = ggaba * (V_I - v) * sgaba_tot : amp*meter**-2\n",
    "# sgaba_tot : 1\n",
    "# m = alpham / (alpham + betam) :1\n",
    "# dn/dt = alphan * (1-n) - betan * n : 1\n",
    "# dh/dt = alphah * (1-h) - betah * h : 1\n",
    "# alpham = (0.32/mV) * (v+54*mV) / (-exp((-v-54*mV) / (4*mV)) + 1)/ms : Hz\n",
    "# betam = (0.28/mV) * (v+27*mV)/ (exp((v+27*mV)/(5*mV)) - 1)/ms : Hz\n",
    "# alphah = (0.128) * exp(-(v+50*mV)/(18*mV))/ms : Hz\n",
    "# betah = 4/(exp((-v-27*mV) / (5*mV)) + 1)/ms : Hz\n",
    "# alphan = (0.032/mV) * (v+52*mV) / (-exp(-(v+52*mV) / (5*mV)) + 1)/ms : Hz\n",
    "# betan = 0.5*exp(-(v+57*mV)/(40*mV))/ms : Hz\n",
    "# '''\n",
    "\n",
    "# Ecells = NeuronGroup(N, eqs, threshold='v>0*mV',\n",
    "#                 method='euler')\n",
    "# Ecells.v = -60*mV\n",
    "\n",
    "# Me = StateMonitor(Ecells, 'v', record=1)\n",
    "\n",
    "\n",
    "N = 10\n",
    "\n",
    "Cm = 1*ufarad/cm**2\n",
    "El = -65*mV\n",
    "ENa = 55*mV\n",
    "EK = -90*mV\n",
    "gl = 0.1*msiemens/cm**2\n",
    "gNa = 35*msiemens/cm**2\n",
    "gK = 9*msiemens/cm**2\n",
    "# a diff ggaba\n",
    "ggaba = 0.2*msiemens/cm**2\n",
    "I = 0.01*amp*meter**-2\n",
    "\n",
    "\n",
    "eqs = '''\n",
    "dv/dt = ( (gl * (El-v) + gNa * m**3 * h * (ENa-v) + gK * n**4 * (EK-v) + Isyn + I))/Cm : volt\n",
    "Isyn = Igaba : amp*meter**-2\n",
    "#Isyn = Igaba + Iampa : amp*meter**-2\n",
    "Igaba = ggaba/(N-1) * (V_I - v) * sgaba_tot : amp*meter**-2\n",
    "#Iampa = gampa * (V_E - v) * sampa_tot : amp*meter**-2\n",
    "#sampa_tot : 1\n",
    "sgaba_tot : 1\n",
    "m = alpham / (alpham + betam) :1\n",
    "dn/dt = alphan * (1-n) - betan * n : 1\n",
    "dh/dt = alphah * (1-h) - betah * h : 1\n",
    "alpham = (0.1/mV) * (v+35*mV) / (-exp((-v-35*mV) / (10*mV)) + 1)/ms : Hz\n",
    "betam = 4 * exp(-(v+60*mV)/(18*mV))/ms : Hz\n",
    "alphah = (0.35) * exp(-(v+58*mV)/(20*mV))/ms : Hz\n",
    "betah = 5/(exp((-v-28*mV) / (10*mV)) + 1)/ms : Hz\n",
    "alphan = (0.05/mV) * (v+34*mV) / (-exp(-(v+34*mV) / (10*mV)) + 1)/ms : Hz\n",
    "betan = (0.625)*exp(-(v+44*mV)/(80*mV))/ms : Hz\n",
    "'''\n",
    "\n",
    "Icells = NeuronGroup(N, eqs, threshold='v>0*mV',\n",
    "                method='euler')\n",
    "Icells.v = -60*mV\n",
    "\n",
    "MI = StateMonitor(Icells, 'v', record=True)\n",
    "\n",
    "\n",
    "# Synapses\n",
    "tausampar = 0.2*ms\n",
    "tausampad = 2*ms\n",
    "tausgabar = 0.5*ms\n",
    "tausgabad = 10*ms\n",
    "\n",
    "# eqs_ampa  = ''' \n",
    "# sampa_tot_post = w*sampa : 1 (summed)\n",
    "# dsampa/dt= (1+tanh(v_pre/10))/2 * (1-sampa)/tausampar - sampa/tausampad : 1 (clock-driven)\n",
    "# w : 1 # synaptic weight\n",
    "# '''\n",
    "\n",
    "eqs_gaba  = ''' \n",
    "sgaba_tot_post = sgaba : 1 (summed)\n",
    "dsgaba/dt= (1+tanh(v_pre/mV/10))/2 * (1-sgaba)/tausgabar - sgaba/tausgabad : 1 (clock-driven)\n",
    "w : 1 # synaptic weight\n",
    "'''\n",
    "\n",
    "# # E to I, ampa\n",
    "# C_E_I = Synapses(Ecells, Icells, model=eqs_ampa, method='euler')\n",
    "# # C_E_I = Synapses(Ecells, Icells, model=eqs_ampa, method='euler')\n",
    "\n",
    "# C_E_I.connect()\n",
    "# C_E_I.w[:] = 1\n",
    "\n",
    "# I to I\n",
    "C_I_I = Synapses(Icells, Icells, model=eqs_gaba, method='euler')\n",
    "C_I_I.connect('i != j')\n",
    "C_I_I.connect()\n",
    "# C_I_I.w[:] = 1\n",
    "\n",
    "\n",
    "# # I to E\n",
    "# C_I_E = Synapses(Icells, Ecells, on_pre=eqs_gaba, method='euler')\n",
    "# C_I_E.connect()\n",
    "# # C_I_E.w[:] = 1\n",
    "\n",
    "\n",
    "\n",
    "# sp_E = SpikeMonitor(Ecells)\n",
    "# sp_I = SpikeMonitor(Icells)\n",
    "#dv/dt = ( (gl * (El-v) + gNa * m**3 * h * (ENa-v) + gK * n**4 * (EK-v) + I +\n",
    " #       gei*(ve - v)))/Cm : volt\n",
    "    \n",
    "run(200*ms,report='stdout')\n",
    "plot(MI.t/ms,MI.v[0]/mV,'-.')"
   ]
  },
  {
   "cell_type": "markdown",
   "metadata": {},
   "source": [
    "PING with E and I cells.  \n",
    "    check out the monitors\n",
    "    \n",
    "    https://brian2.readthedocs.io/en/stable/reference/brian2.monitors.spikemonitor.SpikeMonitor.html"
   ]
  },
  {
   "cell_type": "code",
   "execution_count": 64,
   "metadata": {},
   "outputs": [],
   "source": [
    "start_scope()\n",
    "\n",
    "\n",
    "Ne = 8\n",
    "Ni = 2\n",
    "\n",
    "Cm = 1*ufarad/cm**2\n",
    "El = -67*mV\n",
    "ENa = 50*mV\n",
    "EK = -100*mV\n",
    "gl = 0.1*msiemens/cm**2\n",
    "gNa = 100*msiemens/cm**2\n",
    "gK = 80*msiemens/cm**2\n",
    "V_I = -80*mV\n",
    "V_E = 0*mV\n",
    "\n",
    "gampa = 0.6*msiemens/cm**2\n",
    "ggaba = 0.6*msiemens/cm**2\n",
    "\n",
    "I = 0*amp*meter**-2\n",
    "\n",
    "eqs = '''\n",
    "dv/dt = ( (gl * (El-v) + gNa * m**3 * h * (ENa-v) + gK * n**4 * (EK-v) + Isyn + I))/Cm : volt\n",
    "Isyn = Igaba : amp*meter**-2\n",
    "Igaba = ggaba/Ni * (V_I - v) * sgaba_tot : amp*meter**-2\n",
    "sgaba_tot : 1\n",
    "m = alpham / (alpham + betam) :1\n",
    "dn/dt = alphan * (1-n) - betan * n : 1\n",
    "dh/dt = alphah * (1-h) - betah * h : 1\n",
    "alpham = (0.32/mV) * (v+54*mV) / (-exp((-v-54*mV) / (4*mV)) + 1)/ms : Hz\n",
    "betam = (0.28/mV) * (v+27*mV)/ (exp((v+27*mV)/(5*mV)) - 1)/ms : Hz\n",
    "alphah = (0.128) * exp(-(v+50*mV)/(18*mV))/ms : Hz\n",
    "betah = 4/(exp((-v-27*mV) / (5*mV)) + 1)/ms : Hz\n",
    "alphan = (0.032/mV) * (v+52*mV) / (-exp(-(v+52*mV) / (5*mV)) + 1)/ms : Hz\n",
    "betan = 0.5*exp(-(v+57*mV)/(40*mV))/ms : Hz\n",
    "'''\n",
    "\n",
    "Ecells = NeuronGroup(Ne, eqs, threshold='v>0*mV',refractory='v > 0*mV',\n",
    "                method='euler')\n",
    "Ecells.v = -60*mV\n",
    "\n",
    "Me = StateMonitor(Ecells, 'v', record=True)\n",
    "\n",
    "\n",
    "\n",
    "Cm = 1*ufarad/cm**2\n",
    "El = -65*mV\n",
    "ENa = 55*mV\n",
    "EK = -90*mV\n",
    "gl = 0.1*msiemens/cm**2\n",
    "gNa = 35*msiemens/cm**2\n",
    "gK = 9*msiemens/cm**2\n",
    "# a diff ggaba\n",
    "I = 0.01*amp*meter**-2\n",
    "\n",
    "\n",
    "eqs = '''\n",
    "dv/dt = ( (gl * (El-v) + gNa * m**3 * h * (ENa-v) + gK * n**4 * (EK-v) + Isyn + I))/Cm : volt\n",
    "#Isyn = Igaba : amp*meter**-2\n",
    "Isyn = Igaba + Iampa : amp*meter**-2\n",
    "Igaba = ggaba/(Ni-1) * (V_I - v) * sgaba_tot : amp*meter**-2\n",
    "Iampa = gampa/Ne * (V_E - v) * sampa_tot : amp*meter**-2\n",
    "sampa_tot : 1\n",
    "sgaba_tot : 1\n",
    "m = alpham / (alpham + betam) :1\n",
    "dn/dt = alphan * (1-n) - betan * n : 1\n",
    "dh/dt = alphah * (1-h) - betah * h : 1\n",
    "alpham = (0.1/mV) * (v+35*mV) / (-exp((-v-35*mV) / (10*mV)) + 1)/ms : Hz\n",
    "betam = 4 * exp(-(v+60*mV)/(18*mV))/ms : Hz\n",
    "alphah = (0.35) * exp(-(v+58*mV)/(20*mV))/ms : Hz\n",
    "betah = 5/(exp((-v-28*mV) / (10*mV)) + 1)/ms : Hz\n",
    "alphan = (0.05/mV) * (v+34*mV) / (-exp(-(v+34*mV) / (10*mV)) + 1)/ms : Hz\n",
    "betan = (0.625)*exp(-(v+44*mV)/(80*mV))/ms : Hz\n",
    "'''\n",
    "\n",
    "Icells = NeuronGroup(Ni, eqs, threshold='v>0*mV',refractory='v > 0*mV',namespace = {'ggaba' : 0.2*msiemens/cm**2},\n",
    "                method='euler')\n",
    "Icells.v = -60*mV\n",
    "\n",
    "MI = StateMonitor(Icells, 'v', record=True)\n",
    "\n",
    "\n",
    "# Synapses\n",
    "tausampar = 0.2*ms\n",
    "tausampad = 2*ms\n",
    "tausgabar = 0.5*ms\n",
    "tausgabad = 10*ms\n",
    "\n",
    "eqs_ampa  = ''' \n",
    "sampa_tot_post = sampa : 1 (summed)\n",
    "dsampa/dt= (1+tanh(v_pre/mV/10))/2 * (1-sampa)/tausampar - sampa/tausampad : 1 (clock-driven)\n",
    "w : 1 # synaptic weight\n",
    "'''\n",
    "\n",
    "eqs_gaba  = ''' \n",
    "sgaba_tot_post = sgaba : 1 (summed)\n",
    "dsgaba/dt= (1+tanh(v_pre/mV/10))/2 * (1-sgaba)/tausgabar - sgaba/tausgabad : 1 (clock-driven)\n",
    "w : 1 # synaptic weight\n",
    "'''\n",
    "\n",
    "# # E to I, ampa\n",
    "C_E_I = Synapses(Ecells, Icells, model=eqs_ampa, method='euler')\n",
    "# # C_E_I = Synapses(Ecells, Icells, model=eqs_ampa, method='euler')\n",
    "C_E_I.connect()\n",
    "# C_E_I.w[:] = 1\n",
    "\n",
    "# I to I\n",
    "C_I_I = Synapses(Icells, Icells, model=eqs_gaba, method='euler')\n",
    "C_I_I.connect('i != j')\n",
    "C_I_I.connect()\n",
    "# C_I_I.w[:] = 1\n",
    "\n",
    "\n",
    "# # I to E\n",
    "C_I_E = Synapses(Icells, Ecells, model=eqs_gaba, method='euler')\n",
    "C_I_E.connect()\n",
    "# # C_I_E.w[:] = 1\n",
    "\n",
    "\n",
    "\n",
    "sp_E = SpikeMonitor(Ecells,variables='v')\n",
    "sp_I = SpikeMonitor(Icells,variables='v')\n",
    "#dv/dt = ( (gl * (El-v) + gNa * m**3 * h * (ENa-v) + gK * n**4 * (EK-v) + I +\n",
    " #       gei*(ve - v)))/Cm : volt"
   ]
  },
  {
   "cell_type": "code",
   "execution_count": 65,
   "metadata": {},
   "outputs": [
    {
     "name": "stderr",
     "output_type": "stream",
     "text": [
      "WARNING    The name \"ggaba\" refers to different objects in different namespaces used for resolving names in the context of group \"neurongroup_3\". Will use the object from the group-specific namespace with the value 2. * metre ** -4 * kilogram ** -1 * second ** 3 * amp ** 2, but the name also refers to a variable in the run namespace with value 6. * metre ** -4 * kilogram ** -1 * second ** 3 * amp ** 2. [brian2.groups.group.Group.resolve.resolution_conflict]\n"
     ]
    },
    {
     "name": "stdout",
     "output_type": "stream",
     "text": [
      "Starting simulation at t=0. s for a duration of 100. ms\n",
      "0.1 (100%) simulated in < 1s\n"
     ]
    }
   ],
   "source": [
    "run(100*ms,report='stdout')\n"
   ]
  },
  {
   "cell_type": "code",
   "execution_count": 87,
   "metadata": {},
   "outputs": [
    {
     "data": {
      "text/plain": [
       "[<matplotlib.lines.Line2D at 0x1192b0198>]"
      ]
     },
     "execution_count": 87,
     "metadata": {},
     "output_type": "execute_result"
    },
    {
     "data": {
      "image/png": "[encoded data removed]",
      "text/plain": [
       "<Figure size 432x288 with 2 Axes>"
      ]
     },
     "metadata": {},
     "output_type": "display_data"
    }
   ],
   "source": [
    "subplot(2,1,1)\n",
    "plot(Me.t/ms,MI.v[0]/mV,'-.')\n",
    "subplot(2,1,2)\n",
    "plot(Me.t/ms,Me.v[0]/mV,'-.') \n"
   ]
  },
  {
   "cell_type": "code",
   "execution_count": 56,
   "metadata": {},
   "outputs": [
    {
     "name": "stdout",
     "output_type": "stream",
     "text": [
      "<spikemonitor_2.v: array([43.78650611, 43.78650611, 78.08821305, 78.08821305, 31.81889248,\n",
      "       31.81889248, 67.37542974, 67.37542974]) * mvolt>\n"
     ]
    }
   ],
   "source": [
    "print(sp_I.v)\n"
   ]
  },
  {
   "cell_type": "code",
   "execution_count": 57,
   "metadata": {},
   "outputs": [],
   "source": [
    "v_values = sp_I.values('v')\n",
    "v_all = sp_I.all_values()"
   ]
  },
  {
   "cell_type": "code",
   "execution_count": 53,
   "metadata": {},
   "outputs": [
    {
     "data": {
      "text/latex": [
       "$\\left[\\begin{matrix}5.9\\\\32.0\\\\57.7\\\\84.8\\end{matrix}\\right]\\,\\mathrm{m}\\,\\mathrm{s}$"
      ],
      "text/plain": [
       "array([ 5.9, 32. , 57.7, 84.8]) * msecond"
      ]
     },
     "execution_count": 53,
     "metadata": {},
     "output_type": "execute_result"
    }
   ],
   "source": [
    "sp_I.spike_trains()[1]"
   ]
  },
  {
   "cell_type": "code",
   "execution_count": 63,
   "metadata": {},
   "outputs": [
    {
     "data": {
      "text/latex": [
       "$\\left[\\begin{matrix}43.7865061122559\\\\78.0882130494283\\\\31.8188924807284\\\\67.3754297388432\\end{matrix}\\right]\\,\\mathrm{m}\\,\\mathrm{V}$"
      ],
      "text/plain": [
       "array([43.78650611, 78.08821305, 31.81889248, 67.37542974]) * mvolt"
      ]
     },
     "execution_count": 63,
     "metadata": {},
     "output_type": "execute_result"
    }
   ],
   "source": [
    "v_all['v'][0]"
   ]
  },
  {
   "cell_type": "code",
   "execution_count": 84,
   "metadata": {},
   "outputs": [
    {
     "data": {
      "text/plain": [
       "99.9"
      ]
     },
     "execution_count": 84,
     "metadata": {},
     "output_type": "execute_result"
    }
   ],
   "source": [
    "max(Me.t/ms)"
   ]
  },
  {
   "cell_type": "markdown",
   "metadata": {},
   "source": [
    "### construct network structure"
   ]
  },
  {
   "cell_type": "markdown",
   "metadata": {},
   "source": [
    "#### random connection   \n",
    "random can be done with S.connect(p=0.1)"
   ]
  },
  {
   "cell_type": "code",
   "execution_count": null,
   "metadata": {},
   "outputs": [],
   "source": [
    "start_scope()\n",
    "\n",
    "\n",
    "Ne = 8\n",
    "Ni = 2\n",
    "\n",
    "Cm = 1*ufarad/cm**2\n",
    "El = -67*mV\n",
    "ENa = 50*mV\n",
    "EK = -100*mV\n",
    "gl = 0.1*msiemens/cm**2\n",
    "gNa = 100*msiemens/cm**2\n",
    "gK = 80*msiemens/cm**2\n",
    "V_I = -80*mV\n",
    "V_E = 0*mV\n",
    "\n",
    "gampa = 0.6*msiemens/cm**2\n",
    "ggaba = 0.6*msiemens/cm**2\n",
    "\n",
    "I = 0*amp*meter**-2\n",
    "\n",
    "eqs = '''\n",
    "dv/dt = ( (gl * (El-v) + gNa * m**3 * h * (ENa-v) + gK * n**4 * (EK-v) + Isyn + I))/Cm : volt\n",
    "Isyn = Igaba : amp*meter**-2\n",
    "Igaba = ggaba/Ni * (V_I - v) * sgaba_tot : amp*meter**-2\n",
    "sgaba_tot : 1\n",
    "m = alpham / (alpham + betam) :1\n",
    "dn/dt = alphan * (1-n) - betan * n : 1\n",
    "dh/dt = alphah * (1-h) - betah * h : 1\n",
    "alpham = (0.32/mV) * (v+54*mV) / (-exp((-v-54*mV) / (4*mV)) + 1)/ms : Hz\n",
    "betam = (0.28/mV) * (v+27*mV)/ (exp((v+27*mV)/(5*mV)) - 1)/ms : Hz\n",
    "alphah = (0.128) * exp(-(v+50*mV)/(18*mV))/ms : Hz\n",
    "betah = 4/(exp((-v-27*mV) / (5*mV)) + 1)/ms : Hz\n",
    "alphan = (0.032/mV) * (v+52*mV) / (-exp(-(v+52*mV) / (5*mV)) + 1)/ms : Hz\n",
    "betan = 0.5*exp(-(v+57*mV)/(40*mV))/ms : Hz\n",
    "'''\n",
    "\n",
    "Ecells = NeuronGroup(Ne, eqs, threshold='v>0*mV',refractory='v > 0*mV',\n",
    "                method='euler')\n",
    "Ecells.v = -60*mV\n",
    "\n",
    "Me = StateMonitor(Ecells, 'v', record=True)\n",
    "\n",
    "\n",
    "\n",
    "Cm = 1*ufarad/cm**2\n",
    "El = -65*mV\n",
    "ENa = 55*mV\n",
    "EK = -90*mV\n",
    "gl = 0.1*msiemens/cm**2\n",
    "gNa = 35*msiemens/cm**2\n",
    "gK = 9*msiemens/cm**2\n",
    "# a diff ggaba\n",
    "I = 0.01*amp*meter**-2\n",
    "\n",
    "\n",
    "eqs = '''\n",
    "dv/dt = ( (gl * (El-v) + gNa * m**3 * h * (ENa-v) + gK * n**4 * (EK-v) + Isyn + I))/Cm : volt\n",
    "#Isyn = Igaba : amp*meter**-2\n",
    "Isyn = Igaba + Iampa : amp*meter**-2\n",
    "Igaba = ggaba/(Ni-1) * (V_I - v) * sgaba_tot : amp*meter**-2\n",
    "Iampa = gampa/Ne * (V_E - v) * sampa_tot : amp*meter**-2\n",
    "sampa_tot : 1\n",
    "sgaba_tot : 1\n",
    "m = alpham / (alpham + betam) :1\n",
    "dn/dt = alphan * (1-n) - betan * n : 1\n",
    "dh/dt = alphah * (1-h) - betah * h : 1\n",
    "alpham = (0.1/mV) * (v+35*mV) / (-exp((-v-35*mV) / (10*mV)) + 1)/ms : Hz\n",
    "betam = 4 * exp(-(v+60*mV)/(18*mV))/ms : Hz\n",
    "alphah = (0.35) * exp(-(v+58*mV)/(20*mV))/ms : Hz\n",
    "betah = 5/(exp((-v-28*mV) / (10*mV)) + 1)/ms : Hz\n",
    "alphan = (0.05/mV) * (v+34*mV) / (-exp(-(v+34*mV) / (10*mV)) + 1)/ms : Hz\n",
    "betan = (0.625)*exp(-(v+44*mV)/(80*mV))/ms : Hz\n",
    "'''\n",
    "\n",
    "Icells = NeuronGroup(Ni, eqs, threshold='v>0*mV',refractory='v > 0*mV',namespace = {'ggaba' : 0.2*msiemens/cm**2},\n",
    "                method='euler')\n",
    "Icells.v = -60*mV\n",
    "\n",
    "MI = StateMonitor(Icells, 'v', record=True)\n",
    "\n",
    "\n",
    "# Synapses\n",
    "tausampar = 0.2*ms\n",
    "tausampad = 2*ms\n",
    "tausgabar = 0.5*ms\n",
    "tausgabad = 10*ms\n",
    "\n",
    "eqs_ampa  = ''' \n",
    "sampa_tot_post = sampa : 1 (summed)\n",
    "dsampa/dt= (1+tanh(v_pre/mV/10))/2 * (1-sampa)/tausampar - sampa/tausampad : 1 (clock-driven)\n",
    "w : 1 # synaptic weight\n",
    "'''\n",
    "\n",
    "eqs_gaba  = ''' \n",
    "sgaba_tot_post = sgaba : 1 (summed)\n",
    "dsgaba/dt= (1+tanh(v_pre/mV/10))/2 * (1-sgaba)/tausgabar - sgaba/tausgabad : 1 (clock-driven)\n",
    "w : 1 # synaptic weight\n",
    "'''\n",
    "\n",
    "# # E to I, ampa\n",
    "C_E_I = Synapses(Ecells, Icells, model=eqs_ampa, method='euler')\n",
    "# # C_E_I = Synapses(Ecells, Icells, model=eqs_ampa, method='euler')\n",
    "C_E_I.connect()\n",
    "# C_E_I.w[:] = 1\n",
    "\n",
    "# I to I\n",
    "C_I_I = Synapses(Icells, Icells, model=eqs_gaba, method='euler')\n",
    "C_I_I.connect('i != j')\n",
    "C_I_I.connect()\n",
    "# C_I_I.w[:] = 1\n",
    "\n",
    "\n",
    "# # I to E\n",
    "C_I_E = Synapses(Icells, Ecells, model=eqs_gaba, method='euler')\n",
    "C_I_E.connect()\n",
    "# # C_I_E.w[:] = 1\n",
    "\n",
    "\n",
    "\n",
    "sp_E = SpikeMonitor(Ecells,variables='v')\n",
    "sp_I = SpikeMonitor(Icells,variables='v')\n",
    "#dv/dt = ( (gl * (El-v) + gNa * m**3 * h * (ENa-v) + gK * n**4 * (EK-v) + I +\n",
    " #       gei*(ve - v)))/Cm : volt"
   ]
  }
 ],
 "metadata": {
  "kernelspec": {
   "display_name": "Python 3",
   "language": "python",
   "name": "python3"
  },
  "language_info": {
   "codemirror_mode": {
    "name": "ipython",
    "version": 3
   },
   "file_extension": ".py",
   "mimetype": "text/x-python",
   "name": "python",
   "nbconvert_exporter": "python",
   "pygments_lexer": "ipython3",
   "version": "3.6.6"
  }
 },
 "nbformat": 4,
 "nbformat_minor": 2
}
