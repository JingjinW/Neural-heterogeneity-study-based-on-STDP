{
 "cells": [
  {
   "cell_type": "code",
   "execution_count": null,
   "metadata": {},
   "outputs": [],
   "source": [
    "# 10/03 Q test. bug. emailed author.\n",
    "#     is Q having a unit of 1/V? give an 1/1000 to Q"
   ]
  },
  {
   "cell_type": "code",
   "execution_count": 22,
   "metadata": {},
   "outputs": [],
   "source": [
    "from brian2 import *\n",
    "from numpy import matlib\n",
    "import numpy as np"
   ]
  },
  {
   "cell_type": "code",
   "execution_count": 23,
   "metadata": {},
   "outputs": [],
   "source": [
    "start_scope()\n",
    "\n",
    "defaultclock.dt = 0.025*ms\n",
    "duration = 1*second\n",
    "\n",
    "\n",
    "\n",
    "# INPUT SEGMENT\n",
    "\n",
    "n = 1\n",
    "tau = 1*ms\n",
    "eqs = '''\n",
    "dv/dt = (v0 - v) / tau : volt (unless refractory)\n",
    "v0 : volt\n",
    "'''\n",
    "input_lif = NeuronGroup(n, eqs, threshold='v > 50*mV', reset='v = -60*mV',\n",
    "                    refractory=95*ms, method='linear')\n",
    "input_lif.v = 0*mV\n",
    "input_lif.v0 = 60*mV\n",
    "\n",
    "# monitor = SpikeMonitor(input_lif)\n",
    "mon_input = StateMonitor(input_lif,'v',record = True)\n",
    "\n",
    "# # Two-compartment structure\n",
    "# morpho = Soma(30*um)\n",
    "# morpho.spine = Cylinder(diameter=1*um, length=300*um, n=1)\n",
    "\n"
   ]
  },
  {
   "cell_type": "code",
   "execution_count": null,
   "metadata": {},
   "outputs": [],
   "source": [
    "# FUNCTION SECTION\n",
    "zetap = 30.  # This is 40 in Poirazi paper\n",
    "tempc = 23.*kelvin\n",
    "\n",
    "ca = 2.*umolar # ca_out\n",
    "\n",
    "xx = 0.0853*(273.16 + tempc/kelvin)/2  # kelvin\n",
    "tadj = 2.3**((tempc/kelvin-23)/10)   \n",
    "# unitless\n",
    "q = 96480/(8.315*(273.16+tempc/kelvin))  \n",
    "qt = 5^((tempc/kelvin-24)/10)  \n",
    "\n",
    "qma = 0.000480*(1/ms)\n",
    "qmb = 0.280000*(1/ms)\n",
    "qhat = 1.\n",
    "\n",
    "\n",
    "@check_units(v=mV, result=1)\n",
    "def zeta(v):\n",
    "    return -1.5-(1/(1+exp((v+zetap)/5))) \n",
    "\n",
    "@check_units(v=mV, result=1)\n",
    "def zeta2(v):\n",
    "    return -1.8-(1/(1+exp((v/mV+40)/5)))  \n",
    "\n",
    "\n",
    "\n",
    "\n",
    "@check_units(z=1, result=1)  # z is volt, so when used should do eff(z/mV). see ghk(volt)\n",
    "def eff(z)\n",
    "    return (1-z/2)*eff2(z)+(z/(exp(z)-1))*eff3(z)  \n",
    "\n",
    "@check_units(z=1, result=1)  \n",
    "def eff2(z)\n",
    "    return heaviside(0.0001-abs(z), 1)  \n",
    "\n",
    "@check_units(z=1, result=1)  \n",
    "def eff3(z)\n",
    "    return heaviside(abs(z)-0.0001, 1)  \n",
    "\n",
    "\n",
    "@check_units(v=mV, chi = umolar, result=umolar)\n",
    "def ghk(v,chi)\n",
    "    return -xx*(1-((chi/ca)*exp(v/xx)))*eff(v/mV/xx)  \n",
    "\n",
    "@check_units(v=mV, result=1)\n",
    "def salfa(v)\n",
    "    return -0.055*(v/mV+27.01)/(exp((-v/mV-27.01)/3.8)-1)  \n",
    "\n",
    "@check_units(v=mV, result=1)\n",
    "def sbeta(v) \n",
    "    return 0.94*exp((-v/mV-63.01)/17) \n",
    "\n",
    "\n",
    "t_st = 10*defaultclock.dt\n",
    "impulse_duration = 50*defaultclock.dt*ms  # 1.25*ms\n",
    "impulse_str = 62.5*uamp\n",
    "period = 50*ms\n",
    "\n",
    "@check_units(t=ms, result=1)\n",
    "def frost(t) \n",
    "    return (np.heaviside((t-t_st)/ms,0)*np.heaviside(sin(2*pi*(t-t_st-impulse_duration)/period))\n",
    "            *np.heaviside(sin(2*pi*(t-t_st-2*impulse_duration)/period))"
   ]
  },
  {
   "cell_type": "code",
   "execution_count": 3,
   "metadata": {},
   "outputs": [
    {
     "ename": "SyntaxError",
     "evalue": "invalid syntax (<unknown>, line 1)",
     "output_type": "error",
     "traceback": [
      "Traceback \u001b[0;36m(most recent call last)\u001b[0m:\n",
      "  File \u001b[1;32m\"/anaconda3/envs/my-brian2-env/lib/python3.6/site-packages/IPython/core/interactiveshell.py\"\u001b[0m, line \u001b[1;32m2961\u001b[0m, in \u001b[1;35mrun_code\u001b[0m\n    exec(code_obj, self.user_global_ns, self.user_ns)\n",
      "  File \u001b[1;32m\"<ipython-input-3-ab016ba51a86>\"\u001b[0m, line \u001b[1;32m170\u001b[0m, in \u001b[1;35m<module>\u001b[0m\n    Ecells = NeuronGroup(Ne, eqse, threshold='v>0*mV',refractory='v > 0*mV',method='rk4')\n",
      "  File \u001b[1;32m\"/anaconda3/envs/my-brian2-env/lib/python3.6/site-packages/brian2/groups/neurongroup.py\"\u001b[0m, line \u001b[1;32m419\u001b[0m, in \u001b[1;35m__init__\u001b[0m\n    model = Equations(model)\n",
      "  File \u001b[1;32m\"/anaconda3/envs/my-brian2-env/lib/python3.6/site-packages/brian2/equations/equations.py\"\u001b[0m, line \u001b[1;32m556\u001b[0m, in \u001b[1;35m__init__\u001b[0m\n    self._equations = parse_string_equations(eqns)\n",
      "  File \u001b[1;32m\"/anaconda3/envs/my-brian2-env/lib/python3.6/site-packages/brian2/utils/caching.py\"\u001b[0m, line \u001b[1;32m100\u001b[0m, in \u001b[1;35mcached_func\u001b[0m\n    func._cache[cache_key] = func(*args, **kwds)\n",
      "  File \u001b[1;32m\"/anaconda3/envs/my-brian2-env/lib/python3.6/site-packages/brian2/equations/equations.py\"\u001b[0m, line \u001b[1;32m368\u001b[0m, in \u001b[1;35mparse_string_equations\u001b[0m\n    expression = Expression(p.sub(' ', expression))\n",
      "  File \u001b[1;32m\"/anaconda3/envs/my-brian2-env/lib/python3.6/site-packages/brian2/equations/codestrings.py\"\u001b[0m, line \u001b[1;32m105\u001b[0m, in \u001b[1;35m__init__\u001b[0m\n    str_to_sympy(code)\n",
      "  File \u001b[1;32m\"/anaconda3/envs/my-brian2-env/lib/python3.6/site-packages/brian2/parsing/sympytools.py\"\u001b[0m, line \u001b[1;32m76\u001b[0m, in \u001b[1;35mstr_to_sympy\u001b[0m\n    return _str_to_sympy(expr)\n",
      "  File \u001b[1;32m\"/anaconda3/envs/my-brian2-env/lib/python3.6/site-packages/brian2/utils/caching.py\"\u001b[0m, line \u001b[1;32m100\u001b[0m, in \u001b[1;35mcached_func\u001b[0m\n    func._cache[cache_key] = func(*args, **kwds)\n",
      "  File \u001b[1;32m\"/anaconda3/envs/my-brian2-env/lib/python3.6/site-packages/brian2/parsing/sympytools.py\"\u001b[0m, line \u001b[1;32m82\u001b[0m, in \u001b[1;35m_str_to_sympy\u001b[0m\n    s_expr = SympyNodeRenderer().render_expr(expr)\n",
      "  File \u001b[1;32m\"/anaconda3/envs/my-brian2-env/lib/python3.6/site-packages/brian2/parsing/rendering.py\"\u001b[0m, line \u001b[1;32m52\u001b[0m, in \u001b[1;35mrender_expr\u001b[0m\n    node = ast.parse(expr, mode='eval')\n",
      "\u001b[0;36m  File \u001b[0;32m\"/anaconda3/envs/my-brian2-env/lib/python3.6/ast.py\"\u001b[0;36m, line \u001b[0;32m35\u001b[0;36m, in \u001b[0;35mparse\u001b[0;36m\u001b[0m\n\u001b[0;31m    return compile(source, filename, mode, PyCF_ONLY_AST)\u001b[0m\n",
      "\u001b[0;36m  File \u001b[0;32m\"<unknown>\"\u001b[0;36m, line \u001b[0;32m1\u001b[0m\n\u001b[0;31m    0.32*(-46.9-v)/(exp((-46.9-v)/4.0)-1.0) betams = 0.28*(v+19.9)/(exp((v+19.9)/5.0)-1.0) mna = alphams/(alphams+betams hnainf = 1/(1+exp((v+49*mV)/(3.5*mV)))\u001b[0m\n\u001b[0m                                                 ^\u001b[0m\n\u001b[0;31mSyntaxError\u001b[0m\u001b[0;31m:\u001b[0m invalid syntax\n"
     ]
    }
   ],
   "source": [
    "\n",
    "\n",
    "Ne = 1\n",
    "\n",
    "# some calcium-related vars, table 2\n",
    "pHC = 4.0*umolar\n",
    "aHC = 0.6*umolar\n",
    "pHN = 4.\n",
    "aHN = 3.\n",
    "alphav = 1.\n",
    "alphab = 5.\n",
    "alphad = 1.\n",
    "thetav = 2.*umolar\n",
    "thetad = 2.6\n",
    "thetab = 0.55\n",
    "Cp = 5.\n",
    "Cd = 4.\n",
    "taup = 500*ms\n",
    "taua = 5*ms\n",
    "tauv = 10*ms\n",
    "taud = 250*ms\n",
    "taub = 40*ms\n",
    "sigmav = -0.05*umolar\n",
    "sigmad = -0.01\n",
    "sigmab = -0.02\n",
    "p = 0.3\n",
    "d = 0.01\n",
    "kd = -0.002\n",
    "kp = -0.1\n",
    "\n",
    "# some calcium-related vars, concentration\n",
    "phi = 0.01*umolar/ms/(uamp*cm**-2)\n",
    "beta = 0.083/ms\n",
    "chi0 = 0.05*umolar\n",
    "nbuff = 6.*umolar\n",
    "\n",
    "\n",
    "\n",
    "# E cells stats\n",
    "Cme = 1*ufarad/cm**2\n",
    "Ele = -67*mV\n",
    "ENae = 50*mV\n",
    "Ek = -100*mV\n",
    "gle = 0.1*msiemens/cm**2\n",
    "gKe = 80*msiemens/cm**2\n",
    "\n",
    "# AMPA E-E\n",
    "syn_mod = 1.\n",
    "\n",
    "gampae = 0.05*syn_mod*msiemens/cm**2\n",
    "\n",
    "# gampae = 0.00*syn_mod/(Ne-1)*msiemens/cm**2\n",
    "\n",
    "#ggabae = 0.03*syn_mod/(Ni)*msiemens/cm**2\n",
    "\n",
    "\n",
    "# NMDA (excitatory)\n",
    "g_syn_nmda = 0.3*syn_mod*msiemens/cm**2\n",
    "g_cal_nmda_0 = 25*syn_mod*msiemens/cm**2\n",
    "# g_NMDA_I = 0.258 * nS * 800. / N_E\n",
    "V_cal = 140*mV\n",
    "tausnmdar = 1*ms\n",
    "tausnmdad = 100*ms\n",
    "# Mg2 = 1.\n",
    "Mg2 = 2.\n",
    "\n",
    "\n",
    "# Ina params\n",
    "gNae = 30*msiemens/cm**2\n",
    "naatt = 1.\n",
    "taumna = 0.05*ms\n",
    "# tauhna = 0.5*ms   # dendrite\n",
    "tauhna = 1.*ms  # soma\n",
    "\n",
    "\n",
    "\n",
    "# Ik params\n",
    "gkdr = 14*msiemens/cm**2\n",
    "taukdr = 3.5*ms\n",
    "\n",
    "# Ia\n",
    "ga = 7.5*msiemens/cm**2\n",
    "\n",
    "# Imahp\n",
    "gmahp = 25*msiemens/cm**2\n",
    "\n",
    "\n",
    "# TEST\n",
    "# Isyn = 0*amp*meter**-2\n",
    "# Ileak = 0*amp*meter**-2\n",
    "# I_cal_nmda = 0*amp*meter**-2\n",
    "# Icoup = 0*amp*meter**-2\n",
    "# gNae = 0*msiemens/cm**2\n",
    "# # ga = 0*msiemens/cm**2\n",
    "# gmahp = 0*msiemens/cm**2\n",
    "# gkdr = 0*msiemens/cm**2\n",
    "\n",
    "\n",
    "eqs_soma = '''\n",
    "dv/dt = ( ( Ileak +  Ina + Ik + Ica + Icoup + Iin))/Cme : volt\n",
    "\n",
    "Ileak = gl * (El-v) : amp*meter**-2\n",
    "\n",
    "\n",
    "Ina = gNa * mna**2 * hna * (ENa-v) : amp*meter**-2\n",
    "# soma activation\n",
    "alphams = 0.32*(-46.9-v/mV)/(exp((-46.9-v/mV)/4.0)-1.0)/ms :Hz\n",
    "betams = 0.28*(v/mV+19.9)/(exp((v/mV+19.9)/5.0)-1.0)/ms :Hz\n",
    "mna = alphams/(alphams+betams) : 1\n",
    "dh_soma/dt=alphahs-(alphahs+betahs)*h_soma  :1\n",
    "alphahs = 0.128*exp((-43.0-v/mV)/18.0)/ms :Hz\n",
    "betahs = 4.0/(1.0+exp((-20.0-v/mV)/5.0))/ms :Hz\n",
    "\n",
    "\n",
    "Ik = Ia + Ikdr + Imahp : amp*meter**-2\n",
    "\n",
    "Ikdr = gkdr * n_soma * (Ek - v) : amp*meter**-2\n",
    "dn_soma/dt = alphans-(alphans+betans)*n_soma : 1 \n",
    "alphans =  0.016*(-24.9-v/mV)/(exp((-24.9-v/mV)/5.0)-1.0)/ms : Hz  \n",
    "betans =   0.25*exp(-1.0-0.025*v/mV)/ms  : Hz\n",
    "\n",
    "Ia = ga * a_soma * b_soma * (Ek-v) : amp*meter**-2\n",
    "da_soma/dt=(a_somainf-a_soma)/(a_somatau)  : 1\n",
    "a_somainf=1/(1+a_smaalf)  : 1\n",
    "a_smaalf=exp(0.001*zeta(v)*(v/mV-11)*q)  : 1\n",
    "a_smabet=exp(0.00055*q*(v/mV-11)*zeta(v)) : 1\n",
    "a_somatau=clip(a_smabet/((1+a_smaalf)*qt*0.05),0.1, inf)*ms : msecond\n",
    "\n",
    "Imahp = gmahp * qm_soma * (Ek - v) : amp*meter**-2\n",
    "dqm_soma/dt = (qm_smainf-qm_soma)/(qm_smatau)  :1\n",
    "qm_smainf = qhat*qm_smaalf*qm_smatau  : 1\n",
    "qm_smaalf = qma*chisoma/umolar/(0.001*chisoma/umolar + 0.18*exp(-1.68*v/mV*q)) : Hz \n",
    "qm_smabet = (qmb*exp(-0.022*v/mV*q))/(exp(-0.022*v/mV*q)+0.001*chisoma/umolar) : Hz  \n",
    "qm_smatau = 1/(qm_smaalf+qm_smabet)  : ms\n",
    "\n",
    "\n",
    "Ica = -gcalsoma*s_soma*ghk(v,chisoma)*(1/(1+chisoma/umolar))  \n",
    "ds_soma/dt=(s_somainf-s_soma)/(s_somatau)  : 1\n",
    "s_somainf=salfa(v)/(salfa(v)+sbeta(v))  : 1\n",
    "s_somatau=1/(5*(salfa(v)+sbeta(v)))*ms  : ms\n",
    "\n",
    "\n",
    "Icoup : amp*meter**-2\n",
    "\n",
    "\n",
    "#Iin : amp*meter**-2 # specify later\n",
    "Iin = impulse_str*frost(t)*cm**2 : amp*meter**-2 # specify later\n",
    "\n",
    "\n",
    "\n",
    "dchi/dt = phi_soma*I_cal_nmda - beta*(chi-chi0) -(beta/nbuff)*chi**2 : mmolar\n",
    "dP/dt = ((10*(chi/pHC)**pHN / (1+(chi/pHC)**pHN))-Cp*A*P)/taup : 1\n",
    "dA/dt = (((chi/aHC)**aHN/(1+(chi/aHC)**aHN))-A)/taua : 1\n",
    "dV/dt = ( alphav/(1+exp((chi-thetav)/sigmav)) -V)/tauv : 1\n",
    "dB/dt = ( alphab/(1+exp((A-thetab)/sigmab)) -B -Cd*V*B)/taub : 1\n",
    "dD/dt = ( alphad/(1+exp((B-thetad)/sigmad)) -D)/taud : 1\n",
    "'''\n",
    "\n",
    "# backup\n",
    "# for qm in Imahp\n",
    "# dqm_soma/dt = (qm_smainf-qm_soma)/(qm_smatau) :1\n",
    "# qm_smainf = qhat*qm_smaalf*qm_smatau  \n",
    "# qm_smaalf = qma*chisoma/(0.001*chisoma+0.18*exp(-1.68*v*q))  \n",
    "# qm_smabet = (qmb*exp(-0.022*v*q))/(exp(-0.022*v*q)+0.001*chisoma)  \n",
    "# qm_smatau = 1/(qm_smaalf+qm_smabet)  \n",
    "\n",
    "Ecells = NeuronGroup(Ne, eqse, threshold='v>0*mV',refractory='v > 0*mV',method='rk4')\n",
    "\n",
    "# Me = StateMonitor(Ecells, 'v', record=True)\n",
    "\n",
    "\n",
    "\n",
    "# ---------------- Initialization ---------------- #\n",
    "Ecells.P = 0.3\n",
    "Ecells.A = 0.5\n",
    "Ecells.V = 0.01\n",
    "Ecells.B = 2.5\n",
    "Ecells.D = 0.01\n",
    "\n",
    "\n",
    "\n",
    "Ecells.v = -60*mV\n",
    "Ecells.chi = 0.5*umolar\n",
    "\n",
    "g_cal_nmda = g_cal_nmda_0\n",
    "\n",
    "\n",
    "# # ---------------- Synapses ---------------- #\n",
    "\n",
    "# Coupling\n",
    "# eqs_coup = '''\n",
    "# Ileak = 1.125*(v_post - v_pre)/mV*uA\n",
    "# '''\n",
    "\n",
    "# C_coup = Synapses(Ecells, Ecells, model=eqs_coup, on_post = eqs_nmda_post,\n",
    "#                  method='rk4')\n",
    "# C_coup.connect(condition='i != j')\n",
    "\n",
    "\n",
    "# INPUT FROM LIF\n",
    "g_input = 0.1*msiemens/cm**2\n",
    "input_eqs = '''\n",
    "            I_input = 1/Cme * g_input * (v_post - v_pre)\n",
    "'''\n",
    "\n",
    "input_syn = Synapses(input_lif, Ecells, model=input_eqs, method='rk4')\n",
    "input_syn\n",
    "# C_coup.connect(condition='i != j')\n",
    "\n",
    "\n",
    "# mon = StateMonitor(Ecells, ['v','Ik','Ina'],record = True)\n",
    "# mon = StateMonitor(Ecells, ['v','ksi','Ia','alphama','betama','alphaha','betaha'],record = True)\n",
    "# mon = StateMonitor(Ecells, ['v','Ina','Ik','Ia','Ikdr','Imahp'],record = True)\n",
    "\n",
    "\n",
    "\n",
    "# mon = StateMonitor(Ecells, ['Ina','mna','hna','sna','tausna','snainf'],record = True)\n",
    "\n",
    "\n",
    "# mon = StateMonitor(Ecells, ['v','Ik','Ina','ma','ha','alphama','betama'],record = True)\n",
    "\n",
    "\n",
    "# mon_E = StateMonitor(Ecells, ['v','chi','P','V','A','D','B','I_NMDA_rec','I_cal_nmda','I_syn_nmda'],record = [0,1])\n",
    "# mon_sp = SpikeMonitor(Ecells,record = True)\n",
    "\n"
   ]
  },
  {
   "cell_type": "code",
   "execution_count": null,
   "metadata": {},
   "outputs": [],
   "source": [
    "run(duration,report='stdout')"
   ]
  },
  {
   "cell_type": "code",
   "execution_count": 49,
   "metadata": {},
   "outputs": [
    {
     "data": {
      "text/plain": [
       "(1, 120)"
      ]
     },
     "execution_count": 49,
     "metadata": {},
     "output_type": "execute_result"
    }
   ],
   "source": [
    "# (mon.v[0][0:200])\n",
    "(mon.v.shape)"
   ]
  },
  {
   "cell_type": "code",
   "execution_count": 53,
   "metadata": {},
   "outputs": [],
   "source": [
    "# plot(mon.t,mon.v[0][:])\n",
    "#      -mon.Ia[0][:])\n",
    "# plot(mon.v[0][0:150]/mV)\n",
    "# plot(mon.t,mon.v[0][0:150]/mV)\n",
    "# mon.Ia[0][0:100]"
   ]
  },
  {
   "cell_type": "code",
   "execution_count": 67,
   "metadata": {},
   "outputs": [
    {
     "data": {
      "text/latex": [
       "$\\left[\\begin{matrix}-60.0\\\\-59.9862210929895\\\\-43.5524354585689\\\\\\mathrm{NaN}\\end{matrix}\\right]\\,\\mathrm{m}\\,\\mathrm{V}$"
      ],
      "text/plain": [
       "array([-60.        , -59.98622109, -43.55243546,          nan]) * mvolt"
      ]
     },
     "execution_count": 67,
     "metadata": {},
     "output_type": "execute_result"
    }
   ],
   "source": [
    "# -1.5*(1/mV) - 1/(1+exp((-mon.v[0][:]+40*mV)/(5*mV)))*(1/mV)\n",
    "# plot(mon.v[0][:])\n",
    "mon.v[0][0:4]"
   ]
  },
  {
   "cell_type": "code",
   "execution_count": 6,
   "metadata": {},
   "outputs": [
    {
     "data": {
      "text/latex": [
       "$0.43198536407796223\\,\\mathrm{V}^{-1}$"
      ],
      "text/plain": [
       "0.43198536 * volt ** -1"
      ]
     },
     "execution_count": 6,
     "metadata": {},
     "output_type": "execute_result"
    }
   ],
   "source": [
    "# exp(1e-3 * mon.ksi[0] * (mon.v[0]-11*mV) * Q)\n",
    "Q"
   ]
  },
  {
   "cell_type": "code",
   "execution_count": 131,
   "metadata": {},
   "outputs": [
    {
     "data": {
      "text/plain": [
       "array([182.93585598,          nan,          nan,          nan,\n",
       "                nan,          nan,          nan,          nan,\n",
       "                nan,          nan,          nan,          nan,\n",
       "                nan,          nan,          nan,          nan,\n",
       "                nan,          nan,          nan,          nan])"
      ]
     },
     "execution_count": 131,
     "metadata": {},
     "output_type": "execute_result"
    }
   ],
   "source": [
    "1e-3 * mon.ksi[0] * (mon.v[0]-11*mV) * Q"
   ]
  },
  {
   "cell_type": "code",
   "execution_count": 64,
   "metadata": {},
   "outputs": [
    {
     "data": {
      "text/plain": [
       "0.020244132317562454"
      ]
     },
     "execution_count": 64,
     "metadata": {},
     "output_type": "execute_result"
    }
   ],
   "source": [
    "# Q = F/coulomb/(R/(joule/degC)*(T+degC)/kelvin)\n",
    "Q\n"
   ]
  },
  {
   "cell_type": "code",
   "execution_count": 2,
   "metadata": {},
   "outputs": [
    {
     "data": {
      "text/plain": [
       "array([[1, 1, 1],\n",
       "       [1, 1, 1]])"
      ]
     },
     "execution_count": 2,
     "metadata": {},
     "output_type": "execute_result"
    }
   ],
   "source": [
    "import numpy as np\n",
    "import numpy.matlib\n",
    "a0 = np.array(1)\n",
    "np.matlib.repmat(a0, 2, 3)\n"
   ]
  },
  {
   "cell_type": "code",
   "execution_count": 2,
   "metadata": {},
   "outputs": [
    {
     "ename": "NameError",
     "evalue": "name 'stimulation' is not defined",
     "output_type": "error",
     "traceback": [
      "\u001b[0;31m---------------------------------------------------------------------------\u001b[0m",
      "\u001b[0;31mNameError\u001b[0m                                 Traceback (most recent call last)",
      "\u001b[0;32m<ipython-input-2-94de17c23c5c>\u001b[0m in \u001b[0;36m<module>\u001b[0;34m()\u001b[0m\n\u001b[1;32m      9\u001b[0m \u001b[0;34m\u001b[0m\u001b[0m\n\u001b[1;32m     10\u001b[0m \u001b[0;34m\u001b[0m\u001b[0m\n\u001b[0;32m---> 11\u001b[0;31m \u001b[0mS\u001b[0m \u001b[0;34m=\u001b[0m \u001b[0mSynapses\u001b[0m\u001b[0;34m(\u001b[0m\u001b[0mstimulation\u001b[0m\u001b[0;34m,\u001b[0m \u001b[0mneuron\u001b[0m\u001b[0;34m,\u001b[0m \u001b[0mon_pre\u001b[0m\u001b[0;34m=\u001b[0m\u001b[0;34m'v += w'\u001b[0m\u001b[0;34m)\u001b[0m\u001b[0;34m\u001b[0m\u001b[0m\n\u001b[0m\u001b[1;32m     12\u001b[0m \u001b[0;34m\u001b[0m\u001b[0m\n\u001b[1;32m     13\u001b[0m \u001b[0mS\u001b[0m\u001b[0;34m.\u001b[0m\u001b[0mconnect\u001b[0m\u001b[0;34m(\u001b[0m\u001b[0mi\u001b[0m\u001b[0;34m=\u001b[0m\u001b[0;36m0\u001b[0m\u001b[0;34m,\u001b[0m \u001b[0mj\u001b[0m\u001b[0;34m=\u001b[0m\u001b[0;36m0\u001b[0m\u001b[0;34m)\u001b[0m\u001b[0;34m\u001b[0m\u001b[0m\n",
      "\u001b[0;31mNameError\u001b[0m: name 'stimulation' is not defined"
     ]
    }
   ],
   "source": [
    "start_scope()\n",
    "\n",
    "tau = 10*ms\n",
    "eqs = '''\n",
    "dv/dt = (0.5-v)/tau : 1\n",
    "'''\n",
    "\n",
    "G = NeuronGroup(1, eqs, threshold='v>0.8', reset='v = 0', method='exact')\n",
    "\n",
    "\n",
    "S = Synapses(stimulation, neuron, on_pre='v += w')\n",
    "\n",
    "S.connect(i=0, j=0)"
   ]
  },
  {
   "cell_type": "code",
   "execution_count": 16,
   "metadata": {},
   "outputs": [
    {
     "data": {
      "text/plain": [
       "1.0"
      ]
     },
     "execution_count": 16,
     "metadata": {},
     "output_type": "execute_result"
    }
   ],
   "source": [
    "from brian2.units import *\n",
    "@check_units(I=1, R=1, wibble=1, result=1)\n",
    "def getvoltage(I, R, **k):\n",
    "    return np.heaviside(I*R,1)\n",
    "getvoltage(1,1)"
   ]
  },
  {
   "cell_type": "code",
   "execution_count": 20,
   "metadata": {},
   "outputs": [
    {
     "data": {
      "text/plain": [
       "array([1, 4])"
      ]
     },
     "execution_count": 20,
     "metadata": {},
     "output_type": "execute_result"
    }
   ],
   "source": [
    "test1 = np.array([1,2])\n",
    "test2 = np.array([1,2])\n",
    "test1*test2"
   ]
  },
  {
   "cell_type": "code",
   "execution_count": null,
   "metadata": {},
   "outputs": [],
   "source": []
  }
 ],
 "metadata": {
  "kernelspec": {
   "display_name": "Python 3",
   "language": "python",
   "name": "python3"
  },
  "language_info": {
   "codemirror_mode": {
    "name": "ipython",
    "version": 3
   },
   "file_extension": ".py",
   "mimetype": "text/x-python",
   "name": "python",
   "nbconvert_exporter": "python",
   "pygments_lexer": "ipython3",
   "version": "3.6.6"
  }
 },
 "nbformat": 4,
 "nbformat_minor": 2
}
