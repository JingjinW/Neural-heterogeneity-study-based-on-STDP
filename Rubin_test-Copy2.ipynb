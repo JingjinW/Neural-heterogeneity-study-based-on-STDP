{
 "cells": [
  {
   "cell_type": "code",
   "execution_count": null,
   "metadata": {},
   "outputs": [],
   "source": [
    "# checkpoint 10/27/18 \n",
    "#  SINGLE SOMA works with Ina Ik Ica chi is the old version.\n",
    "#  Icoup = 0."
   ]
  },
  {
   "cell_type": "code",
   "execution_count": 1,
   "metadata": {},
   "outputs": [],
   "source": [
    "from brian2 import *\n",
    "from numpy import matlib\n",
    "import numpy as np\n"
   ]
  },
  {
   "cell_type": "code",
   "execution_count": 95,
   "metadata": {},
   "outputs": [],
   "source": [
    "start_scope()\n",
    "\n",
    "\n",
    "# FUNCTION SECTION\n",
    "zetap = 30.  # This is 40 in Poirazi paper\n",
    "tempc = 23.*kelvin\n",
    "\n",
    "ca = 2. # ca_out, unitless\n",
    "\n",
    "xx = 0.0853*(273.16 + tempc/kelvin)/2  # kelvin\n",
    "tadj = 2.3**((tempc/kelvin-23)/10)   \n",
    "q = 96480/(8.315*(273.16+tempc/kelvin))  \n",
    "qt = 5**((tempc/kelvin-24)/10)  \n",
    "\n",
    "qma = 0.000480*(1/ms)\n",
    "qmb = 0.280000*(1/ms)\n",
    "qhat = 1.\n",
    "\n",
    "\n",
    "\n",
    "@implementation('cython',\"\"\"\n",
    "def zeta(v):\n",
    "    return -1.5-(1./(1.+exp((v+30.)/5.))) \n",
    "\"\"\")\n",
    "@check_units(v=1, result=1)\n",
    "def zeta(v):\n",
    "    return -1.5-(1./(1.+exp((v+30.)/5.))) \n",
    "# zeta.stateless = True\n",
    "\n",
    "@implementation('cython',\"\"\"\n",
    "def zeta2(v):\n",
    "    return -1.8-(1/(1+exp((v+40)/5)))  \n",
    "\"\"\")\n",
    "@check_units(v=1, result=1)\n",
    "def zeta2(v):\n",
    "    return -1.8-(1/(1+exp((v+40)/5)))  \n",
    "\n",
    "\n",
    "@implementation('numpy',discard_units=True)\n",
    "@check_units(z=1, result=1)  # z is volt, so when used should do eff(z/mV). see ghk(volt)\n",
    "def eff(z):\n",
    "    return (1-z/2)*np.heaviside(0.0001-abs(z), 1)+(z/(exp(z)-1))*np.heaviside(abs(z)-0.0001, 1)  \n",
    "\n",
    "\n",
    "@implementation('cython',\"\"\"\n",
    "def salfa(v):\n",
    "    return -0.055*(v+27.01)/(exp((-v-27.01)/3.8)-1) \n",
    "\"\"\")\n",
    "@check_units(v=1, result=1)\n",
    "def salfa(v):\n",
    "    return -0.055*(v+27.01)/(exp((-v-27.01)/3.8)-1)  \n",
    "\n",
    "\n",
    "@implementation('cython',\"\"\"\n",
    "def sbeta(v):\n",
    "    return 0.94*exp((-v-63.01)/17) \n",
    "\"\"\")\n",
    "@check_units(v=1, result=1)\n",
    "def sbeta(v):\n",
    "    return 0.94*exp((-v-63.01)/17) \n",
    "\n",
    "\n",
    "\n",
    "t_st = 10*ms\n",
    "# impulse_duration = period*1.1  # 1.25*ms\n",
    "impulse_str = 62.5*uamp*cm**-2\n",
    "period = 30*ms\n",
    "\n",
    "@implementation('numpy',discard_units=True)\n",
    "@check_units(t=ms, result=1)\n",
    "def fpost(t):\n",
    "    return (np.heaviside((t-t_st)/ms,0)*np.heaviside(sin(2*pi*(t-t_st-period)/period),1)\\\n",
    "            *(1 - np.heaviside(sin(2*pi*(t-t_st-period-1*ms)/period),1)))\n",
    "\n",
    "@implementation('numpy',discard_units=True)\n",
    "@check_units(t=ms, result=1)\n",
    "def fpre(t):\n",
    "    return np.heaviside(np.heaviside((t-t_st)/ms,0) * \\\n",
    "                        np.heaviside(sin(2*pi*(t-t_st-period)/period),1)\\\n",
    "                        *(1 - np.heaviside(sin(2*pi*(t-t_st-period-1*ms)/period),1)))\n",
    "\n",
    "# (np.heaviside((t-t_st)/ms,0)*np.heaviside(sin(2*pi*(t-t_st-period)/period),1)\\\n",
    "#             *(1 - np.heaviside(sin(2*pi*(t-t_st-period-1*ms)/period),1)))\n",
    "\n",
    "\n",
    "\n",
    "# fpre(t)=synapse*heav(heav(t-1)*(heav(sin(6.2831853*(t-st-1.1)/period))*(1-heav(sin(6.2831853*(t-st-1)/period))))) +ror*synapse*heav(heav(t-1)*(heav(sin(6.2831853*(t-win-st-1.1)/period))*(1-heav(sin(6.2831853*(t-win-st-1)/period)))))  \n",
    "# fpost(t)= heav(t-1)*(heav(sin(6.2831853*(t-2-st-delta)/period))*(1-heav(sin(6.2831853*(t-1-st-delta)/period)))) +oro*heav(t-1)*(heav(sin(6.2831853*(t-2-st-delta+win)/period))*(1-heav(sin(6.2831853*(t-1-st-delta+win)/period))))  "
   ]
  },
  {
   "cell_type": "code",
   "execution_count": 96,
   "metadata": {},
   "outputs": [],
   "source": [
    "# ----- SOMA ------ #\n",
    "\n",
    "Nsoma = 1\n",
    "\n",
    "# some calcium-related vars, table 2\n",
    "pHC = 4.0*umolar\n",
    "aHC = 0.6*umolar\n",
    "pHN = 4.\n",
    "aHN = 3.\n",
    "alphav = 1.\n",
    "alphab = 5.\n",
    "alphad = 1.\n",
    "thetav = 2.*umolar\n",
    "thetad = 2.6\n",
    "thetab = 0.55\n",
    "Cp = 5.\n",
    "Cd = 4.\n",
    "taup = 500*ms\n",
    "taua = 5*ms\n",
    "tauv = 10*ms\n",
    "taud = 250*ms\n",
    "taub = 40*ms\n",
    "sigmav = -0.05*umolar\n",
    "sigmad = -0.01\n",
    "sigmab = -0.02\n",
    "p = 0.3\n",
    "d = 0.01\n",
    "kd = -0.002\n",
    "kp = -0.1\n",
    "\n",
    "# some calcium-related vars, concentration\n",
    "phisoma = 0.01*umolar/ms/(uamp*cm**-2)\n",
    "betasoma = 0.083/ms\n",
    "chi0soma = 0.05*umolar\n",
    "\n",
    "phispin = 0.01*umolar/ms/(uamp*cm**-2)\n",
    "betaspin = 0.083/ms\n",
    "chi0spin = 0.07*umolar\n",
    "nonc =  6.*umolar\n",
    "\n",
    "\n",
    "\n",
    "\n",
    "\n",
    "# Ileak\n",
    "glsoma = 0.1*msiemens/cm**2\n",
    "glspin = 0.1*msiemens/cm**2\n",
    "\n",
    "# Ina\n",
    "gNasoma = 30.*msiemens/cm**2\n",
    "ENa = 60*mV\n",
    "gNaSpin = 7.*msiemens/cm**2\n",
    "natt = 1.\n",
    "asap=0.001\n",
    "inact=72.\n",
    "inact2=0.11\n",
    "inact3=2.\n",
    "inact4=64.\n",
    "inact5=1.\n",
    "\n",
    "# Ik; Iksoma = kdr + a + mahp; Ikspin = kdr + a\n",
    "gkdrsoma = 14*msiemens/cm**2\n",
    "gasoma = 7.5*msiemens/cm**2\n",
    "gmahpsoma = 25*msiemens/cm**2\n",
    "Ek = -80*mV\n",
    "btaumod = 7.\n",
    "gkdrspin = 0.867*msiemens/cm**2\n",
    "gaspin = 12.*msiemens/cm**2\n",
    "\n",
    "\n",
    "# Ica\n",
    "gcalsoma = 7.0*uamp*cm**-2\n",
    "gcalspin = 25.0*uamp*cm**-2\n",
    "Eca = 140.*mV\n",
    "s1=0.0*ms \n",
    "s2=40.*ms \n",
    "s3=3.6*ms \n",
    "\n",
    "# synapses strength\n",
    "gnmda = 0.3*uamp*cm**-2\n",
    "gcanmda = 25.*uamp*cm**-2\n",
    "gampa = 0.5*uamp*cm**-2\n",
    "gcoup = 1.125*msiemens/cm**2\n",
    "allowampa = 1.0\n",
    "vsynrev = 0.0\n",
    "speedup =20.\n",
    "nmdarate = 2.\n",
    "ndf = 10.0\n",
    "nds = 45.0   \n",
    "block = 0.062\n",
    "blockca =0.124\n",
    "\n",
    "\n",
    "# Iin\n",
    "ginsoma = 1*amp*meter**-2\n",
    "\n",
    "eqs_soma = '''\n",
    "dv/dt = ( ( Ileak +  Ina + Ik + Ica + Icoup + Iin))/Cme : volt\n",
    "\n",
    "\n",
    "Ileak = glsoma * (El-v) : amp*meter**-2\n",
    "\n",
    "\n",
    "Ina = gNasoma * mna**2 * hna * (ENa-v) : amp*meter**-2\n",
    "# soma activation\n",
    "alphams = 0.32*(-46.9-v/mV)/(exp((-46.9-v/mV)/4.0)-1.0)/ms :Hz\n",
    "betams = 0.28*(v/mV+19.9)/(exp((v/mV+19.9)/5.0)-1.0)/ms :Hz\n",
    "mna = alphams/(alphams+betams) : 1\n",
    "dhna/dt=alphahs-(alphahs+betahs)*hna  :1\n",
    "alphahs = 0.128*exp((-43.0-v/mV)/18.0)/ms :Hz\n",
    "betahs = 4.0/(1.0+exp((-20.0-v/mV)/5.0))/ms :Hz\n",
    "\n",
    "\n",
    "\n",
    "Ik = Ia + Ikdr + Imahp : amp*meter**-2\n",
    "\n",
    "Ikdr = gkdrsoma * n_soma * (Ek - v) : amp*meter**-2\n",
    "dn_soma/dt = alphans-(alphans+betans)*n_soma : 1 \n",
    "alphans =  0.016*(-24.9-v/mV)/(exp((-24.9-v/mV)/5.0)-1.0)/ms : Hz  \n",
    "betans =   0.25*exp(-1.0-0.025*v/mV)/ms  : Hz\n",
    "\n",
    "Ia = gasoma * a_soma * b_soma * (Ek-v) : amp*meter**-2\n",
    "da_soma/dt=(a_somainf-a_soma)/(a_somatau)  : 1\n",
    "a_somainf=1/(1+a_smaalf)  : 1\n",
    "a_smaalf=exp(0.001*zeta(v/mV)*(v/mV-11)*q)  : 1\n",
    "a_smabet=exp(0.00055*q*(v/mV-11)*zeta(v/mV)) : 1\n",
    "a_somatau=clip(a_smabet/((1+a_smaalf)*qt*0.05),0.1, inf)*ms : second\n",
    "db_soma/dt=(b_somainf-b_soma)/(b_somatau) :1\n",
    "b_somainf = 0.3+0.7/(1+exp(0.02*(v/mV+63.5)*q)) :1   \n",
    "b_somatau = btaumod*clip(0.11*(v/mV+62),2,inf)*ms : second\n",
    "\n",
    "Imahp = gmahpsoma * qm_soma * (Ek - v) : amp*meter**-2\n",
    "dqm_soma/dt = (qm_smainf-qm_soma)/(qm_smatau)  :1\n",
    "qm_smainf = qhat*qm_smaalf*qm_smatau  : 1\n",
    "qm_smaalf = qma*chi/umolar/(0.001*chi/umolar + 0.18*exp(-1.68*v/mV*q)) : Hz \n",
    "qm_smabet = (qmb*exp(-0.022*v/mV*q))/(exp(-0.022*v/mV*q)+0.001*chi/umolar) : Hz  \n",
    "qm_smatau = 1/(qm_smaalf+qm_smabet)  : second\n",
    "\n",
    "\n",
    "\n",
    "Ica = -gcalsoma*s_soma*ghk*(1/(1+chi/umolar)) : amp*meter**-2\n",
    "ghk = -xx*(1-((chi/umolar/ca)*exp(v/mV/xx)))*eff(v/mV/xx) :1\n",
    "ds_soma/dt=(s_somainf-s_soma)/(s_somatau)  : 1\n",
    "s_somainf=salfa(v/mV)/(salfa(v/mV)+sbeta(v/mV))  : 1\n",
    "s_somatau=1/(5*(salfa(v/mV)+sbeta(v/mV)))*ms  : second\n",
    "\n",
    "dchi/dt = phisoma*Ica - betasoma*(chi-chi0soma) + chicoup - (betasoma/nonc)*chi**2 : mmolar\n",
    "dP/dt = ((10*(chi/pHC)**pHN / (1+(chi/pHC)**pHN))-Cp*A*P)/taup : 1\n",
    "dA/dt = (((chi/aHC)**aHN/(1+(chi/aHC)**aHN))-A)/taua : 1\n",
    "dV/dt = ( alphav/(1+exp((chi-thetav)/sigmav)) -V)/tauv : 1\n",
    "dB/dt = ( alphab/(1+exp((A-thetab)/sigmab)) -B -Cd*V*B)/taub : 1\n",
    "dD/dt = ( alphad/(1+exp((B-thetad)/sigmad)) -D)/taud : 1\n",
    "# chicoup  : mmolar/second\n",
    "\n",
    "Iin = ginsoma * fpost(t) :amp*meter**-2\n",
    "'''\n",
    "\n",
    "\n",
    "\n",
    "\n",
    "somas = NeuronGroup(Nsoma, eqs_soma, threshold='v>0*mV',refractory='v > 0*mV',method='rk4')\n",
    "somas.v = -60*mV\n",
    "somas.chi = 0.05*umolar\n",
    "\n",
    "Msoma = StateMonitor(somas, {'v','chi', 'Iin','Ina','Ik','Ica'} , record=True)\n",
    "\n"
   ]
  },
  {
   "cell_type": "code",
   "execution_count": 97,
   "metadata": {},
   "outputs": [],
   "source": [
    "# ----- SPINE -----#\n",
    "\n",
    "Nspin = 1\n",
    "\n",
    "\n",
    "eqs_spin = '''\n",
    "dv/dt = ( ( Ileak +  Ina + Ik + Ica + Icoup + Iampa + Inmda))/Cme : volt\n",
    "\n",
    "\n",
    "Ileak = glspin * (El-v) : amp*meter**-2\n",
    "\n",
    "\n",
    "Ina = gNaspin * mna**2 * hna * ina * (ENa-v) : amp*meter**-2\n",
    "# soma activation\n",
    "dm_spin/dt=(m_spininf-m_spin)/(m_spintau) :1\n",
    "m_spininf=1/(1+exp((-v/mV-40)/3))  : 1\n",
    "#m_spintau = max(0.1,0.05)   ???\n",
    "m_spintau = 0.1*ms : second\n",
    "dh_spin/dt=(h_spininf-h_spin)/(h_spintau)  :1\n",
    "h_spininf=1/(1+exp((v/mV +45)/3))  :1\n",
    "h_spintau=0.5*ms : second\n",
    "di_spin/dt=(i_spininf-i_spin)/(i_spintau)  :1\n",
    "i_spininf=(1+natt*exp((v/mV+60)/2))/(1+exp((v/mV+60)/2))  :1\n",
    "i_spintau=clip((0.00333*exp(0.0024*(vspin+60)*q))/(1+exp(0.0012*(vspin+60)*q)),0.1,inf)*ms : second  \n",
    "\n",
    "\n",
    "Ik = Ia + Ikdr : amp*meter**-2\n",
    "\n",
    "Ikdr = gkdrspin * n_soma**2 * (Ek - v) : amp*meter**-2\n",
    "dn_spin/dt=(n_spininf-n_spin)/(n_spintau)  :1\n",
    "n_spininf=1/(1+exp((-v/mV-42)/2))  :1\n",
    "n_spintau=2.2*ms : second\n",
    "\n",
    "Ia = gaspin * a_spin * b_spin * (Ek-v) : amp*meter**-2\n",
    "da_spin/dt=(a_spininf-a_spin)/(a_spintau)  :1\n",
    "a_spininf=1/(1+a_spnalf)  :1\n",
    "a_spnalf=exp(asap*zeta(v/mV)*(v/mV+1)*q)  :1\n",
    "a_spnbet=exp(0.00039*q*(v/mV+1)*zeta2(v/mV))  :1\n",
    "a_spintau= clip(a_spnbet/((1+a_spnalf)*qt*0.1),0.1,inf)*ms :second\n",
    "db_spin/dt=(b_spininf-b_spin)/(b_spintau) :1\n",
    "b_spininf= 0.3+0.7/(1+exp(inact2*(v/mV+inact)*q)) :1\n",
    "b_spintau=btaumod*clip(inact3*(v/mV+inact4),inact5, inf)*ms : second\n",
    "\n",
    "\n",
    "Ica = gcalspin * s_spin**3 * t_spin * (Eca - v)  : amp*meter**-2\n",
    "ds_spin/dt=(s_spininf-s_spin)/(s_spintau)  :1\n",
    "s_spininf=1/(1+exp(-v/mV-37))  :1\n",
    "s_spintau=s3+s1/(1+exp(v/mV+s2))  : second\n",
    "dt_spin/dt=(t_spininf-t_spin)/(t_spintau)  :1\n",
    "t_spininf=1/(1+exp((v/mV+41)/.5))  :1\n",
    "t_spintau=29*ms : second\n",
    "\n",
    "\n",
    "Iampa = allowampa*gampa*sampa*(vsynrev - v)  : amp*meter**-2\n",
    "sampa = sampafast+sampaslow+samparise  : 1\n",
    "dsamparise/dt = -speedup*(1-sampafast-sampaslow)*fpre(t)-(1/0.58)*samparise  :1\n",
    "dsampafast/dt = speedup*(0.903-sampafast)*fpre(t)-(1/7.6)*sampafast  :1\n",
    "dsampaslow/dt = speedup*(0.097-sampaslow)*fpre(t)-(1/25.69)*sampaslow  :1\n",
    "\n",
    "\n",
    "\n",
    "inmda = gnmda*snmda*mnmda*(vsynrev - v)   : amp*meter**-2\n",
    "icanmda = gcanmda*snmda*mcanmda*(vsynrev - v)   : amp*meter**-2\n",
    "snmda = snmdafast+snmdaslow+snmdarise\n",
    "dsnmdarise/dt = -speedup*(1-snmdafast-snmdaslow)*fpre(t)-(1/nmdarate)*snmdarise  :1\n",
    "dsnmdafast/dt = speedup*(0.527-snmdafast)*fpre(t)-(1/ndf)*snmdafast  :1\n",
    "dsnmdaslow/dt = speedup*(0.473-snmdaslow)*fpre(t)-(1/nds)*snmdaslow  :1\n",
    "mnmda=    1/(1.0+0.3*mg*exp(-block*v/mV))  :1\n",
    "mcanmda=  1/(1.0+0.3*mg*exp(-blockca*v/mV))  :1\n",
    "\n",
    "\n",
    "\n",
    "dchi/dt = phispin*(Ica+Icanmda) - betaspin*(chi-chi0spin) -(betaspin/nonc)*chi**2 : mmolar\n",
    "dP/dt = ((10*(chi/pHC)**pHN / (1+(chi/pHC)**pHN))-Cp*A*P)/taup : 1\n",
    "dA/dt = (((chi/aHC)**aHN/(1+(chi/aHC)**aHN))-A)/taua : 1\n",
    "dV/dt = ( alphav/(1+exp((chi-thetav)/sigmav)) -V)/tauv : 1\n",
    "dB/dt = ( alphab/(1+exp((A-thetab)/sigmab)) -B -Cd*V*B)/taub : 1\n",
    "dD/dt = ( alphad/(1+exp((B-thetad)/sigmad)) -D)/taud : 1\n",
    "\n",
    "Iin = ginsoma * fpost(t) :amp*meter**-2\n",
    "'''\n",
    "\n",
    "\n",
    "\n",
    "\n",
    "spines = NeuronGroup(Nsoma, eqs_soma, threshold='v>0*mV',refractory='v > 0*mV',method='rk4')\n",
    "spines.v = -60*mV\n",
    "spines.chi = 0.05*umolar\n",
    "\n",
    "Mspines = StateMonitor(spines, {'v','chi', 'Iin','Ina','Ik','Ica'} , record=True)\n",
    "\n"
   ]
  },
  {
   "cell_type": "code",
   "execution_count": 98,
   "metadata": {},
   "outputs": [],
   "source": [
    "# ----- SYNAPSES------ #\n",
    "# Coupling\n",
    "eqs_coup = '''\n",
    "Icoup = gcoup * (v_pre - v_post) : amp*meter**-2 \n",
    "'''\n",
    "\n",
    "C_coup_smsp = Synapses(somas, spines, model=eqs_coup, method='rk4')\n",
    "C_coup_smsp.connect(condition='i == j')\n",
    "C_coup_spsm = Synapses(spines, somas, model=eqs_coup, method='rk4')\n",
    "C_coup_spsm.connect(condition='i == j')\n",
    "\n",
    "\n",
    "CaTauSoSp =1000.*ms\n",
    "eqs_chi_coup = '''\n",
    "chicoup = (chi_pre - chi_post)/CaTauSoSp  : mmolar/second\n",
    "'''\n",
    "C_chi_coup = Synapses(spines, somas, model=eqs_chi_coup, method='rk4')\n",
    "C_chi_coup.connect(condition='i == j')"
   ]
  },
  {
   "cell_type": "code",
   "execution_count": 99,
   "metadata": {},
   "outputs": [
    {
     "ename": "BrianObjectException",
     "evalue": "Original error and traceback:\nTraceback (most recent call last):\n  File \"/anaconda3/envs/my-brian2-env/lib/python3.6/site-packages/brian2/core/network.py\", line 841, in before_run\n    obj.before_run(run_namespace)\n  File \"/anaconda3/envs/my-brian2-env/lib/python3.6/site-packages/brian2/groups/neurongroup.py\", line 806, in before_run\n    self.equations.check_units(self, run_namespace=run_namespace)\n  File \"/anaconda3/envs/my-brian2-env/lib/python3.6/site-packages/brian2/equations/equations.py\", line 945, in check_units\n    user_identifiers=external)  # all variables are user defined\n  File \"/anaconda3/envs/my-brian2-env/lib/python3.6/site-packages/brian2/groups/group.py\", line 739, in resolve_all\n    run_namespace=run_namespace)\n  File \"/anaconda3/envs/my-brian2-env/lib/python3.6/site-packages/brian2/groups/group.py\", line 696, in _resolve\n    return self._resolve_external(identifier, run_namespace=run_namespace)\n  File \"/anaconda3/envs/my-brian2-env/lib/python3.6/site-packages/brian2/groups/group.py\", line 807, in _resolve_external\n    (identifier))\nKeyError: 'The identifier \"chicoup\" could not be resolved.'\n\nError encountered with object named \"neurongroup_24\".\nObject was created here (most recent call only, full details in debug log):\n  File \"<ipython-input-96-829a480d42ff>\", line 161, in <module>\n    somas = NeuronGroup(Nsoma, eqs_soma, threshold='v>0*mV',refractory='v > 0*mV',method='rk4')\n\nAn error occurred when preparing an object. KeyError: 'The identifier \"chicoup\" could not be resolved.'\n(See above for original error message and traceback.)",
     "output_type": "error",
     "traceback": [
      "\u001b[0;31m---------------------------------------------------------------------------\u001b[0m",
      "\u001b[0;31mKeyError\u001b[0m                                  Traceback (most recent call last)",
      "\u001b[0;32m/anaconda3/envs/my-brian2-env/lib/python3.6/site-packages/brian2/core/network.py\u001b[0m in \u001b[0;36mbefore_run\u001b[0;34m(self, run_namespace)\u001b[0m\n\u001b[1;32m    840\u001b[0m                 \u001b[0;32mtry\u001b[0m\u001b[0;34m:\u001b[0m\u001b[0;34m\u001b[0m\u001b[0m\n\u001b[0;32m--> 841\u001b[0;31m                     \u001b[0mobj\u001b[0m\u001b[0;34m.\u001b[0m\u001b[0mbefore_run\u001b[0m\u001b[0;34m(\u001b[0m\u001b[0mrun_namespace\u001b[0m\u001b[0;34m)\u001b[0m\u001b[0;34m\u001b[0m\u001b[0m\n\u001b[0m\u001b[1;32m    842\u001b[0m                 \u001b[0;32mexcept\u001b[0m \u001b[0mException\u001b[0m \u001b[0;32mas\u001b[0m \u001b[0mex\u001b[0m\u001b[0;34m:\u001b[0m\u001b[0;34m\u001b[0m\u001b[0m\n",
      "\u001b[0;32m/anaconda3/envs/my-brian2-env/lib/python3.6/site-packages/brian2/groups/neurongroup.py\u001b[0m in \u001b[0;36mbefore_run\u001b[0;34m(self, run_namespace)\u001b[0m\n\u001b[1;32m    805\u001b[0m         \u001b[0;31m# Check units\u001b[0m\u001b[0;34m\u001b[0m\u001b[0;34m\u001b[0m\u001b[0m\n\u001b[0;32m--> 806\u001b[0;31m         \u001b[0mself\u001b[0m\u001b[0;34m.\u001b[0m\u001b[0mequations\u001b[0m\u001b[0;34m.\u001b[0m\u001b[0mcheck_units\u001b[0m\u001b[0;34m(\u001b[0m\u001b[0mself\u001b[0m\u001b[0;34m,\u001b[0m \u001b[0mrun_namespace\u001b[0m\u001b[0;34m=\u001b[0m\u001b[0mrun_namespace\u001b[0m\u001b[0;34m)\u001b[0m\u001b[0;34m\u001b[0m\u001b[0m\n\u001b[0m\u001b[1;32m    807\u001b[0m         \u001b[0;31m# Check that subexpressions that refer to stateful functions are labeled\u001b[0m\u001b[0;34m\u001b[0m\u001b[0;34m\u001b[0m\u001b[0m\n",
      "\u001b[0;32m/anaconda3/envs/my-brian2-env/lib/python3.6/site-packages/brian2/equations/equations.py\u001b[0m in \u001b[0;36mcheck_units\u001b[0;34m(self, group, run_namespace)\u001b[0m\n\u001b[1;32m    944\u001b[0m         resolved_namespace = group.resolve_all(external, run_namespace,\n\u001b[0;32m--> 945\u001b[0;31m                                                user_identifiers=external)  # all variables are user defined\n\u001b[0m\u001b[1;32m    946\u001b[0m \u001b[0;34m\u001b[0m\u001b[0m\n",
      "\u001b[0;32m/anaconda3/envs/my-brian2-env/lib/python3.6/site-packages/brian2/groups/group.py\u001b[0m in \u001b[0;36mresolve_all\u001b[0;34m(self, identifiers, run_namespace, user_identifiers, additional_variables)\u001b[0m\n\u001b[1;32m    738\u001b[0m                                                  \u001b[0madditional_variables\u001b[0m\u001b[0;34m=\u001b[0m\u001b[0madditional_variables\u001b[0m\u001b[0;34m,\u001b[0m\u001b[0;34m\u001b[0m\u001b[0m\n\u001b[0;32m--> 739\u001b[0;31m                                                  run_namespace=run_namespace)\n\u001b[0m\u001b[1;32m    740\u001b[0m         \u001b[0;32mreturn\u001b[0m \u001b[0mresolved\u001b[0m\u001b[0;34m\u001b[0m\u001b[0m\n",
      "\u001b[0;32m/anaconda3/envs/my-brian2-env/lib/python3.6/site-packages/brian2/groups/group.py\u001b[0m in \u001b[0;36m_resolve\u001b[0;34m(self, identifier, run_namespace, user_identifier, additional_variables)\u001b[0m\n\u001b[1;32m    695\u001b[0m         \u001b[0;31m# namespace\u001b[0m\u001b[0;34m\u001b[0m\u001b[0;34m\u001b[0m\u001b[0m\n\u001b[0;32m--> 696\u001b[0;31m         \u001b[0;32mreturn\u001b[0m \u001b[0mself\u001b[0m\u001b[0;34m.\u001b[0m\u001b[0m_resolve_external\u001b[0m\u001b[0;34m(\u001b[0m\u001b[0midentifier\u001b[0m\u001b[0;34m,\u001b[0m \u001b[0mrun_namespace\u001b[0m\u001b[0;34m=\u001b[0m\u001b[0mrun_namespace\u001b[0m\u001b[0;34m)\u001b[0m\u001b[0;34m\u001b[0m\u001b[0m\n\u001b[0m\u001b[1;32m    697\u001b[0m \u001b[0;34m\u001b[0m\u001b[0m\n",
      "\u001b[0;32m/anaconda3/envs/my-brian2-env/lib/python3.6/site-packages/brian2/groups/group.py\u001b[0m in \u001b[0;36m_resolve_external\u001b[0;34m(self, identifier, run_namespace, user_identifier, internal_variable)\u001b[0m\n\u001b[1;32m    806\u001b[0m                 raise KeyError(('The identifier \"%s\" could not be resolved.') %\n\u001b[0;32m--> 807\u001b[0;31m                                (identifier))\n\u001b[0m\u001b[1;32m    808\u001b[0m \u001b[0;34m\u001b[0m\u001b[0m\n",
      "\u001b[0;31mKeyError\u001b[0m: 'The identifier \"chicoup\" could not be resolved.'",
      "\nDuring handling of the above exception, another exception occurred:\n",
      "\u001b[0;31mBrianObjectException\u001b[0m                      Traceback (most recent call last)",
      "\u001b[0;32m<ipython-input-99-94c1801e5a94>\u001b[0m in \u001b[0;36m<module>\u001b[0;34m()\u001b[0m\n\u001b[1;32m      1\u001b[0m \u001b[0mduration\u001b[0m \u001b[0;34m=\u001b[0m \u001b[0;36m20\u001b[0m\u001b[0;34m*\u001b[0m\u001b[0mms\u001b[0m\u001b[0;34m\u001b[0m\u001b[0m\n\u001b[0;32m----> 2\u001b[0;31m \u001b[0mrun\u001b[0m\u001b[0;34m(\u001b[0m\u001b[0mduration\u001b[0m\u001b[0;34m,\u001b[0m\u001b[0mreport\u001b[0m\u001b[0;34m=\u001b[0m\u001b[0;34m'stdout'\u001b[0m\u001b[0;34m)\u001b[0m\u001b[0;34m\u001b[0m\u001b[0m\n\u001b[0m",
      "\u001b[0;32m/anaconda3/envs/my-brian2-env/lib/python3.6/site-packages/brian2/units/fundamentalunits.py\u001b[0m in \u001b[0;36mnew_f\u001b[0;34m(*args, **kwds)\u001b[0m\n\u001b[1;32m   2373\u001b[0m                                                      get_dimensions(newkeyset[k]))\n\u001b[1;32m   2374\u001b[0m \u001b[0;34m\u001b[0m\u001b[0m\n\u001b[0;32m-> 2375\u001b[0;31m             \u001b[0mresult\u001b[0m \u001b[0;34m=\u001b[0m \u001b[0mf\u001b[0m\u001b[0;34m(\u001b[0m\u001b[0;34m*\u001b[0m\u001b[0margs\u001b[0m\u001b[0;34m,\u001b[0m \u001b[0;34m**\u001b[0m\u001b[0mkwds\u001b[0m\u001b[0;34m)\u001b[0m\u001b[0;34m\u001b[0m\u001b[0m\n\u001b[0m\u001b[1;32m   2376\u001b[0m             \u001b[0;32mif\u001b[0m \u001b[0;34m'result'\u001b[0m \u001b[0;32min\u001b[0m \u001b[0mau\u001b[0m\u001b[0;34m:\u001b[0m\u001b[0;34m\u001b[0m\u001b[0m\n\u001b[1;32m   2377\u001b[0m                 \u001b[0;32mif\u001b[0m \u001b[0mau\u001b[0m\u001b[0;34m[\u001b[0m\u001b[0;34m'result'\u001b[0m\u001b[0;34m]\u001b[0m \u001b[0;34m==\u001b[0m \u001b[0mbool\u001b[0m\u001b[0;34m:\u001b[0m\u001b[0;34m\u001b[0m\u001b[0m\n",
      "\u001b[0;32m/anaconda3/envs/my-brian2-env/lib/python3.6/site-packages/brian2/core/magic.py\u001b[0m in \u001b[0;36mrun\u001b[0;34m(duration, report, report_period, namespace, profile, level)\u001b[0m\n\u001b[1;32m    369\u001b[0m     '''\n\u001b[1;32m    370\u001b[0m     return magic_network.run(duration, report=report, report_period=report_period,\n\u001b[0;32m--> 371\u001b[0;31m                              namespace=namespace, profile=profile, level=2+level)\n\u001b[0m\u001b[1;32m    372\u001b[0m \u001b[0mrun\u001b[0m\u001b[0;34m.\u001b[0m\u001b[0m__module__\u001b[0m \u001b[0;34m=\u001b[0m \u001b[0m__name__\u001b[0m\u001b[0;34m\u001b[0m\u001b[0m\n\u001b[1;32m    373\u001b[0m \u001b[0;34m\u001b[0m\u001b[0m\n",
      "\u001b[0;32m/anaconda3/envs/my-brian2-env/lib/python3.6/site-packages/brian2/core/magic.py\u001b[0m in \u001b[0;36mrun\u001b[0;34m(self, duration, report, report_period, namespace, profile, level)\u001b[0m\n\u001b[1;32m    229\u001b[0m         \u001b[0mself\u001b[0m\u001b[0;34m.\u001b[0m\u001b[0m_update_magic_objects\u001b[0m\u001b[0;34m(\u001b[0m\u001b[0mlevel\u001b[0m\u001b[0;34m=\u001b[0m\u001b[0mlevel\u001b[0m\u001b[0;34m+\u001b[0m\u001b[0;36m1\u001b[0m\u001b[0;34m)\u001b[0m\u001b[0;34m\u001b[0m\u001b[0m\n\u001b[1;32m    230\u001b[0m         Network.run(self, duration, report=report, report_period=report_period,\n\u001b[0;32m--> 231\u001b[0;31m                     namespace=namespace, profile=profile, level=level+1)\n\u001b[0m\u001b[1;32m    232\u001b[0m \u001b[0;34m\u001b[0m\u001b[0m\n\u001b[1;32m    233\u001b[0m     \u001b[0;32mdef\u001b[0m \u001b[0mstore\u001b[0m\u001b[0;34m(\u001b[0m\u001b[0mself\u001b[0m\u001b[0;34m,\u001b[0m \u001b[0mname\u001b[0m\u001b[0;34m=\u001b[0m\u001b[0;34m'default'\u001b[0m\u001b[0;34m,\u001b[0m \u001b[0mfilename\u001b[0m\u001b[0;34m=\u001b[0m\u001b[0;32mNone\u001b[0m\u001b[0;34m,\u001b[0m \u001b[0mlevel\u001b[0m\u001b[0;34m=\u001b[0m\u001b[0;36m0\u001b[0m\u001b[0;34m)\u001b[0m\u001b[0;34m:\u001b[0m\u001b[0;34m\u001b[0m\u001b[0m\n",
      "\u001b[0;32m/anaconda3/envs/my-brian2-env/lib/python3.6/site-packages/brian2/core/base.py\u001b[0m in \u001b[0;36mdevice_override_decorated_function\u001b[0;34m(*args, **kwds)\u001b[0m\n\u001b[1;32m    276\u001b[0m                 \u001b[0;32mreturn\u001b[0m \u001b[0mgetattr\u001b[0m\u001b[0;34m(\u001b[0m\u001b[0mcurdev\u001b[0m\u001b[0;34m,\u001b[0m \u001b[0mname\u001b[0m\u001b[0;34m)\u001b[0m\u001b[0;34m(\u001b[0m\u001b[0;34m*\u001b[0m\u001b[0margs\u001b[0m\u001b[0;34m,\u001b[0m \u001b[0;34m**\u001b[0m\u001b[0mkwds\u001b[0m\u001b[0;34m)\u001b[0m\u001b[0;34m\u001b[0m\u001b[0m\n\u001b[1;32m    277\u001b[0m             \u001b[0;32melse\u001b[0m\u001b[0;34m:\u001b[0m\u001b[0;34m\u001b[0m\u001b[0m\n\u001b[0;32m--> 278\u001b[0;31m                 \u001b[0;32mreturn\u001b[0m \u001b[0mfunc\u001b[0m\u001b[0;34m(\u001b[0m\u001b[0;34m*\u001b[0m\u001b[0margs\u001b[0m\u001b[0;34m,\u001b[0m \u001b[0;34m**\u001b[0m\u001b[0mkwds\u001b[0m\u001b[0;34m)\u001b[0m\u001b[0;34m\u001b[0m\u001b[0m\n\u001b[0m\u001b[1;32m    279\u001b[0m \u001b[0;34m\u001b[0m\u001b[0m\n\u001b[1;32m    280\u001b[0m         \u001b[0mdevice_override_decorated_function\u001b[0m\u001b[0;34m.\u001b[0m\u001b[0m__doc__\u001b[0m \u001b[0;34m=\u001b[0m \u001b[0mfunc\u001b[0m\u001b[0;34m.\u001b[0m\u001b[0m__doc__\u001b[0m\u001b[0;34m\u001b[0m\u001b[0m\n",
      "\u001b[0;32m/anaconda3/envs/my-brian2-env/lib/python3.6/site-packages/brian2/units/fundamentalunits.py\u001b[0m in \u001b[0;36mnew_f\u001b[0;34m(*args, **kwds)\u001b[0m\n\u001b[1;32m   2373\u001b[0m                                                      get_dimensions(newkeyset[k]))\n\u001b[1;32m   2374\u001b[0m \u001b[0;34m\u001b[0m\u001b[0m\n\u001b[0;32m-> 2375\u001b[0;31m             \u001b[0mresult\u001b[0m \u001b[0;34m=\u001b[0m \u001b[0mf\u001b[0m\u001b[0;34m(\u001b[0m\u001b[0;34m*\u001b[0m\u001b[0margs\u001b[0m\u001b[0;34m,\u001b[0m \u001b[0;34m**\u001b[0m\u001b[0mkwds\u001b[0m\u001b[0;34m)\u001b[0m\u001b[0;34m\u001b[0m\u001b[0m\n\u001b[0m\u001b[1;32m   2376\u001b[0m             \u001b[0;32mif\u001b[0m \u001b[0;34m'result'\u001b[0m \u001b[0;32min\u001b[0m \u001b[0mau\u001b[0m\u001b[0;34m:\u001b[0m\u001b[0;34m\u001b[0m\u001b[0m\n\u001b[1;32m   2377\u001b[0m                 \u001b[0;32mif\u001b[0m \u001b[0mau\u001b[0m\u001b[0;34m[\u001b[0m\u001b[0;34m'result'\u001b[0m\u001b[0;34m]\u001b[0m \u001b[0;34m==\u001b[0m \u001b[0mbool\u001b[0m\u001b[0;34m:\u001b[0m\u001b[0;34m\u001b[0m\u001b[0m\n",
      "\u001b[0;32m/anaconda3/envs/my-brian2-env/lib/python3.6/site-packages/brian2/core/network.py\u001b[0m in \u001b[0;36mrun\u001b[0;34m(self, duration, report, report_period, namespace, profile, level)\u001b[0m\n\u001b[1;32m    949\u001b[0m             \u001b[0mnamespace\u001b[0m \u001b[0;34m=\u001b[0m \u001b[0mget_local_namespace\u001b[0m\u001b[0;34m(\u001b[0m\u001b[0mlevel\u001b[0m\u001b[0;34m=\u001b[0m\u001b[0mlevel\u001b[0m\u001b[0;34m+\u001b[0m\u001b[0;36m3\u001b[0m\u001b[0;34m)\u001b[0m\u001b[0;34m\u001b[0m\u001b[0m\n\u001b[1;32m    950\u001b[0m \u001b[0;34m\u001b[0m\u001b[0m\n\u001b[0;32m--> 951\u001b[0;31m         \u001b[0mself\u001b[0m\u001b[0;34m.\u001b[0m\u001b[0mbefore_run\u001b[0m\u001b[0;34m(\u001b[0m\u001b[0mnamespace\u001b[0m\u001b[0;34m)\u001b[0m\u001b[0;34m\u001b[0m\u001b[0m\n\u001b[0m\u001b[1;32m    952\u001b[0m \u001b[0;34m\u001b[0m\u001b[0m\n\u001b[1;32m    953\u001b[0m         \u001b[0;32mif\u001b[0m \u001b[0mlen\u001b[0m\u001b[0;34m(\u001b[0m\u001b[0mself\u001b[0m\u001b[0;34m.\u001b[0m\u001b[0mobjects\u001b[0m\u001b[0;34m)\u001b[0m\u001b[0;34m==\u001b[0m\u001b[0;36m0\u001b[0m\u001b[0;34m:\u001b[0m\u001b[0;34m\u001b[0m\u001b[0m\n",
      "\u001b[0;32m/anaconda3/envs/my-brian2-env/lib/python3.6/site-packages/brian2/core/base.py\u001b[0m in \u001b[0;36mdevice_override_decorated_function\u001b[0;34m(*args, **kwds)\u001b[0m\n\u001b[1;32m    276\u001b[0m                 \u001b[0;32mreturn\u001b[0m \u001b[0mgetattr\u001b[0m\u001b[0;34m(\u001b[0m\u001b[0mcurdev\u001b[0m\u001b[0;34m,\u001b[0m \u001b[0mname\u001b[0m\u001b[0;34m)\u001b[0m\u001b[0;34m(\u001b[0m\u001b[0;34m*\u001b[0m\u001b[0margs\u001b[0m\u001b[0;34m,\u001b[0m \u001b[0;34m**\u001b[0m\u001b[0mkwds\u001b[0m\u001b[0;34m)\u001b[0m\u001b[0;34m\u001b[0m\u001b[0m\n\u001b[1;32m    277\u001b[0m             \u001b[0;32melse\u001b[0m\u001b[0;34m:\u001b[0m\u001b[0;34m\u001b[0m\u001b[0m\n\u001b[0;32m--> 278\u001b[0;31m                 \u001b[0;32mreturn\u001b[0m \u001b[0mfunc\u001b[0m\u001b[0;34m(\u001b[0m\u001b[0;34m*\u001b[0m\u001b[0margs\u001b[0m\u001b[0;34m,\u001b[0m \u001b[0;34m**\u001b[0m\u001b[0mkwds\u001b[0m\u001b[0;34m)\u001b[0m\u001b[0;34m\u001b[0m\u001b[0m\n\u001b[0m\u001b[1;32m    279\u001b[0m \u001b[0;34m\u001b[0m\u001b[0m\n\u001b[1;32m    280\u001b[0m         \u001b[0mdevice_override_decorated_function\u001b[0m\u001b[0;34m.\u001b[0m\u001b[0m__doc__\u001b[0m \u001b[0;34m=\u001b[0m \u001b[0mfunc\u001b[0m\u001b[0;34m.\u001b[0m\u001b[0m__doc__\u001b[0m\u001b[0;34m\u001b[0m\u001b[0m\n",
      "\u001b[0;32m/anaconda3/envs/my-brian2-env/lib/python3.6/site-packages/brian2/core/network.py\u001b[0m in \u001b[0;36mbefore_run\u001b[0;34m(self, run_namespace)\u001b[0m\n\u001b[1;32m    841\u001b[0m                     \u001b[0mobj\u001b[0m\u001b[0;34m.\u001b[0m\u001b[0mbefore_run\u001b[0m\u001b[0;34m(\u001b[0m\u001b[0mrun_namespace\u001b[0m\u001b[0;34m)\u001b[0m\u001b[0;34m\u001b[0m\u001b[0m\n\u001b[1;32m    842\u001b[0m                 \u001b[0;32mexcept\u001b[0m \u001b[0mException\u001b[0m \u001b[0;32mas\u001b[0m \u001b[0mex\u001b[0m\u001b[0;34m:\u001b[0m\u001b[0;34m\u001b[0m\u001b[0m\n\u001b[0;32m--> 843\u001b[0;31m                     \u001b[0;32mraise\u001b[0m \u001b[0mbrian_object_exception\u001b[0m\u001b[0;34m(\u001b[0m\u001b[0;34m\"An error occurred when preparing an object.\"\u001b[0m\u001b[0;34m,\u001b[0m \u001b[0mobj\u001b[0m\u001b[0;34m,\u001b[0m \u001b[0mex\u001b[0m\u001b[0;34m)\u001b[0m\u001b[0;34m\u001b[0m\u001b[0m\n\u001b[0m\u001b[1;32m    844\u001b[0m \u001b[0;34m\u001b[0m\u001b[0m\n\u001b[1;32m    845\u001b[0m         \u001b[0;31m# Check that no object has been run as part of another network before\u001b[0m\u001b[0;34m\u001b[0m\u001b[0;34m\u001b[0m\u001b[0m\n",
      "\u001b[0;31mBrianObjectException\u001b[0m: Original error and traceback:\nTraceback (most recent call last):\n  File \"/anaconda3/envs/my-brian2-env/lib/python3.6/site-packages/brian2/core/network.py\", line 841, in before_run\n    obj.before_run(run_namespace)\n  File \"/anaconda3/envs/my-brian2-env/lib/python3.6/site-packages/brian2/groups/neurongroup.py\", line 806, in before_run\n    self.equations.check_units(self, run_namespace=run_namespace)\n  File \"/anaconda3/envs/my-brian2-env/lib/python3.6/site-packages/brian2/equations/equations.py\", line 945, in check_units\n    user_identifiers=external)  # all variables are user defined\n  File \"/anaconda3/envs/my-brian2-env/lib/python3.6/site-packages/brian2/groups/group.py\", line 739, in resolve_all\n    run_namespace=run_namespace)\n  File \"/anaconda3/envs/my-brian2-env/lib/python3.6/site-packages/brian2/groups/group.py\", line 696, in _resolve\n    return self._resolve_external(identifier, run_namespace=run_namespace)\n  File \"/anaconda3/envs/my-brian2-env/lib/python3.6/site-packages/brian2/groups/group.py\", line 807, in _resolve_external\n    (identifier))\nKeyError: 'The identifier \"chicoup\" could not be resolved.'\n\nError encountered with object named \"neurongroup_24\".\nObject was created here (most recent call only, full details in debug log):\n  File \"<ipython-input-96-829a480d42ff>\", line 161, in <module>\n    somas = NeuronGroup(Nsoma, eqs_soma, threshold='v>0*mV',refractory='v > 0*mV',method='rk4')\n\nAn error occurred when preparing an object. KeyError: 'The identifier \"chicoup\" could not be resolved.'\n(See above for original error message and traceback.)"
     ]
    }
   ],
   "source": [
    "duration = 20*ms\n",
    "run(duration,report='stdout')"
   ]
  },
  {
   "cell_type": "code",
   "execution_count": 64,
   "metadata": {},
   "outputs": [
    {
     "data": {
      "text/plain": [
       "[<matplotlib.lines.Line2D at 0x122472898>]"
      ]
     },
     "execution_count": 64,
     "metadata": {},
     "output_type": "execute_result"
    },
    {
     "data": {
      "image/png": "[encoded data removed]",
      "text/plain": [
       "<Figure size 432x288 with 1 Axes>"
      ]
     },
     "metadata": {},
     "output_type": "display_data"
    }
   ],
   "source": [
    "# plot(Msoma.t/ms,Msoma[0].chi/umolar)\n",
    "# plot(Msoma.t/ms,Msoma[0].v/mV)\n",
    "# plot(Msoma.t/ms,Msoma[0].Iin/amp)\n",
    "# plot(Msoma.t/ms,Msoma[0].Ica/mV)\n"
   ]
  },
  {
   "cell_type": "code",
   "execution_count": null,
   "metadata": {},
   "outputs": [],
   "source": []
  },
  {
   "cell_type": "code",
   "execution_count": 59,
   "metadata": {},
   "outputs": [
    {
     "data": {
      "text/plain": [
       "[<matplotlib.lines.Line2D at 0x120bac6d8>]"
      ]
     },
     "execution_count": 59,
     "metadata": {},
     "output_type": "execute_result"
    },
    {
     "data": {
      "image/png": "[encoded data removed]",
      "text/plain": [
       "<Figure size 432x288 with 1 Axes>"
      ]
     },
     "metadata": {},
     "output_type": "display_data"
    }
   ],
   "source": [
    "v= linspace(-70,50,1001)*mV\n",
    "fv = exp(0.00055*q*(v/mV-11)*zeta(v))\n",
    "#fv = 0.016*(-24.9-v/mV)/(exp((-24.9-v/mV)/5.0)-1.0)\n",
    "fv2 = 1/(1+fv)\n",
    "plot(v,fv2)"
   ]
  },
  {
   "cell_type": "code",
   "execution_count": 108,
   "metadata": {},
   "outputs": [
    {
     "data": {
      "text/plain": [
       "[<matplotlib.lines.Line2D at 0x120d0c4e0>]"
      ]
     },
     "execution_count": 108,
     "metadata": {},
     "output_type": "execute_result"
    },
    {
     "data": {
      "image/png": "[encoded data removed]",
      "text/plain": [
       "<Figure size 432x288 with 1 Axes>"
      ]
     },
     "metadata": {},
     "output_type": "display_data"
    }
   ],
   "source": [
    "v= linspace(-70,60,1001)*mV\n",
    "fv1=exp(0.001*zeta(v)*(v/mV-11)*q)  \n",
    "fv2=exp(0.00055*q*(v/mV-11)*zeta(v))\n",
    "# dfv=(fvinf-a_soma)/(a_somatau) \n",
    "zetav = zeta(v)\n",
    "fvinf=1/(1+fv1) \n",
    "fvtau=np.maximum(fv2/((1+fv1)*qt*0.05),0.1*np.ones(1001))\n",
    "plot(v/mV,fvtau)\n",
    "# xlim(-60,-40)\n",
    "# ylim(0,0.01)"
   ]
  },
  {
   "cell_type": "code",
   "execution_count": 67,
   "metadata": {},
   "outputs": [
    {
     "data": {
      "text/plain": [
       "array([0.56142975, 0.56494181, 0.56847265, ..., 5.98774474, 5.96814279,\n",
       "       5.94857873])"
      ]
     },
     "execution_count": 67,
     "metadata": {},
     "output_type": "execute_result"
    }
   ],
   "source": [
    "fv2/((1+fv1)*qt*0.05)-0.1*np.ones(1001)"
   ]
  },
  {
   "cell_type": "code",
   "execution_count": 107,
   "metadata": {},
   "outputs": [
    {
     "data": {
      "text/plain": [
       "[<matplotlib.lines.Line2D at 0x11f6b8b70>]"
      ]
     },
     "execution_count": 107,
     "metadata": {},
     "output_type": "execute_result"
    },
    {
     "data": {
      "image/png": "[encoded data removed]",
      "text/plain": [
       "<Figure size 432x288 with 1 Axes>"
      ]
     },
     "metadata": {},
     "output_type": "display_data"
    }
   ],
   "source": [
    "v= linspace(-70,60,1001)*mV\n",
    "\n",
    "alpham = (0.32/mV) * (v+54*mV) / (-exp((-v-54*mV) / (4*mV)) + 1) \n",
    "betam = (0.28/mV) * (v+27*mV)/ (exp((v+27*mV)/(5*mV)) - 1)\n",
    "taum = 1/(alpham+betam)\n",
    "minf = alpham*taum\n",
    "\n",
    "plot(v/mV,taum)"
   ]
  },
  {
   "cell_type": "code",
   "execution_count": 8,
   "metadata": {},
   "outputs": [
    {
     "data": {
      "text/plain": [
       "[<matplotlib.lines.Line2D at 0x11c316d30>]"
      ]
     },
     "execution_count": 8,
     "metadata": {},
     "output_type": "execute_result"
    },
    {
     "data": {
      "image/png": "[encoded data removed]",
      "text/plain": [
       "<Figure size 432x288 with 1 Axes>"
      ]
     },
     "metadata": {},
     "output_type": "display_data"
    }
   ],
   "source": [
    "v= linspace(-80,80,1001)*mV\n",
    "\n",
    "\n",
    "zetav = zeta(v/mV)\n",
    "plot(v/mV,zetav)"
   ]
  },
  {
   "cell_type": "code",
   "execution_count": null,
   "metadata": {},
   "outputs": [],
   "source": []
  },
  {
   "cell_type": "code",
   "execution_count": null,
   "metadata": {},
   "outputs": [],
   "source": []
  },
  {
   "cell_type": "code",
   "execution_count": null,
   "metadata": {},
   "outputs": [],
   "source": []
  },
  {
   "cell_type": "code",
   "execution_count": 25,
   "metadata": {},
   "outputs": [
    {
     "data": {
      "text/plain": [
       "1.0"
      ]
     },
     "execution_count": 25,
     "metadata": {},
     "output_type": "execute_result"
    }
   ],
   "source": [
    "np.heaviside(1,1)"
   ]
  },
  {
   "cell_type": "code",
   "execution_count": null,
   "metadata": {},
   "outputs": [],
   "source": []
  }
 ],
 "metadata": {
  "kernelspec": {
   "display_name": "Python 3",
   "language": "python",
   "name": "python3"
  },
  "language_info": {
   "codemirror_mode": {
    "name": "ipython",
    "version": 3
   },
   "file_extension": ".py",
   "mimetype": "text/x-python",
   "name": "python",
   "nbconvert_exporter": "python",
   "pygments_lexer": "ipython3",
   "version": "3.6.6"
  }
 },
 "nbformat": 4,
 "nbformat_minor": 2
}
